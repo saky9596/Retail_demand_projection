{
 "cells": [
  {
   "cell_type": "markdown",
   "metadata": {},
   "source": [
    "# Estimating the Demand \n",
    "\n",
    "### Given the values of 5 weeks of data we have to predict the sixth and the seventh week demand.\n",
    "### Demand = num_units_sold_in_week - num_units_returned \n",
    "\n",
    "### We will only the have the following columns in the the test Set: experiment_week, channel_type, store_identifier, product_identifier, category_of_route, supplier_identifier\n"
   ]
  },
  {
   "cell_type": "code",
   "execution_count": 3,
   "metadata": {},
   "outputs": [],
   "source": [
    "#Importing the Basic Libraries Required\n",
    "import pandas as pd \n",
    "import numpy as np \n"
   ]
  },
  {
   "cell_type": "code",
   "execution_count": 155,
   "metadata": {},
   "outputs": [],
   "source": [
    "#Reading the CSV\n",
    "train = pd.read_csv(\"train.csv\")"
   ]
  },
  {
   "cell_type": "code",
   "execution_count": 5,
   "metadata": {},
   "outputs": [
    {
     "data": {
      "text/plain": [
       "(53364883, 10)"
      ]
     },
     "execution_count": 5,
     "metadata": {},
     "output_type": "execute_result"
    }
   ],
   "source": [
    "train.shape"
   ]
  },
  {
   "cell_type": "code",
   "execution_count": 6,
   "metadata": {},
   "outputs": [
    {
     "data": {
      "text/plain": [
       "experiment_week                 object\n",
       "channel_type                    object\n",
       "num_units_sold_in_week           int64\n",
       "sales_revenue_in_week          float64\n",
       "num_units_returned               int64\n",
       "returned_units_revenue_loss    float64\n",
       "store_identifier                object\n",
       "product_identifier              object\n",
       "category_of_route               object\n",
       "supplier_identifier             object\n",
       "dtype: object"
      ]
     },
     "execution_count": 6,
     "metadata": {},
     "output_type": "execute_result"
    }
   ],
   "source": [
    "#columns\n",
    "train.dtypes"
   ]
  },
  {
   "cell_type": "code",
   "execution_count": 7,
   "metadata": {},
   "outputs": [
    {
     "data": {
      "text/html": [
       "<div>\n",
       "<style scoped>\n",
       "    .dataframe tbody tr th:only-of-type {\n",
       "        vertical-align: middle;\n",
       "    }\n",
       "\n",
       "    .dataframe tbody tr th {\n",
       "        vertical-align: top;\n",
       "    }\n",
       "\n",
       "    .dataframe thead th {\n",
       "        text-align: right;\n",
       "    }\n",
       "</style>\n",
       "<table border=\"1\" class=\"dataframe\">\n",
       "  <thead>\n",
       "    <tr style=\"text-align: right;\">\n",
       "      <th></th>\n",
       "      <th>experiment_week</th>\n",
       "      <th>channel_type</th>\n",
       "      <th>num_units_sold_in_week</th>\n",
       "      <th>sales_revenue_in_week</th>\n",
       "      <th>num_units_returned</th>\n",
       "      <th>returned_units_revenue_loss</th>\n",
       "      <th>store_identifier</th>\n",
       "      <th>product_identifier</th>\n",
       "      <th>category_of_route</th>\n",
       "      <th>supplier_identifier</th>\n",
       "    </tr>\n",
       "  </thead>\n",
       "  <tbody>\n",
       "    <tr>\n",
       "      <th>0</th>\n",
       "      <td>Week 1 of 2019</td>\n",
       "      <td>Warehouse Retailers</td>\n",
       "      <td>3</td>\n",
       "      <td>377.1</td>\n",
       "      <td>0</td>\n",
       "      <td>0.0</td>\n",
       "      <td>store_fc6aa</td>\n",
       "      <td>product_cbfad</td>\n",
       "      <td>route_67047</td>\n",
       "      <td>supplier_identifier_055f7</td>\n",
       "    </tr>\n",
       "    <tr>\n",
       "      <th>1</th>\n",
       "      <td>Week 1 of 2019</td>\n",
       "      <td>Warehouse Retailers</td>\n",
       "      <td>4</td>\n",
       "      <td>502.8</td>\n",
       "      <td>0</td>\n",
       "      <td>0.0</td>\n",
       "      <td>store_fc6aa</td>\n",
       "      <td>product_2b363</td>\n",
       "      <td>route_67047</td>\n",
       "      <td>supplier_identifier_055f7</td>\n",
       "    </tr>\n",
       "    <tr>\n",
       "      <th>2</th>\n",
       "      <td>Week 1 of 2019</td>\n",
       "      <td>Warehouse Retailers</td>\n",
       "      <td>4</td>\n",
       "      <td>589.8</td>\n",
       "      <td>0</td>\n",
       "      <td>0.0</td>\n",
       "      <td>store_fc6aa</td>\n",
       "      <td>product_8de14</td>\n",
       "      <td>route_67047</td>\n",
       "      <td>supplier_identifier_055f7</td>\n",
       "    </tr>\n",
       "    <tr>\n",
       "      <th>3</th>\n",
       "      <td>Week 1 of 2019</td>\n",
       "      <td>Warehouse Retailers</td>\n",
       "      <td>4</td>\n",
       "      <td>502.8</td>\n",
       "      <td>0</td>\n",
       "      <td>0.0</td>\n",
       "      <td>store_fc6aa</td>\n",
       "      <td>product_1c00e</td>\n",
       "      <td>route_67047</td>\n",
       "      <td>supplier_identifier_055f7</td>\n",
       "    </tr>\n",
       "    <tr>\n",
       "      <th>4</th>\n",
       "      <td>Week 1 of 2019</td>\n",
       "      <td>Warehouse Retailers</td>\n",
       "      <td>3</td>\n",
       "      <td>343.8</td>\n",
       "      <td>0</td>\n",
       "      <td>0.0</td>\n",
       "      <td>store_fc6aa</td>\n",
       "      <td>product_55001</td>\n",
       "      <td>route_67047</td>\n",
       "      <td>supplier_identifier_055f7</td>\n",
       "    </tr>\n",
       "  </tbody>\n",
       "</table>\n",
       "</div>"
      ],
      "text/plain": [
       "  experiment_week         channel_type  num_units_sold_in_week  \\\n",
       "0  Week 1 of 2019  Warehouse Retailers                       3   \n",
       "1  Week 1 of 2019  Warehouse Retailers                       4   \n",
       "2  Week 1 of 2019  Warehouse Retailers                       4   \n",
       "3  Week 1 of 2019  Warehouse Retailers                       4   \n",
       "4  Week 1 of 2019  Warehouse Retailers                       3   \n",
       "\n",
       "   sales_revenue_in_week  num_units_returned  returned_units_revenue_loss  \\\n",
       "0                  377.1                   0                          0.0   \n",
       "1                  502.8                   0                          0.0   \n",
       "2                  589.8                   0                          0.0   \n",
       "3                  502.8                   0                          0.0   \n",
       "4                  343.8                   0                          0.0   \n",
       "\n",
       "  store_identifier product_identifier category_of_route  \\\n",
       "0      store_fc6aa      product_cbfad       route_67047   \n",
       "1      store_fc6aa      product_2b363       route_67047   \n",
       "2      store_fc6aa      product_8de14       route_67047   \n",
       "3      store_fc6aa      product_1c00e       route_67047   \n",
       "4      store_fc6aa      product_55001       route_67047   \n",
       "\n",
       "         supplier_identifier  \n",
       "0  supplier_identifier_055f7  \n",
       "1  supplier_identifier_055f7  \n",
       "2  supplier_identifier_055f7  \n",
       "3  supplier_identifier_055f7  \n",
       "4  supplier_identifier_055f7  "
      ]
     },
     "execution_count": 7,
     "metadata": {},
     "output_type": "execute_result"
    }
   ],
   "source": [
    "train.head()"
   ]
  },
  {
   "cell_type": "code",
   "execution_count": 157,
   "metadata": {},
   "outputs": [
    {
     "data": {
      "text/html": [
       "<div>\n",
       "<style scoped>\n",
       "    .dataframe tbody tr th:only-of-type {\n",
       "        vertical-align: middle;\n",
       "    }\n",
       "\n",
       "    .dataframe tbody tr th {\n",
       "        vertical-align: top;\n",
       "    }\n",
       "\n",
       "    .dataframe thead th {\n",
       "        text-align: right;\n",
       "    }\n",
       "</style>\n",
       "<table border=\"1\" class=\"dataframe\">\n",
       "  <thead>\n",
       "    <tr style=\"text-align: right;\">\n",
       "      <th></th>\n",
       "      <th>experiment_week</th>\n",
       "      <th>channel_type</th>\n",
       "      <th>num_units_sold_in_week</th>\n",
       "      <th>sales_revenue_in_week</th>\n",
       "      <th>num_units_returned</th>\n",
       "      <th>returned_units_revenue_loss</th>\n",
       "      <th>store_identifier</th>\n",
       "      <th>product_identifier</th>\n",
       "      <th>category_of_route</th>\n",
       "      <th>supplier_identifier</th>\n",
       "    </tr>\n",
       "  </thead>\n",
       "  <tbody>\n",
       "    <tr>\n",
       "      <th>count</th>\n",
       "      <td>53364883</td>\n",
       "      <td>53364883</td>\n",
       "      <td>5.336488e+07</td>\n",
       "      <td>5.336488e+07</td>\n",
       "      <td>5.336488e+07</td>\n",
       "      <td>5.336488e+07</td>\n",
       "      <td>53364883</td>\n",
       "      <td>53364883</td>\n",
       "      <td>53364883</td>\n",
       "      <td>53364883</td>\n",
       "    </tr>\n",
       "    <tr>\n",
       "      <th>unique</th>\n",
       "      <td>5</td>\n",
       "      <td>9</td>\n",
       "      <td>NaN</td>\n",
       "      <td>NaN</td>\n",
       "      <td>NaN</td>\n",
       "      <td>NaN</td>\n",
       "      <td>587773</td>\n",
       "      <td>1736</td>\n",
       "      <td>3490</td>\n",
       "      <td>552</td>\n",
       "    </tr>\n",
       "    <tr>\n",
       "      <th>top</th>\n",
       "      <td>Week 1 of 2019</td>\n",
       "      <td>Grocery Stores</td>\n",
       "      <td>NaN</td>\n",
       "      <td>NaN</td>\n",
       "      <td>NaN</td>\n",
       "      <td>NaN</td>\n",
       "      <td>store_384b1</td>\n",
       "      <td>product_1c00e</td>\n",
       "      <td>route_3b474</td>\n",
       "      <td>supplier_identifier_dc4bc</td>\n",
       "    </tr>\n",
       "    <tr>\n",
       "      <th>freq</th>\n",
       "      <td>11165207</td>\n",
       "      <td>48547255</td>\n",
       "      <td>NaN</td>\n",
       "      <td>NaN</td>\n",
       "      <td>NaN</td>\n",
       "      <td>NaN</td>\n",
       "      <td>88430</td>\n",
       "      <td>1560863</td>\n",
       "      <td>337586</td>\n",
       "      <td>582417</td>\n",
       "    </tr>\n",
       "    <tr>\n",
       "      <th>mean</th>\n",
       "      <td>NaN</td>\n",
       "      <td>NaN</td>\n",
       "      <td>7.304088e+00</td>\n",
       "      <td>1.027445e+03</td>\n",
       "      <td>1.230928e-01</td>\n",
       "      <td>1.219568e+00</td>\n",
       "      <td>NaN</td>\n",
       "      <td>NaN</td>\n",
       "      <td>NaN</td>\n",
       "      <td>NaN</td>\n",
       "    </tr>\n",
       "    <tr>\n",
       "      <th>std</th>\n",
       "      <td>NaN</td>\n",
       "      <td>NaN</td>\n",
       "      <td>2.189756e+01</td>\n",
       "      <td>5.128563e+03</td>\n",
       "      <td>4.223174e+00</td>\n",
       "      <td>3.932746e+01</td>\n",
       "      <td>NaN</td>\n",
       "      <td>NaN</td>\n",
       "      <td>NaN</td>\n",
       "      <td>NaN</td>\n",
       "    </tr>\n",
       "    <tr>\n",
       "      <th>min</th>\n",
       "      <td>NaN</td>\n",
       "      <td>NaN</td>\n",
       "      <td>0.000000e+00</td>\n",
       "      <td>0.000000e+00</td>\n",
       "      <td>0.000000e+00</td>\n",
       "      <td>0.000000e+00</td>\n",
       "      <td>NaN</td>\n",
       "      <td>NaN</td>\n",
       "      <td>NaN</td>\n",
       "      <td>NaN</td>\n",
       "    </tr>\n",
       "    <tr>\n",
       "      <th>25%</th>\n",
       "      <td>NaN</td>\n",
       "      <td>NaN</td>\n",
       "      <td>2.000000e+00</td>\n",
       "      <td>2.514000e+02</td>\n",
       "      <td>0.000000e+00</td>\n",
       "      <td>0.000000e+00</td>\n",
       "      <td>NaN</td>\n",
       "      <td>NaN</td>\n",
       "      <td>NaN</td>\n",
       "      <td>NaN</td>\n",
       "    </tr>\n",
       "    <tr>\n",
       "      <th>50%</th>\n",
       "      <td>NaN</td>\n",
       "      <td>NaN</td>\n",
       "      <td>3.000000e+00</td>\n",
       "      <td>4.500000e+02</td>\n",
       "      <td>0.000000e+00</td>\n",
       "      <td>0.000000e+00</td>\n",
       "      <td>NaN</td>\n",
       "      <td>NaN</td>\n",
       "      <td>NaN</td>\n",
       "      <td>NaN</td>\n",
       "    </tr>\n",
       "    <tr>\n",
       "      <th>75%</th>\n",
       "      <td>NaN</td>\n",
       "      <td>NaN</td>\n",
       "      <td>7.000000e+00</td>\n",
       "      <td>8.437500e+02</td>\n",
       "      <td>0.000000e+00</td>\n",
       "      <td>0.000000e+00</td>\n",
       "      <td>NaN</td>\n",
       "      <td>NaN</td>\n",
       "      <td>NaN</td>\n",
       "      <td>NaN</td>\n",
       "    </tr>\n",
       "    <tr>\n",
       "      <th>max</th>\n",
       "      <td>NaN</td>\n",
       "      <td>NaN</td>\n",
       "      <td>5.000000e+03</td>\n",
       "      <td>9.710400e+06</td>\n",
       "      <td>1.634500e+04</td>\n",
       "      <td>1.307600e+05</td>\n",
       "      <td>NaN</td>\n",
       "      <td>NaN</td>\n",
       "      <td>NaN</td>\n",
       "      <td>NaN</td>\n",
       "    </tr>\n",
       "  </tbody>\n",
       "</table>\n",
       "</div>"
      ],
      "text/plain": [
       "       experiment_week    channel_type  num_units_sold_in_week  \\\n",
       "count         53364883        53364883            5.336488e+07   \n",
       "unique               5               9                     NaN   \n",
       "top     Week 1 of 2019  Grocery Stores                     NaN   \n",
       "freq          11165207        48547255                     NaN   \n",
       "mean               NaN             NaN            7.304088e+00   \n",
       "std                NaN             NaN            2.189756e+01   \n",
       "min                NaN             NaN            0.000000e+00   \n",
       "25%                NaN             NaN            2.000000e+00   \n",
       "50%                NaN             NaN            3.000000e+00   \n",
       "75%                NaN             NaN            7.000000e+00   \n",
       "max                NaN             NaN            5.000000e+03   \n",
       "\n",
       "        sales_revenue_in_week  num_units_returned  \\\n",
       "count            5.336488e+07        5.336488e+07   \n",
       "unique                    NaN                 NaN   \n",
       "top                       NaN                 NaN   \n",
       "freq                      NaN                 NaN   \n",
       "mean             1.027445e+03        1.230928e-01   \n",
       "std              5.128563e+03        4.223174e+00   \n",
       "min              0.000000e+00        0.000000e+00   \n",
       "25%              2.514000e+02        0.000000e+00   \n",
       "50%              4.500000e+02        0.000000e+00   \n",
       "75%              8.437500e+02        0.000000e+00   \n",
       "max              9.710400e+06        1.634500e+04   \n",
       "\n",
       "        returned_units_revenue_loss store_identifier product_identifier  \\\n",
       "count                  5.336488e+07         53364883           53364883   \n",
       "unique                          NaN           587773               1736   \n",
       "top                             NaN      store_384b1      product_1c00e   \n",
       "freq                            NaN            88430            1560863   \n",
       "mean                   1.219568e+00              NaN                NaN   \n",
       "std                    3.932746e+01              NaN                NaN   \n",
       "min                    0.000000e+00              NaN                NaN   \n",
       "25%                    0.000000e+00              NaN                NaN   \n",
       "50%                    0.000000e+00              NaN                NaN   \n",
       "75%                    0.000000e+00              NaN                NaN   \n",
       "max                    1.307600e+05              NaN                NaN   \n",
       "\n",
       "       category_of_route        supplier_identifier  \n",
       "count           53364883                   53364883  \n",
       "unique              3490                        552  \n",
       "top          route_3b474  supplier_identifier_dc4bc  \n",
       "freq              337586                     582417  \n",
       "mean                 NaN                        NaN  \n",
       "std                  NaN                        NaN  \n",
       "min                  NaN                        NaN  \n",
       "25%                  NaN                        NaN  \n",
       "50%                  NaN                        NaN  \n",
       "75%                  NaN                        NaN  \n",
       "max                  NaN                        NaN  "
      ]
     },
     "execution_count": 157,
     "metadata": {},
     "output_type": "execute_result"
    }
   ],
   "source": [
    "train.describe(include=\"all\")"
   ]
  },
  {
   "cell_type": "code",
   "execution_count": 8,
   "metadata": {},
   "outputs": [
    {
     "data": {
      "text/html": [
       "<div>\n",
       "<style scoped>\n",
       "    .dataframe tbody tr th:only-of-type {\n",
       "        vertical-align: middle;\n",
       "    }\n",
       "\n",
       "    .dataframe tbody tr th {\n",
       "        vertical-align: top;\n",
       "    }\n",
       "\n",
       "    .dataframe thead th {\n",
       "        text-align: right;\n",
       "    }\n",
       "</style>\n",
       "<table border=\"1\" class=\"dataframe\">\n",
       "  <thead>\n",
       "    <tr style=\"text-align: right;\">\n",
       "      <th></th>\n",
       "      <th>num_units_sold_in_week</th>\n",
       "      <th>sales_revenue_in_week</th>\n",
       "      <th>num_units_returned</th>\n",
       "      <th>returned_units_revenue_loss</th>\n",
       "    </tr>\n",
       "  </thead>\n",
       "  <tbody>\n",
       "    <tr>\n",
       "      <th>num_units_sold_in_week</th>\n",
       "      <td>1.000000</td>\n",
       "      <td>0.726546</td>\n",
       "      <td>0.053391</td>\n",
       "      <td>0.056004</td>\n",
       "    </tr>\n",
       "    <tr>\n",
       "      <th>sales_revenue_in_week</th>\n",
       "      <td>0.726546</td>\n",
       "      <td>1.000000</td>\n",
       "      <td>0.033727</td>\n",
       "      <td>0.051192</td>\n",
       "    </tr>\n",
       "    <tr>\n",
       "      <th>num_units_returned</th>\n",
       "      <td>0.053391</td>\n",
       "      <td>0.033727</td>\n",
       "      <td>1.000000</td>\n",
       "      <td>0.879054</td>\n",
       "    </tr>\n",
       "    <tr>\n",
       "      <th>returned_units_revenue_loss</th>\n",
       "      <td>0.056004</td>\n",
       "      <td>0.051192</td>\n",
       "      <td>0.879054</td>\n",
       "      <td>1.000000</td>\n",
       "    </tr>\n",
       "  </tbody>\n",
       "</table>\n",
       "</div>"
      ],
      "text/plain": [
       "                             num_units_sold_in_week  sales_revenue_in_week  \\\n",
       "num_units_sold_in_week                     1.000000               0.726546   \n",
       "sales_revenue_in_week                      0.726546               1.000000   \n",
       "num_units_returned                         0.053391               0.033727   \n",
       "returned_units_revenue_loss                0.056004               0.051192   \n",
       "\n",
       "                             num_units_returned  returned_units_revenue_loss  \n",
       "num_units_sold_in_week                 0.053391                     0.056004  \n",
       "sales_revenue_in_week                  0.033727                     0.051192  \n",
       "num_units_returned                     1.000000                     0.879054  \n",
       "returned_units_revenue_loss            0.879054                     1.000000  "
      ]
     },
     "execution_count": 8,
     "metadata": {},
     "output_type": "execute_result"
    }
   ],
   "source": [
    "train.corr()"
   ]
  },
  {
   "cell_type": "code",
   "execution_count": 152,
   "metadata": {},
   "outputs": [],
   "source": [
    "#Taking only a sample for the visualisations\n",
    "trainnew=train.sample(n=500000,random_state=245638)"
   ]
  },
  {
   "cell_type": "code",
   "execution_count": 153,
   "metadata": {},
   "outputs": [
    {
     "data": {
      "image/png": "[encoded data removed]",
      "text/plain": [
       "<Figure size 720x720 with 2 Axes>"
      ]
     },
     "metadata": {
      "needs_background": "light"
     },
     "output_type": "display_data"
    }
   ],
   "source": [
    "import matplotlib.pyplot as plt\n",
    "import seaborn as sns \n",
    "\n",
    "# Getting the heat Map of Correlation\n",
    "plt.figure(figsize=(10,10))\n",
    "sns.heatmap(trainnew.corr())\n",
    "plt.show()\n"
   ]
  },
  {
   "cell_type": "markdown",
   "metadata": {},
   "source": [
    "### Channel wise Sum of Sales "
   ]
  },
  {
   "cell_type": "code",
   "execution_count": 11,
   "metadata": {},
   "outputs": [
    {
     "data": {
      "image/png": "[encoded data removed]",
      "text/plain": [
       "<Figure size 1440x720 with 1 Axes>"
      ]
     },
     "metadata": {
      "needs_background": "light"
     },
     "output_type": "display_data"
    }
   ],
   "source": [
    "d1=trainnew.groupby(['channel_type'])['num_units_sold_in_week'].sum().reset_index()\n",
    "d1=d1.sort_values(\"num_units_sold_in_week\",ascending=False)\n",
    "\n",
    "plt.figure(figsize=(20,10))\n",
    "sns.barplot(x=\"channel_type\",y=\"num_units_sold_in_week\",data=d1)\n",
    "plt.show()"
   ]
  },
  {
   "cell_type": "markdown",
   "metadata": {},
   "source": [
    "##### Grocery Stores seem to have the most sales"
   ]
  },
  {
   "cell_type": "markdown",
   "metadata": {},
   "source": [
    "### Weekwise Number of Units Sold"
   ]
  },
  {
   "cell_type": "code",
   "execution_count": 12,
   "metadata": {},
   "outputs": [
    {
     "data": {
      "image/png": "[encoded data removed]",
      "text/plain": [
       "<Figure size 720x360 with 1 Axes>"
      ]
     },
     "metadata": {
      "needs_background": "light"
     },
     "output_type": "display_data"
    }
   ],
   "source": [
    "d1=trainnew.groupby(['experiment_week'])['num_units_sold_in_week'].sum().reset_index()\n",
    "d1=d1.sort_values(\"num_units_sold_in_week\",ascending=False)\n",
    "\n",
    "plt.figure(figsize=(10,5))\n",
    "sns.barplot(x=\"experiment_week\",y=\"num_units_sold_in_week\",data=d1)\n",
    "plt.show()"
   ]
  },
  {
   "cell_type": "markdown",
   "metadata": {},
   "source": [
    "### Week wise Number of Units Returned"
   ]
  },
  {
   "cell_type": "code",
   "execution_count": 13,
   "metadata": {},
   "outputs": [
    {
     "data": {
      "image/png": "[encoded data removed]",
      "text/plain": [
       "<Figure size 720x504 with 1 Axes>"
      ]
     },
     "metadata": {
      "needs_background": "light"
     },
     "output_type": "display_data"
    }
   ],
   "source": [
    "d1=trainnew.groupby(['experiment_week'])['num_units_returned'].sum().reset_index()\n",
    "d1=d1.sort_values(\"num_units_returned\",ascending=False)\n",
    "\n",
    "plt.figure(figsize=(10,7))\n",
    "sns.barplot(x=\"experiment_week\",y=\"num_units_returned\",data=d1)\n",
    "plt.show()"
   ]
  },
  {
   "cell_type": "markdown",
   "metadata": {},
   "source": [
    "##### we can see from the above that the number of units returned are increasing day by day, it might be because the perishable goods are being returned proceeding weeks. We might be able to capture this pattern "
   ]
  },
  {
   "cell_type": "markdown",
   "metadata": {},
   "source": [
    "### Week wise Sales "
   ]
  },
  {
   "cell_type": "code",
   "execution_count": 14,
   "metadata": {},
   "outputs": [
    {
     "data": {
      "image/png": "[encoded data removed]",
      "text/plain": [
       "<Figure size 720x504 with 1 Axes>"
      ]
     },
     "metadata": {
      "needs_background": "light"
     },
     "output_type": "display_data"
    }
   ],
   "source": [
    "d1=trainnew.groupby(['experiment_week'])['sales_revenue_in_week'].sum().reset_index()\n",
    "d1=d1.sort_values(\"sales_revenue_in_week\",ascending=False)\n",
    "\n",
    "plt.figure(figsize=(10,7))\n",
    "sns.barplot(x=\"experiment_week\",y=\"sales_revenue_in_week\",data=d1)\n",
    "plt.show()"
   ]
  },
  {
   "cell_type": "markdown",
   "metadata": {},
   "source": [
    "##### Except for week 4 most of the weeks sales are similar, we can probably use this as one of the features(as in the average sales per week for item)"
   ]
  },
  {
   "cell_type": "markdown",
   "metadata": {},
   "source": [
    "### Week wise Loss "
   ]
  },
  {
   "cell_type": "code",
   "execution_count": 15,
   "metadata": {},
   "outputs": [
    {
     "data": {
      "image/png": "[encoded data removed]",
      "text/plain": [
       "<Figure size 720x504 with 1 Axes>"
      ]
     },
     "metadata": {
      "needs_background": "light"
     },
     "output_type": "display_data"
    }
   ],
   "source": [
    "d1=trainnew.groupby(['experiment_week'])['returned_units_revenue_loss'].sum().reset_index()\n",
    "d1=d1.sort_values(\"returned_units_revenue_loss\",ascending=False)\n",
    "\n",
    "plt.figure(figsize=(10,7))\n",
    "sns.barplot(x=\"experiment_week\",y=\"returned_units_revenue_loss\",data=d1)\n",
    "plt.show()"
   ]
  },
  {
   "cell_type": "code",
   "execution_count": 16,
   "metadata": {},
   "outputs": [
    {
     "data": {
      "text/plain": [
       "<matplotlib.axes._subplots.AxesSubplot at 0x118e1d048>"
      ]
     },
     "execution_count": 16,
     "metadata": {},
     "output_type": "execute_result"
    },
    {
     "data": {
      "image/png": "[encoded data removed]",
      "text/plain": [
       "<Figure size 432x288 with 1 Axes>"
      ]
     },
     "metadata": {
      "needs_background": "light"
     },
     "output_type": "display_data"
    }
   ],
   "source": [
    "sns.lineplot(x=\"experiment_week\",y=\"returned_units_revenue_loss\",data=d1)"
   ]
  },
  {
   "cell_type": "markdown",
   "metadata": {},
   "source": [
    "## Generating Demand and Gross Revenue "
   ]
  },
  {
   "cell_type": "code",
   "execution_count": 17,
   "metadata": {},
   "outputs": [],
   "source": [
    "#Here we are calculating Demand which is number of units sold in week - number of units returned, and we are also\n",
    "#calculating gross revenue which I am keeping as sales revenue in week - returned units revenue loss.\n",
    "trainnew[\"Demand\"]=trainnew[\"num_units_sold_in_week\"]-trainnew[\"num_units_returned\"]\n",
    "trainnew[\"Gross_Revenue\"]=trainnew[\"sales_revenue_in_week\"]-trainnew[\"returned_units_revenue_loss\"]"
   ]
  },
  {
   "cell_type": "markdown",
   "metadata": {},
   "source": [
    "### Week Wise Demand "
   ]
  },
  {
   "cell_type": "code",
   "execution_count": 18,
   "metadata": {},
   "outputs": [
    {
     "data": {
      "image/png": "[encoded data removed]",
      "text/plain": [
       "<Figure size 720x504 with 1 Axes>"
      ]
     },
     "metadata": {
      "needs_background": "light"
     },
     "output_type": "display_data"
    }
   ],
   "source": [
    "d1=trainnew.groupby(['experiment_week'])['Demand'].sum().reset_index()\n",
    "d1=d1.sort_values(\"Demand\",ascending=False)\n",
    "\n",
    "plt.figure(figsize=(10,7))\n",
    "sns.barplot(x=\"experiment_week\",y=\"Demand\",data=d1)\n",
    "plt.show()"
   ]
  },
  {
   "cell_type": "code",
   "execution_count": 19,
   "metadata": {},
   "outputs": [
    {
     "data": {
      "image/png": "[encoded data removed]",
      "text/plain": [
       "<Figure size 720x360 with 1 Axes>"
      ]
     },
     "metadata": {
      "needs_background": "light"
     },
     "output_type": "display_data"
    }
   ],
   "source": [
    "plt.figure(figsize=(10,5))\n",
    "sns.lineplot(x=\"experiment_week\",y=\"Demand\",data=d1)\n",
    "plt.show()"
   ]
  },
  {
   "cell_type": "markdown",
   "metadata": {},
   "source": [
    "### Week Wise Gross Revenue "
   ]
  },
  {
   "cell_type": "code",
   "execution_count": 20,
   "metadata": {},
   "outputs": [
    {
     "data": {
      "image/png": "[encoded data removed]",
      "text/plain": [
       "<Figure size 720x504 with 1 Axes>"
      ]
     },
     "metadata": {
      "needs_background": "light"
     },
     "output_type": "display_data"
    }
   ],
   "source": [
    "d1=trainnew.groupby(['experiment_week'])['Gross_Revenue'].sum().reset_index()\n",
    "d1=d1.sort_values(\"Gross_Revenue\",ascending=False)\n",
    "\n",
    "plt.figure(figsize=(10,7))\n",
    "sns.barplot(x=\"experiment_week\",y=\"Gross_Revenue\",data=d1)\n",
    "plt.show()"
   ]
  },
  {
   "cell_type": "code",
   "execution_count": 21,
   "metadata": {},
   "outputs": [
    {
     "data": {
      "image/png": "[encoded data removed]",
      "text/plain": [
       "<Figure size 720x360 with 1 Axes>"
      ]
     },
     "metadata": {
      "needs_background": "light"
     },
     "output_type": "display_data"
    }
   ],
   "source": [
    "plt.figure(figsize=(10,5))\n",
    "sns.lineplot(x=\"experiment_week\",y=\"Gross_Revenue\",data=d1)\n",
    "plt.show()"
   ]
  },
  {
   "cell_type": "code",
   "execution_count": 240,
   "metadata": {},
   "outputs": [
    {
     "data": {
      "text/plain": [
       "0.09433962264150944"
      ]
     },
     "execution_count": 240,
     "metadata": {},
     "output_type": "execute_result"
    }
   ],
   "source": [
    "0.1/1.06 #the variation in Gross Revenue is about 9.5% "
   ]
  },
  {
   "cell_type": "markdown",
   "metadata": {},
   "source": [
    "##### Here we can see that except for week 4, there is not much difference in the Gross Revenue"
   ]
  },
  {
   "cell_type": "markdown",
   "metadata": {},
   "source": [
    "## Feature Extraction"
   ]
  },
  {
   "cell_type": "code",
   "execution_count": 164,
   "metadata": {},
   "outputs": [],
   "source": [
    "trainnew=train"
   ]
  },
  {
   "cell_type": "code",
   "execution_count": 172,
   "metadata": {},
   "outputs": [
    {
     "data": {
      "text/html": [
       "<div>\n",
       "<style scoped>\n",
       "    .dataframe tbody tr th:only-of-type {\n",
       "        vertical-align: middle;\n",
       "    }\n",
       "\n",
       "    .dataframe tbody tr th {\n",
       "        vertical-align: top;\n",
       "    }\n",
       "\n",
       "    .dataframe thead th {\n",
       "        text-align: right;\n",
       "    }\n",
       "</style>\n",
       "<table border=\"1\" class=\"dataframe\">\n",
       "  <thead>\n",
       "    <tr style=\"text-align: right;\">\n",
       "      <th></th>\n",
       "      <th>experiment_week</th>\n",
       "      <th>channel_type</th>\n",
       "      <th>num_units_sold_in_week</th>\n",
       "      <th>sales_revenue_in_week</th>\n",
       "      <th>num_units_returned</th>\n",
       "      <th>returned_units_revenue_loss</th>\n",
       "      <th>store_identifier</th>\n",
       "      <th>product_identifier</th>\n",
       "      <th>category_of_route</th>\n",
       "      <th>supplier_identifier</th>\n",
       "      <th>Demand</th>\n",
       "      <th>Gross_Revenue</th>\n",
       "    </tr>\n",
       "  </thead>\n",
       "  <tbody>\n",
       "    <tr>\n",
       "      <th>0</th>\n",
       "      <td>Week 1 of 2019</td>\n",
       "      <td>Warehouse Retailers</td>\n",
       "      <td>3</td>\n",
       "      <td>377.1</td>\n",
       "      <td>0</td>\n",
       "      <td>0.0</td>\n",
       "      <td>store_fc6aa</td>\n",
       "      <td>product_cbfad</td>\n",
       "      <td>route_67047</td>\n",
       "      <td>supplier_identifier_055f7</td>\n",
       "      <td>3</td>\n",
       "      <td>377.1</td>\n",
       "    </tr>\n",
       "    <tr>\n",
       "      <th>1</th>\n",
       "      <td>Week 1 of 2019</td>\n",
       "      <td>Warehouse Retailers</td>\n",
       "      <td>4</td>\n",
       "      <td>502.8</td>\n",
       "      <td>0</td>\n",
       "      <td>0.0</td>\n",
       "      <td>store_fc6aa</td>\n",
       "      <td>product_2b363</td>\n",
       "      <td>route_67047</td>\n",
       "      <td>supplier_identifier_055f7</td>\n",
       "      <td>4</td>\n",
       "      <td>502.8</td>\n",
       "    </tr>\n",
       "    <tr>\n",
       "      <th>2</th>\n",
       "      <td>Week 1 of 2019</td>\n",
       "      <td>Warehouse Retailers</td>\n",
       "      <td>4</td>\n",
       "      <td>589.8</td>\n",
       "      <td>0</td>\n",
       "      <td>0.0</td>\n",
       "      <td>store_fc6aa</td>\n",
       "      <td>product_8de14</td>\n",
       "      <td>route_67047</td>\n",
       "      <td>supplier_identifier_055f7</td>\n",
       "      <td>4</td>\n",
       "      <td>589.8</td>\n",
       "    </tr>\n",
       "    <tr>\n",
       "      <th>3</th>\n",
       "      <td>Week 1 of 2019</td>\n",
       "      <td>Warehouse Retailers</td>\n",
       "      <td>4</td>\n",
       "      <td>502.8</td>\n",
       "      <td>0</td>\n",
       "      <td>0.0</td>\n",
       "      <td>store_fc6aa</td>\n",
       "      <td>product_1c00e</td>\n",
       "      <td>route_67047</td>\n",
       "      <td>supplier_identifier_055f7</td>\n",
       "      <td>4</td>\n",
       "      <td>502.8</td>\n",
       "    </tr>\n",
       "    <tr>\n",
       "      <th>4</th>\n",
       "      <td>Week 1 of 2019</td>\n",
       "      <td>Warehouse Retailers</td>\n",
       "      <td>3</td>\n",
       "      <td>343.8</td>\n",
       "      <td>0</td>\n",
       "      <td>0.0</td>\n",
       "      <td>store_fc6aa</td>\n",
       "      <td>product_55001</td>\n",
       "      <td>route_67047</td>\n",
       "      <td>supplier_identifier_055f7</td>\n",
       "      <td>3</td>\n",
       "      <td>343.8</td>\n",
       "    </tr>\n",
       "  </tbody>\n",
       "</table>\n",
       "</div>"
      ],
      "text/plain": [
       "  experiment_week         channel_type  num_units_sold_in_week  \\\n",
       "0  Week 1 of 2019  Warehouse Retailers                       3   \n",
       "1  Week 1 of 2019  Warehouse Retailers                       4   \n",
       "2  Week 1 of 2019  Warehouse Retailers                       4   \n",
       "3  Week 1 of 2019  Warehouse Retailers                       4   \n",
       "4  Week 1 of 2019  Warehouse Retailers                       3   \n",
       "\n",
       "   sales_revenue_in_week  num_units_returned  returned_units_revenue_loss  \\\n",
       "0                  377.1                   0                          0.0   \n",
       "1                  502.8                   0                          0.0   \n",
       "2                  589.8                   0                          0.0   \n",
       "3                  502.8                   0                          0.0   \n",
       "4                  343.8                   0                          0.0   \n",
       "\n",
       "  store_identifier product_identifier category_of_route  \\\n",
       "0      store_fc6aa      product_cbfad       route_67047   \n",
       "1      store_fc6aa      product_2b363       route_67047   \n",
       "2      store_fc6aa      product_8de14       route_67047   \n",
       "3      store_fc6aa      product_1c00e       route_67047   \n",
       "4      store_fc6aa      product_55001       route_67047   \n",
       "\n",
       "         supplier_identifier  Demand  Gross_Revenue  \n",
       "0  supplier_identifier_055f7       3          377.1  \n",
       "1  supplier_identifier_055f7       4          502.8  \n",
       "2  supplier_identifier_055f7       4          589.8  \n",
       "3  supplier_identifier_055f7       4          502.8  \n",
       "4  supplier_identifier_055f7       3          343.8  "
      ]
     },
     "execution_count": 172,
     "metadata": {},
     "output_type": "execute_result"
    }
   ],
   "source": [
    "#Here we are calculating Demand which is number of units sold in week - number of units returned, and we are also\n",
    "#calculating gross revenue which I am keeping as sales revenue in week - returned units revenue loss.\n",
    "\n",
    "trainnew[\"Demand\"]=trainnew[\"num_units_sold_in_week\"]-trainnew[\"num_units_returned\"]\n",
    "trainnew[\"Gross_Revenue\"]=trainnew[\"sales_revenue_in_week\"]-trainnew[\"returned_units_revenue_loss\"]\n",
    "trainnew.head()"
   ]
  },
  {
   "cell_type": "code",
   "execution_count": 25,
   "metadata": {},
   "outputs": [],
   "source": [
    "traindata=trainnew[trainnew.experiment_week!='Week 5 of 2019']"
   ]
  },
  {
   "cell_type": "code",
   "execution_count": 26,
   "metadata": {},
   "outputs": [
    {
     "data": {
      "text/plain": [
       "(42982034, 12)"
      ]
     },
     "execution_count": 26,
     "metadata": {},
     "output_type": "execute_result"
    }
   ],
   "source": [
    "traindata.shape"
   ]
  },
  {
   "cell_type": "code",
   "execution_count": 27,
   "metadata": {},
   "outputs": [
    {
     "data": {
      "text/plain": [
       "Index(['experiment_week', 'channel_type', 'num_units_sold_in_week',\n",
       "       'sales_revenue_in_week', 'num_units_returned',\n",
       "       'returned_units_revenue_loss', 'store_identifier', 'product_identifier',\n",
       "       'category_of_route', 'supplier_identifier', 'Demand', 'Gross_Revenue'],\n",
       "      dtype='object')"
      ]
     },
     "execution_count": 27,
     "metadata": {},
     "output_type": "execute_result"
    }
   ],
   "source": [
    "traindata.columns"
   ]
  },
  {
   "cell_type": "code",
   "execution_count": 28,
   "metadata": {},
   "outputs": [
    {
     "name": "stderr",
     "output_type": "stream",
     "text": [
      "/Users/saketh/anaconda3/lib/python3.7/site-packages/pandas/core/frame.py:3940: SettingWithCopyWarning: \n",
      "A value is trying to be set on a copy of a slice from a DataFrame\n",
      "\n",
      "See the caveats in the documentation: http://pandas.pydata.org/pandas-docs/stable/indexing.html#indexing-view-versus-copy\n",
      "  errors=errors)\n"
     ]
    }
   ],
   "source": [
    "traindata.drop(['num_units_sold_in_week',\n",
    "       'sales_revenue_in_week', 'num_units_returned',\n",
    "       'returned_units_revenue_loss'],axis=1,inplace=True)"
   ]
  },
  {
   "cell_type": "markdown",
   "metadata": {},
   "source": [
    "## Supplier Identifier\n",
    "\n",
    "Here we will segregate all the suppliers into clusters "
   ]
  },
  {
   "cell_type": "code",
   "execution_count": 29,
   "metadata": {},
   "outputs": [],
   "source": [
    "suppiden=traindata.groupby(\"supplier_identifier\").sum()"
   ]
  },
  {
   "cell_type": "code",
   "execution_count": 30,
   "metadata": {},
   "outputs": [
    {
     "data": {
      "text/html": [
       "<div>\n",
       "<style scoped>\n",
       "    .dataframe tbody tr th:only-of-type {\n",
       "        vertical-align: middle;\n",
       "    }\n",
       "\n",
       "    .dataframe tbody tr th {\n",
       "        vertical-align: top;\n",
       "    }\n",
       "\n",
       "    .dataframe thead th {\n",
       "        text-align: right;\n",
       "    }\n",
       "</style>\n",
       "<table border=\"1\" class=\"dataframe\">\n",
       "  <thead>\n",
       "    <tr style=\"text-align: right;\">\n",
       "      <th></th>\n",
       "      <th>Demand</th>\n",
       "      <th>Gross_Revenue</th>\n",
       "    </tr>\n",
       "    <tr>\n",
       "      <th>supplier_identifier</th>\n",
       "      <th></th>\n",
       "      <th></th>\n",
       "    </tr>\n",
       "  </thead>\n",
       "  <tbody>\n",
       "    <tr>\n",
       "      <th>supplier_identifier_00150</th>\n",
       "      <td>64031</td>\n",
       "      <td>8.940494e+06</td>\n",
       "    </tr>\n",
       "    <tr>\n",
       "      <th>supplier_identifier_00629</th>\n",
       "      <td>122968</td>\n",
       "      <td>1.593463e+07</td>\n",
       "    </tr>\n",
       "    <tr>\n",
       "      <th>supplier_identifier_023e3</th>\n",
       "      <td>1021438</td>\n",
       "      <td>1.247190e+08</td>\n",
       "    </tr>\n",
       "    <tr>\n",
       "      <th>supplier_identifier_0252f</th>\n",
       "      <td>579107</td>\n",
       "      <td>7.674058e+07</td>\n",
       "    </tr>\n",
       "    <tr>\n",
       "      <th>supplier_identifier_02eb0</th>\n",
       "      <td>970892</td>\n",
       "      <td>2.699721e+08</td>\n",
       "    </tr>\n",
       "  </tbody>\n",
       "</table>\n",
       "</div>"
      ],
      "text/plain": [
       "                            Demand  Gross_Revenue\n",
       "supplier_identifier                              \n",
       "supplier_identifier_00150    64031   8.940494e+06\n",
       "supplier_identifier_00629   122968   1.593463e+07\n",
       "supplier_identifier_023e3  1021438   1.247190e+08\n",
       "supplier_identifier_0252f   579107   7.674058e+07\n",
       "supplier_identifier_02eb0   970892   2.699721e+08"
      ]
     },
     "execution_count": 30,
     "metadata": {},
     "output_type": "execute_result"
    }
   ],
   "source": [
    "suppiden.head()"
   ]
  },
  {
   "cell_type": "code",
   "execution_count": 31,
   "metadata": {},
   "outputs": [],
   "source": [
    "suppiden.columns=[\"1\",\"2\"]"
   ]
  },
  {
   "cell_type": "code",
   "execution_count": 32,
   "metadata": {},
   "outputs": [
    {
     "data": {
      "text/html": [
       "<div>\n",
       "<style scoped>\n",
       "    .dataframe tbody tr th:only-of-type {\n",
       "        vertical-align: middle;\n",
       "    }\n",
       "\n",
       "    .dataframe tbody tr th {\n",
       "        vertical-align: top;\n",
       "    }\n",
       "\n",
       "    .dataframe thead th {\n",
       "        text-align: right;\n",
       "    }\n",
       "</style>\n",
       "<table border=\"1\" class=\"dataframe\">\n",
       "  <thead>\n",
       "    <tr style=\"text-align: right;\">\n",
       "      <th></th>\n",
       "      <th>1</th>\n",
       "      <th>2</th>\n",
       "    </tr>\n",
       "    <tr>\n",
       "      <th>supplier_identifier</th>\n",
       "      <th></th>\n",
       "      <th></th>\n",
       "    </tr>\n",
       "  </thead>\n",
       "  <tbody>\n",
       "    <tr>\n",
       "      <th>supplier_identifier_00150</th>\n",
       "      <td>64031</td>\n",
       "      <td>8.940494e+06</td>\n",
       "    </tr>\n",
       "    <tr>\n",
       "      <th>supplier_identifier_00629</th>\n",
       "      <td>122968</td>\n",
       "      <td>1.593463e+07</td>\n",
       "    </tr>\n",
       "    <tr>\n",
       "      <th>supplier_identifier_023e3</th>\n",
       "      <td>1021438</td>\n",
       "      <td>1.247190e+08</td>\n",
       "    </tr>\n",
       "    <tr>\n",
       "      <th>supplier_identifier_0252f</th>\n",
       "      <td>579107</td>\n",
       "      <td>7.674058e+07</td>\n",
       "    </tr>\n",
       "    <tr>\n",
       "      <th>supplier_identifier_02eb0</th>\n",
       "      <td>970892</td>\n",
       "      <td>2.699721e+08</td>\n",
       "    </tr>\n",
       "  </tbody>\n",
       "</table>\n",
       "</div>"
      ],
      "text/plain": [
       "                                 1             2\n",
       "supplier_identifier                             \n",
       "supplier_identifier_00150    64031  8.940494e+06\n",
       "supplier_identifier_00629   122968  1.593463e+07\n",
       "supplier_identifier_023e3  1021438  1.247190e+08\n",
       "supplier_identifier_0252f   579107  7.674058e+07\n",
       "supplier_identifier_02eb0   970892  2.699721e+08"
      ]
     },
     "execution_count": 32,
     "metadata": {},
     "output_type": "execute_result"
    }
   ],
   "source": [
    "suppiden.head()"
   ]
  },
  {
   "cell_type": "code",
   "execution_count": 33,
   "metadata": {},
   "outputs": [],
   "source": [
    "#standardizing\n",
    "from sklearn.preprocessing import StandardScaler\n",
    "suppscalar=StandardScaler()\n",
    "suppscalar.fit(suppiden)\n",
    "suppidenstan=pd.DataFrame(suppscalar.transform(suppiden),columns=suppiden.columns,index=suppiden.index)"
   ]
  },
  {
   "cell_type": "code",
   "execution_count": 34,
   "metadata": {},
   "outputs": [
    {
     "data": {
      "text/html": [
       "<div>\n",
       "<style scoped>\n",
       "    .dataframe tbody tr th:only-of-type {\n",
       "        vertical-align: middle;\n",
       "    }\n",
       "\n",
       "    .dataframe tbody tr th {\n",
       "        vertical-align: top;\n",
       "    }\n",
       "\n",
       "    .dataframe thead th {\n",
       "        text-align: right;\n",
       "    }\n",
       "</style>\n",
       "<table border=\"1\" class=\"dataframe\">\n",
       "  <thead>\n",
       "    <tr style=\"text-align: right;\">\n",
       "      <th></th>\n",
       "      <th>1</th>\n",
       "      <th>2</th>\n",
       "    </tr>\n",
       "    <tr>\n",
       "      <th>supplier_identifier</th>\n",
       "      <th></th>\n",
       "      <th></th>\n",
       "    </tr>\n",
       "  </thead>\n",
       "  <tbody>\n",
       "    <tr>\n",
       "      <th>supplier_identifier_00150</th>\n",
       "      <td>-0.951843</td>\n",
       "      <td>-0.976514</td>\n",
       "    </tr>\n",
       "    <tr>\n",
       "      <th>supplier_identifier_00629</th>\n",
       "      <td>-0.837885</td>\n",
       "      <td>-0.879890</td>\n",
       "    </tr>\n",
       "    <tr>\n",
       "      <th>supplier_identifier_023e3</th>\n",
       "      <td>0.899350</td>\n",
       "      <td>0.622972</td>\n",
       "    </tr>\n",
       "    <tr>\n",
       "      <th>supplier_identifier_0252f</th>\n",
       "      <td>0.044082</td>\n",
       "      <td>-0.039852</td>\n",
       "    </tr>\n",
       "    <tr>\n",
       "      <th>supplier_identifier_02eb0</th>\n",
       "      <td>0.801617</td>\n",
       "      <td>2.629653</td>\n",
       "    </tr>\n",
       "  </tbody>\n",
       "</table>\n",
       "</div>"
      ],
      "text/plain": [
       "                                  1         2\n",
       "supplier_identifier                          \n",
       "supplier_identifier_00150 -0.951843 -0.976514\n",
       "supplier_identifier_00629 -0.837885 -0.879890\n",
       "supplier_identifier_023e3  0.899350  0.622972\n",
       "supplier_identifier_0252f  0.044082 -0.039852\n",
       "supplier_identifier_02eb0  0.801617  2.629653"
      ]
     },
     "execution_count": 34,
     "metadata": {},
     "output_type": "execute_result"
    }
   ],
   "source": [
    "suppidenstan.head()"
   ]
  },
  {
   "cell_type": "code",
   "execution_count": 35,
   "metadata": {},
   "outputs": [
    {
     "data": {
      "text/plain": [
       "{1: 1104.0,\n",
       " 2: 394.29679787958366,\n",
       " 3: 216.37893560762524,\n",
       " 4: 148.2421439270122,\n",
       " 5: 100.8200218771295,\n",
       " 6: 77.51149189705312,\n",
       " 7: 63.4115155772169,\n",
       " 8: 54.89770874884234,\n",
       " 9: 46.02362726491692,\n",
       " 10: 40.92678458463902,\n",
       " 11: 35.55723101188502,\n",
       " 12: 30.99169357184303,\n",
       " 13: 27.714087319163973,\n",
       " 14: 24.537416272172493}"
      ]
     },
     "execution_count": 35,
     "metadata": {},
     "output_type": "execute_result"
    }
   ],
   "source": [
    "#Scree Plot For Kmeans\n",
    "\n",
    "from sklearn.cluster import KMeans\n",
    "\n",
    "wss= {}\n",
    "for k in range(1, 15):\n",
    "    kmeans = KMeans(n_clusters=k, max_iter=1000).fit(suppidenstan)\n",
    "    #clusters = kmeans.labels_\n",
    "    wss[k] = kmeans.inertia_ \n",
    "    # Inertia: Sum of squared distances of samples to their closest cluster center\n",
    "wss"
   ]
  },
  {
   "cell_type": "code",
   "execution_count": 36,
   "metadata": {},
   "outputs": [
    {
     "data": {
      "image/png": "[encoded data removed]",
      "text/plain": [
       "<Figure size 432x288 with 1 Axes>"
      ]
     },
     "metadata": {
      "needs_background": "light"
     },
     "output_type": "display_data"
    }
   ],
   "source": [
    "plt.figure()\n",
    "plt.plot(list(wss.keys()), list(wss.values()))\n",
    "plt.xlabel(\"Number of clusters\")\n",
    "plt.ylabel(\"WSS\")\n",
    "plt.title(\"Elbow Curve\")\n",
    "plt.show()"
   ]
  },
  {
   "cell_type": "code",
   "execution_count": 37,
   "metadata": {},
   "outputs": [
    {
     "data": {
      "text/plain": [
       "KMeans(algorithm='auto', copy_x=True, init='k-means++', max_iter=300,\n",
       "       n_clusters=5, n_init=10, n_jobs=None, precompute_distances='auto',\n",
       "       random_state=None, tol=0.0001, verbose=0)"
      ]
     },
     "execution_count": 37,
     "metadata": {},
     "output_type": "execute_result"
    }
   ],
   "source": [
    "kmeans_suppiden = KMeans(n_clusters=5)\n",
    "kmeans_suppiden.fit(suppidenstan)"
   ]
  },
  {
   "cell_type": "code",
   "execution_count": 38,
   "metadata": {},
   "outputs": [
    {
     "data": {
      "text/html": [
       "<div>\n",
       "<style scoped>\n",
       "    .dataframe tbody tr th:only-of-type {\n",
       "        vertical-align: middle;\n",
       "    }\n",
       "\n",
       "    .dataframe tbody tr th {\n",
       "        vertical-align: top;\n",
       "    }\n",
       "\n",
       "    .dataframe thead th {\n",
       "        text-align: right;\n",
       "    }\n",
       "</style>\n",
       "<table border=\"1\" class=\"dataframe\">\n",
       "  <thead>\n",
       "    <tr style=\"text-align: right;\">\n",
       "      <th></th>\n",
       "      <th>1</th>\n",
       "      <th>2</th>\n",
       "      <th>suppiden_cluster</th>\n",
       "    </tr>\n",
       "    <tr>\n",
       "      <th>supplier_identifier</th>\n",
       "      <th></th>\n",
       "      <th></th>\n",
       "      <th></th>\n",
       "    </tr>\n",
       "  </thead>\n",
       "  <tbody>\n",
       "    <tr>\n",
       "      <th>supplier_identifier_00150</th>\n",
       "      <td>-0.951843</td>\n",
       "      <td>-0.976514</td>\n",
       "      <td>4</td>\n",
       "    </tr>\n",
       "    <tr>\n",
       "      <th>supplier_identifier_00629</th>\n",
       "      <td>-0.837885</td>\n",
       "      <td>-0.879890</td>\n",
       "      <td>4</td>\n",
       "    </tr>\n",
       "    <tr>\n",
       "      <th>supplier_identifier_023e3</th>\n",
       "      <td>0.899350</td>\n",
       "      <td>0.622972</td>\n",
       "      <td>2</td>\n",
       "    </tr>\n",
       "    <tr>\n",
       "      <th>supplier_identifier_0252f</th>\n",
       "      <td>0.044082</td>\n",
       "      <td>-0.039852</td>\n",
       "      <td>0</td>\n",
       "    </tr>\n",
       "    <tr>\n",
       "      <th>supplier_identifier_02eb0</th>\n",
       "      <td>0.801617</td>\n",
       "      <td>2.629653</td>\n",
       "      <td>1</td>\n",
       "    </tr>\n",
       "  </tbody>\n",
       "</table>\n",
       "</div>"
      ],
      "text/plain": [
       "                                  1         2  suppiden_cluster\n",
       "supplier_identifier                                            \n",
       "supplier_identifier_00150 -0.951843 -0.976514                 4\n",
       "supplier_identifier_00629 -0.837885 -0.879890                 4\n",
       "supplier_identifier_023e3  0.899350  0.622972                 2\n",
       "supplier_identifier_0252f  0.044082 -0.039852                 0\n",
       "supplier_identifier_02eb0  0.801617  2.629653                 1"
      ]
     },
     "execution_count": 38,
     "metadata": {},
     "output_type": "execute_result"
    }
   ],
   "source": [
    "suppidenstan[\"suppiden_cluster\"]=kmeans_suppiden.predict(suppidenstan)\n",
    "suppidenstan.head()"
   ]
  },
  {
   "cell_type": "code",
   "execution_count": 39,
   "metadata": {},
   "outputs": [
    {
     "data": {
      "text/html": [
       "<div>\n",
       "<style scoped>\n",
       "    .dataframe tbody tr th:only-of-type {\n",
       "        vertical-align: middle;\n",
       "    }\n",
       "\n",
       "    .dataframe tbody tr th {\n",
       "        vertical-align: top;\n",
       "    }\n",
       "\n",
       "    .dataframe thead th {\n",
       "        text-align: right;\n",
       "    }\n",
       "</style>\n",
       "<table border=\"1\" class=\"dataframe\">\n",
       "  <thead>\n",
       "    <tr style=\"text-align: right;\">\n",
       "      <th></th>\n",
       "      <th>experiment_week</th>\n",
       "      <th>channel_type</th>\n",
       "      <th>store_identifier</th>\n",
       "      <th>product_identifier</th>\n",
       "      <th>category_of_route</th>\n",
       "      <th>supplier_identifier</th>\n",
       "      <th>Demand</th>\n",
       "      <th>Gross_Revenue</th>\n",
       "      <th>suppiden_cluster</th>\n",
       "    </tr>\n",
       "  </thead>\n",
       "  <tbody>\n",
       "    <tr>\n",
       "      <th>0</th>\n",
       "      <td>Week 1 of 2019</td>\n",
       "      <td>Warehouse Retailers</td>\n",
       "      <td>store_fc6aa</td>\n",
       "      <td>product_cbfad</td>\n",
       "      <td>route_67047</td>\n",
       "      <td>supplier_identifier_055f7</td>\n",
       "      <td>3</td>\n",
       "      <td>377.1</td>\n",
       "      <td>0</td>\n",
       "    </tr>\n",
       "    <tr>\n",
       "      <th>1</th>\n",
       "      <td>Week 1 of 2019</td>\n",
       "      <td>Warehouse Retailers</td>\n",
       "      <td>store_fc6aa</td>\n",
       "      <td>product_2b363</td>\n",
       "      <td>route_67047</td>\n",
       "      <td>supplier_identifier_055f7</td>\n",
       "      <td>4</td>\n",
       "      <td>502.8</td>\n",
       "      <td>0</td>\n",
       "    </tr>\n",
       "    <tr>\n",
       "      <th>2</th>\n",
       "      <td>Week 1 of 2019</td>\n",
       "      <td>Warehouse Retailers</td>\n",
       "      <td>store_fc6aa</td>\n",
       "      <td>product_8de14</td>\n",
       "      <td>route_67047</td>\n",
       "      <td>supplier_identifier_055f7</td>\n",
       "      <td>4</td>\n",
       "      <td>589.8</td>\n",
       "      <td>0</td>\n",
       "    </tr>\n",
       "    <tr>\n",
       "      <th>3</th>\n",
       "      <td>Week 1 of 2019</td>\n",
       "      <td>Warehouse Retailers</td>\n",
       "      <td>store_fc6aa</td>\n",
       "      <td>product_1c00e</td>\n",
       "      <td>route_67047</td>\n",
       "      <td>supplier_identifier_055f7</td>\n",
       "      <td>4</td>\n",
       "      <td>502.8</td>\n",
       "      <td>0</td>\n",
       "    </tr>\n",
       "    <tr>\n",
       "      <th>4</th>\n",
       "      <td>Week 1 of 2019</td>\n",
       "      <td>Warehouse Retailers</td>\n",
       "      <td>store_fc6aa</td>\n",
       "      <td>product_55001</td>\n",
       "      <td>route_67047</td>\n",
       "      <td>supplier_identifier_055f7</td>\n",
       "      <td>3</td>\n",
       "      <td>343.8</td>\n",
       "      <td>0</td>\n",
       "    </tr>\n",
       "  </tbody>\n",
       "</table>\n",
       "</div>"
      ],
      "text/plain": [
       "  experiment_week         channel_type store_identifier product_identifier  \\\n",
       "0  Week 1 of 2019  Warehouse Retailers      store_fc6aa      product_cbfad   \n",
       "1  Week 1 of 2019  Warehouse Retailers      store_fc6aa      product_2b363   \n",
       "2  Week 1 of 2019  Warehouse Retailers      store_fc6aa      product_8de14   \n",
       "3  Week 1 of 2019  Warehouse Retailers      store_fc6aa      product_1c00e   \n",
       "4  Week 1 of 2019  Warehouse Retailers      store_fc6aa      product_55001   \n",
       "\n",
       "  category_of_route        supplier_identifier  Demand  Gross_Revenue  \\\n",
       "0       route_67047  supplier_identifier_055f7       3          377.1   \n",
       "1       route_67047  supplier_identifier_055f7       4          502.8   \n",
       "2       route_67047  supplier_identifier_055f7       4          589.8   \n",
       "3       route_67047  supplier_identifier_055f7       4          502.8   \n",
       "4       route_67047  supplier_identifier_055f7       3          343.8   \n",
       "\n",
       "   suppiden_cluster  \n",
       "0                 0  \n",
       "1                 0  \n",
       "2                 0  \n",
       "3                 0  \n",
       "4                 0  "
      ]
     },
     "execution_count": 39,
     "metadata": {},
     "output_type": "execute_result"
    }
   ],
   "source": [
    "#Merging this data with main table to get the clusters\n",
    "traindata=pd.merge(traindata,suppidenstan,left_on=\"supplier_identifier\",right_on=\"supplier_identifier\")\n",
    "traindata.drop([\"1\",\"2\"],axis=1,inplace=True)\n",
    "traindata.head()"
   ]
  },
  {
   "cell_type": "code",
   "execution_count": 40,
   "metadata": {},
   "outputs": [
    {
     "data": {
      "text/plain": [
       "<matplotlib.axes._subplots.AxesSubplot at 0x1166872b0>"
      ]
     },
     "execution_count": 40,
     "metadata": {},
     "output_type": "execute_result"
    },
    {
     "data": {
      "image/png": "[encoded data removed]",
      "text/plain": [
       "<Figure size 432x288 with 1 Axes>"
      ]
     },
     "metadata": {
      "needs_background": "light"
     },
     "output_type": "display_data"
    }
   ],
   "source": [
    "sns.countplot(traindata.suppiden_cluster)"
   ]
  },
  {
   "cell_type": "markdown",
   "metadata": {},
   "source": [
    "## Category Of Route\n",
    "\n",
    "Here we will segregate all the Categories of Routes into clusters "
   ]
  },
  {
   "cell_type": "code",
   "execution_count": 41,
   "metadata": {},
   "outputs": [],
   "source": [
    "cateofrt=traindata.groupby(\"category_of_route\").sum()"
   ]
  },
  {
   "cell_type": "code",
   "execution_count": 42,
   "metadata": {},
   "outputs": [
    {
     "data": {
      "text/html": [
       "<div>\n",
       "<style scoped>\n",
       "    .dataframe tbody tr th:only-of-type {\n",
       "        vertical-align: middle;\n",
       "    }\n",
       "\n",
       "    .dataframe tbody tr th {\n",
       "        vertical-align: top;\n",
       "    }\n",
       "\n",
       "    .dataframe thead th {\n",
       "        text-align: right;\n",
       "    }\n",
       "</style>\n",
       "<table border=\"1\" class=\"dataframe\">\n",
       "  <thead>\n",
       "    <tr style=\"text-align: right;\">\n",
       "      <th></th>\n",
       "      <th>Demand</th>\n",
       "      <th>Gross_Revenue</th>\n",
       "      <th>suppiden_cluster</th>\n",
       "    </tr>\n",
       "    <tr>\n",
       "      <th>category_of_route</th>\n",
       "      <th></th>\n",
       "      <th></th>\n",
       "      <th></th>\n",
       "    </tr>\n",
       "  </thead>\n",
       "  <tbody>\n",
       "    <tr>\n",
       "      <th>route_00037</th>\n",
       "      <td>182165</td>\n",
       "      <td>4.280561e+07</td>\n",
       "      <td>30028</td>\n",
       "    </tr>\n",
       "    <tr>\n",
       "      <th>route_0020a</th>\n",
       "      <td>88</td>\n",
       "      <td>1.434840e+04</td>\n",
       "      <td>0</td>\n",
       "    </tr>\n",
       "    <tr>\n",
       "      <th>route_002ab</th>\n",
       "      <td>96</td>\n",
       "      <td>2.662560e+04</td>\n",
       "      <td>12</td>\n",
       "    </tr>\n",
       "    <tr>\n",
       "      <th>route_00382</th>\n",
       "      <td>102970</td>\n",
       "      <td>1.216130e+07</td>\n",
       "      <td>17590</td>\n",
       "    </tr>\n",
       "    <tr>\n",
       "      <th>route_00431</th>\n",
       "      <td>208</td>\n",
       "      <td>3.944160e+04</td>\n",
       "      <td>16</td>\n",
       "    </tr>\n",
       "  </tbody>\n",
       "</table>\n",
       "</div>"
      ],
      "text/plain": [
       "                   Demand  Gross_Revenue  suppiden_cluster\n",
       "category_of_route                                         \n",
       "route_00037        182165   4.280561e+07             30028\n",
       "route_0020a            88   1.434840e+04                 0\n",
       "route_002ab            96   2.662560e+04                12\n",
       "route_00382        102970   1.216130e+07             17590\n",
       "route_00431           208   3.944160e+04                16"
      ]
     },
     "execution_count": 42,
     "metadata": {},
     "output_type": "execute_result"
    }
   ],
   "source": [
    "cateofrt.head()"
   ]
  },
  {
   "cell_type": "code",
   "execution_count": 43,
   "metadata": {},
   "outputs": [
    {
     "data": {
      "text/html": [
       "<div>\n",
       "<style scoped>\n",
       "    .dataframe tbody tr th:only-of-type {\n",
       "        vertical-align: middle;\n",
       "    }\n",
       "\n",
       "    .dataframe tbody tr th {\n",
       "        vertical-align: top;\n",
       "    }\n",
       "\n",
       "    .dataframe thead th {\n",
       "        text-align: right;\n",
       "    }\n",
       "</style>\n",
       "<table border=\"1\" class=\"dataframe\">\n",
       "  <thead>\n",
       "    <tr style=\"text-align: right;\">\n",
       "      <th></th>\n",
       "      <th>Demand</th>\n",
       "      <th>Gross_Revenue</th>\n",
       "    </tr>\n",
       "    <tr>\n",
       "      <th>category_of_route</th>\n",
       "      <th></th>\n",
       "      <th></th>\n",
       "    </tr>\n",
       "  </thead>\n",
       "  <tbody>\n",
       "    <tr>\n",
       "      <th>route_00037</th>\n",
       "      <td>182165</td>\n",
       "      <td>4.280561e+07</td>\n",
       "    </tr>\n",
       "    <tr>\n",
       "      <th>route_0020a</th>\n",
       "      <td>88</td>\n",
       "      <td>1.434840e+04</td>\n",
       "    </tr>\n",
       "    <tr>\n",
       "      <th>route_002ab</th>\n",
       "      <td>96</td>\n",
       "      <td>2.662560e+04</td>\n",
       "    </tr>\n",
       "    <tr>\n",
       "      <th>route_00382</th>\n",
       "      <td>102970</td>\n",
       "      <td>1.216130e+07</td>\n",
       "    </tr>\n",
       "    <tr>\n",
       "      <th>route_00431</th>\n",
       "      <td>208</td>\n",
       "      <td>3.944160e+04</td>\n",
       "    </tr>\n",
       "  </tbody>\n",
       "</table>\n",
       "</div>"
      ],
      "text/plain": [
       "                   Demand  Gross_Revenue\n",
       "category_of_route                       \n",
       "route_00037        182165   4.280561e+07\n",
       "route_0020a            88   1.434840e+04\n",
       "route_002ab            96   2.662560e+04\n",
       "route_00382        102970   1.216130e+07\n",
       "route_00431           208   3.944160e+04"
      ]
     },
     "execution_count": 43,
     "metadata": {},
     "output_type": "execute_result"
    }
   ],
   "source": [
    "cateofrt.drop(\"suppiden_cluster\",axis=1,inplace=True)\n",
    "cateofrt.head()"
   ]
  },
  {
   "cell_type": "code",
   "execution_count": 44,
   "metadata": {},
   "outputs": [
    {
     "data": {
      "text/plain": [
       "(3423, 2)"
      ]
     },
     "execution_count": 44,
     "metadata": {},
     "output_type": "execute_result"
    }
   ],
   "source": [
    "cateofrt.shape"
   ]
  },
  {
   "cell_type": "code",
   "execution_count": 45,
   "metadata": {},
   "outputs": [],
   "source": [
    "cateofrt.columns=[\"1\",\"2\"]"
   ]
  },
  {
   "cell_type": "code",
   "execution_count": 46,
   "metadata": {},
   "outputs": [
    {
     "data": {
      "text/html": [
       "<div>\n",
       "<style scoped>\n",
       "    .dataframe tbody tr th:only-of-type {\n",
       "        vertical-align: middle;\n",
       "    }\n",
       "\n",
       "    .dataframe tbody tr th {\n",
       "        vertical-align: top;\n",
       "    }\n",
       "\n",
       "    .dataframe thead th {\n",
       "        text-align: right;\n",
       "    }\n",
       "</style>\n",
       "<table border=\"1\" class=\"dataframe\">\n",
       "  <thead>\n",
       "    <tr style=\"text-align: right;\">\n",
       "      <th></th>\n",
       "      <th>1</th>\n",
       "      <th>2</th>\n",
       "    </tr>\n",
       "    <tr>\n",
       "      <th>category_of_route</th>\n",
       "      <th></th>\n",
       "      <th></th>\n",
       "    </tr>\n",
       "  </thead>\n",
       "  <tbody>\n",
       "    <tr>\n",
       "      <th>route_00037</th>\n",
       "      <td>182165</td>\n",
       "      <td>4.280561e+07</td>\n",
       "    </tr>\n",
       "    <tr>\n",
       "      <th>route_0020a</th>\n",
       "      <td>88</td>\n",
       "      <td>1.434840e+04</td>\n",
       "    </tr>\n",
       "    <tr>\n",
       "      <th>route_002ab</th>\n",
       "      <td>96</td>\n",
       "      <td>2.662560e+04</td>\n",
       "    </tr>\n",
       "    <tr>\n",
       "      <th>route_00382</th>\n",
       "      <td>102970</td>\n",
       "      <td>1.216130e+07</td>\n",
       "    </tr>\n",
       "    <tr>\n",
       "      <th>route_00431</th>\n",
       "      <td>208</td>\n",
       "      <td>3.944160e+04</td>\n",
       "    </tr>\n",
       "  </tbody>\n",
       "</table>\n",
       "</div>"
      ],
      "text/plain": [
       "                        1             2\n",
       "category_of_route                      \n",
       "route_00037        182165  4.280561e+07\n",
       "route_0020a            88  1.434840e+04\n",
       "route_002ab            96  2.662560e+04\n",
       "route_00382        102970  1.216130e+07\n",
       "route_00431           208  3.944160e+04"
      ]
     },
     "execution_count": 46,
     "metadata": {},
     "output_type": "execute_result"
    }
   ],
   "source": [
    "cateofrt.head()"
   ]
  },
  {
   "cell_type": "code",
   "execution_count": 47,
   "metadata": {},
   "outputs": [],
   "source": [
    "#Standardizing\n",
    "from sklearn.preprocessing import StandardScaler\n",
    "corscalar=StandardScaler()\n",
    "corscalar.fit(cateofrt)\n",
    "cateofrtstan=pd.DataFrame(corscalar.transform(cateofrt),columns=cateofrt.columns,index=cateofrt.index)"
   ]
  },
  {
   "cell_type": "code",
   "execution_count": 48,
   "metadata": {},
   "outputs": [
    {
     "data": {
      "text/html": [
       "<div>\n",
       "<style scoped>\n",
       "    .dataframe tbody tr th:only-of-type {\n",
       "        vertical-align: middle;\n",
       "    }\n",
       "\n",
       "    .dataframe tbody tr th {\n",
       "        vertical-align: top;\n",
       "    }\n",
       "\n",
       "    .dataframe thead th {\n",
       "        text-align: right;\n",
       "    }\n",
       "</style>\n",
       "<table border=\"1\" class=\"dataframe\">\n",
       "  <thead>\n",
       "    <tr style=\"text-align: right;\">\n",
       "      <th></th>\n",
       "      <th>1</th>\n",
       "      <th>2</th>\n",
       "    </tr>\n",
       "    <tr>\n",
       "      <th>category_of_route</th>\n",
       "      <th></th>\n",
       "      <th></th>\n",
       "    </tr>\n",
       "  </thead>\n",
       "  <tbody>\n",
       "    <tr>\n",
       "      <th>route_00037</th>\n",
       "      <td>0.503330</td>\n",
       "      <td>1.121265</td>\n",
       "    </tr>\n",
       "    <tr>\n",
       "      <th>route_0020a</th>\n",
       "      <td>-0.487923</td>\n",
       "      <td>-0.479944</td>\n",
       "    </tr>\n",
       "    <tr>\n",
       "      <th>route_002ab</th>\n",
       "      <td>-0.487879</td>\n",
       "      <td>-0.479484</td>\n",
       "    </tr>\n",
       "    <tr>\n",
       "      <th>route_00382</th>\n",
       "      <td>0.072181</td>\n",
       "      <td>-0.025416</td>\n",
       "    </tr>\n",
       "    <tr>\n",
       "      <th>route_00431</th>\n",
       "      <td>-0.487270</td>\n",
       "      <td>-0.479005</td>\n",
       "    </tr>\n",
       "  </tbody>\n",
       "</table>\n",
       "</div>"
      ],
      "text/plain": [
       "                          1         2\n",
       "category_of_route                    \n",
       "route_00037        0.503330  1.121265\n",
       "route_0020a       -0.487923 -0.479944\n",
       "route_002ab       -0.487879 -0.479484\n",
       "route_00382        0.072181 -0.025416\n",
       "route_00431       -0.487270 -0.479005"
      ]
     },
     "execution_count": 48,
     "metadata": {},
     "output_type": "execute_result"
    }
   ],
   "source": [
    "cateofrtstan.head()"
   ]
  },
  {
   "cell_type": "code",
   "execution_count": 49,
   "metadata": {},
   "outputs": [
    {
     "data": {
      "text/plain": [
       "{1: 6846.000000000001,\n",
       " 2: 2292.511141807873,\n",
       " 3: 1176.9317040535855,\n",
       " 4: 777.0743527445459,\n",
       " 5: 576.7134328333989,\n",
       " 6: 455.47627953587437,\n",
       " 7: 391.01562185549676,\n",
       " 8: 341.74250839200266,\n",
       " 9: 294.61348763972205,\n",
       " 10: 250.46130697489554,\n",
       " 11: 223.62619285622608,\n",
       " 12: 194.40926805920043,\n",
       " 13: 173.2198186327762,\n",
       " 14: 154.04918872666727}"
      ]
     },
     "execution_count": 49,
     "metadata": {},
     "output_type": "execute_result"
    }
   ],
   "source": [
    "#Scree Plot/Elbow Curve\n",
    "from sklearn.cluster import KMeans\n",
    "\n",
    "wss= {}\n",
    "for k in range(1, 15):\n",
    "    kmeans = KMeans(n_clusters=k, max_iter=1000).fit(cateofrtstan)\n",
    "    #clusters = kmeans.labels_\n",
    "    wss[k] = kmeans.inertia_ \n",
    "    # Inertia: Sum of squared distances of samples to their closest cluster center\n",
    "wss\n",
    "\n"
   ]
  },
  {
   "cell_type": "code",
   "execution_count": 50,
   "metadata": {},
   "outputs": [
    {
     "data": {
      "image/png": "[encoded data removed]",
      "text/plain": [
       "<Figure size 432x288 with 1 Axes>"
      ]
     },
     "metadata": {
      "needs_background": "light"
     },
     "output_type": "display_data"
    }
   ],
   "source": [
    "plt.figure()\n",
    "plt.plot(list(wss.keys()), list(wss.values()))\n",
    "plt.xlabel(\"Number of clusters\")\n",
    "plt.ylabel(\"WSS\")\n",
    "plt.title(\"Elbow Curve\")\n",
    "plt.show()"
   ]
  },
  {
   "cell_type": "code",
   "execution_count": 51,
   "metadata": {},
   "outputs": [
    {
     "data": {
      "text/plain": [
       "KMeans(algorithm='auto', copy_x=True, init='k-means++', max_iter=300,\n",
       "       n_clusters=7, n_init=10, n_jobs=None, precompute_distances='auto',\n",
       "       random_state=None, tol=0.0001, verbose=0)"
      ]
     },
     "execution_count": 51,
     "metadata": {},
     "output_type": "execute_result"
    }
   ],
   "source": [
    "kmeans_cateofrt = KMeans(n_clusters=7)\n",
    "kmeans_cateofrt.fit(cateofrtstan)"
   ]
  },
  {
   "cell_type": "code",
   "execution_count": 52,
   "metadata": {},
   "outputs": [
    {
     "data": {
      "text/html": [
       "<div>\n",
       "<style scoped>\n",
       "    .dataframe tbody tr th:only-of-type {\n",
       "        vertical-align: middle;\n",
       "    }\n",
       "\n",
       "    .dataframe tbody tr th {\n",
       "        vertical-align: top;\n",
       "    }\n",
       "\n",
       "    .dataframe thead th {\n",
       "        text-align: right;\n",
       "    }\n",
       "</style>\n",
       "<table border=\"1\" class=\"dataframe\">\n",
       "  <thead>\n",
       "    <tr style=\"text-align: right;\">\n",
       "      <th></th>\n",
       "      <th>1</th>\n",
       "      <th>2</th>\n",
       "      <th>cateofrt_cluster</th>\n",
       "    </tr>\n",
       "    <tr>\n",
       "      <th>category_of_route</th>\n",
       "      <th></th>\n",
       "      <th></th>\n",
       "      <th></th>\n",
       "    </tr>\n",
       "  </thead>\n",
       "  <tbody>\n",
       "    <tr>\n",
       "      <th>route_00037</th>\n",
       "      <td>0.503330</td>\n",
       "      <td>1.121265</td>\n",
       "      <td>5</td>\n",
       "    </tr>\n",
       "    <tr>\n",
       "      <th>route_0020a</th>\n",
       "      <td>-0.487923</td>\n",
       "      <td>-0.479944</td>\n",
       "      <td>0</td>\n",
       "    </tr>\n",
       "    <tr>\n",
       "      <th>route_002ab</th>\n",
       "      <td>-0.487879</td>\n",
       "      <td>-0.479484</td>\n",
       "      <td>0</td>\n",
       "    </tr>\n",
       "    <tr>\n",
       "      <th>route_00382</th>\n",
       "      <td>0.072181</td>\n",
       "      <td>-0.025416</td>\n",
       "      <td>3</td>\n",
       "    </tr>\n",
       "    <tr>\n",
       "      <th>route_00431</th>\n",
       "      <td>-0.487270</td>\n",
       "      <td>-0.479005</td>\n",
       "      <td>0</td>\n",
       "    </tr>\n",
       "  </tbody>\n",
       "</table>\n",
       "</div>"
      ],
      "text/plain": [
       "                          1         2  cateofrt_cluster\n",
       "category_of_route                                      \n",
       "route_00037        0.503330  1.121265                 5\n",
       "route_0020a       -0.487923 -0.479944                 0\n",
       "route_002ab       -0.487879 -0.479484                 0\n",
       "route_00382        0.072181 -0.025416                 3\n",
       "route_00431       -0.487270 -0.479005                 0"
      ]
     },
     "execution_count": 52,
     "metadata": {},
     "output_type": "execute_result"
    }
   ],
   "source": [
    "cateofrtstan[\"cateofrt_cluster\"]=kmeans_cateofrt.predict(cateofrtstan)\n",
    "cateofrtstan.head()"
   ]
  },
  {
   "cell_type": "code",
   "execution_count": 53,
   "metadata": {},
   "outputs": [
    {
     "data": {
      "text/html": [
       "<div>\n",
       "<style scoped>\n",
       "    .dataframe tbody tr th:only-of-type {\n",
       "        vertical-align: middle;\n",
       "    }\n",
       "\n",
       "    .dataframe tbody tr th {\n",
       "        vertical-align: top;\n",
       "    }\n",
       "\n",
       "    .dataframe thead th {\n",
       "        text-align: right;\n",
       "    }\n",
       "</style>\n",
       "<table border=\"1\" class=\"dataframe\">\n",
       "  <thead>\n",
       "    <tr style=\"text-align: right;\">\n",
       "      <th></th>\n",
       "      <th>experiment_week</th>\n",
       "      <th>channel_type</th>\n",
       "      <th>store_identifier</th>\n",
       "      <th>product_identifier</th>\n",
       "      <th>category_of_route</th>\n",
       "      <th>supplier_identifier</th>\n",
       "      <th>Demand</th>\n",
       "      <th>Gross_Revenue</th>\n",
       "      <th>suppiden_cluster</th>\n",
       "      <th>cateofrt_cluster</th>\n",
       "    </tr>\n",
       "  </thead>\n",
       "  <tbody>\n",
       "    <tr>\n",
       "      <th>0</th>\n",
       "      <td>Week 1 of 2019</td>\n",
       "      <td>Warehouse Retailers</td>\n",
       "      <td>store_fc6aa</td>\n",
       "      <td>product_cbfad</td>\n",
       "      <td>route_67047</td>\n",
       "      <td>supplier_identifier_055f7</td>\n",
       "      <td>3</td>\n",
       "      <td>377.1</td>\n",
       "      <td>0</td>\n",
       "      <td>6</td>\n",
       "    </tr>\n",
       "    <tr>\n",
       "      <th>1</th>\n",
       "      <td>Week 1 of 2019</td>\n",
       "      <td>Warehouse Retailers</td>\n",
       "      <td>store_fc6aa</td>\n",
       "      <td>product_2b363</td>\n",
       "      <td>route_67047</td>\n",
       "      <td>supplier_identifier_055f7</td>\n",
       "      <td>4</td>\n",
       "      <td>502.8</td>\n",
       "      <td>0</td>\n",
       "      <td>6</td>\n",
       "    </tr>\n",
       "    <tr>\n",
       "      <th>2</th>\n",
       "      <td>Week 1 of 2019</td>\n",
       "      <td>Warehouse Retailers</td>\n",
       "      <td>store_fc6aa</td>\n",
       "      <td>product_8de14</td>\n",
       "      <td>route_67047</td>\n",
       "      <td>supplier_identifier_055f7</td>\n",
       "      <td>4</td>\n",
       "      <td>589.8</td>\n",
       "      <td>0</td>\n",
       "      <td>6</td>\n",
       "    </tr>\n",
       "    <tr>\n",
       "      <th>3</th>\n",
       "      <td>Week 1 of 2019</td>\n",
       "      <td>Warehouse Retailers</td>\n",
       "      <td>store_fc6aa</td>\n",
       "      <td>product_1c00e</td>\n",
       "      <td>route_67047</td>\n",
       "      <td>supplier_identifier_055f7</td>\n",
       "      <td>4</td>\n",
       "      <td>502.8</td>\n",
       "      <td>0</td>\n",
       "      <td>6</td>\n",
       "    </tr>\n",
       "    <tr>\n",
       "      <th>4</th>\n",
       "      <td>Week 1 of 2019</td>\n",
       "      <td>Warehouse Retailers</td>\n",
       "      <td>store_fc6aa</td>\n",
       "      <td>product_55001</td>\n",
       "      <td>route_67047</td>\n",
       "      <td>supplier_identifier_055f7</td>\n",
       "      <td>3</td>\n",
       "      <td>343.8</td>\n",
       "      <td>0</td>\n",
       "      <td>6</td>\n",
       "    </tr>\n",
       "  </tbody>\n",
       "</table>\n",
       "</div>"
      ],
      "text/plain": [
       "  experiment_week         channel_type store_identifier product_identifier  \\\n",
       "0  Week 1 of 2019  Warehouse Retailers      store_fc6aa      product_cbfad   \n",
       "1  Week 1 of 2019  Warehouse Retailers      store_fc6aa      product_2b363   \n",
       "2  Week 1 of 2019  Warehouse Retailers      store_fc6aa      product_8de14   \n",
       "3  Week 1 of 2019  Warehouse Retailers      store_fc6aa      product_1c00e   \n",
       "4  Week 1 of 2019  Warehouse Retailers      store_fc6aa      product_55001   \n",
       "\n",
       "  category_of_route        supplier_identifier  Demand  Gross_Revenue  \\\n",
       "0       route_67047  supplier_identifier_055f7       3          377.1   \n",
       "1       route_67047  supplier_identifier_055f7       4          502.8   \n",
       "2       route_67047  supplier_identifier_055f7       4          589.8   \n",
       "3       route_67047  supplier_identifier_055f7       4          502.8   \n",
       "4       route_67047  supplier_identifier_055f7       3          343.8   \n",
       "\n",
       "   suppiden_cluster  cateofrt_cluster  \n",
       "0                 0                 6  \n",
       "1                 0                 6  \n",
       "2                 0                 6  \n",
       "3                 0                 6  \n",
       "4                 0                 6  "
      ]
     },
     "execution_count": 53,
     "metadata": {},
     "output_type": "execute_result"
    }
   ],
   "source": [
    "traindata=pd.merge(traindata,cateofrtstan,left_on=\"category_of_route\",right_on=\"category_of_route\")\n",
    "traindata.drop([\"1\",\"2\"],axis=1,inplace=True)\n",
    "traindata.head()"
   ]
  },
  {
   "cell_type": "code",
   "execution_count": 54,
   "metadata": {},
   "outputs": [
    {
     "data": {
      "text/plain": [
       "<matplotlib.axes._subplots.AxesSubplot at 0x118858b70>"
      ]
     },
     "execution_count": 54,
     "metadata": {},
     "output_type": "execute_result"
    },
    {
     "data": {
      "image/png": "[encoded data removed]",
      "text/plain": [
       "<Figure size 432x288 with 1 Axes>"
      ]
     },
     "metadata": {
      "needs_background": "light"
     },
     "output_type": "display_data"
    }
   ],
   "source": [
    "sns.countplot(traindata.cateofrt_cluster)"
   ]
  },
  {
   "cell_type": "markdown",
   "metadata": {},
   "source": [
    "## Store Identifier\n",
    "\n",
    "Here we will segregate the stores into clusters"
   ]
  },
  {
   "cell_type": "code",
   "execution_count": 55,
   "metadata": {},
   "outputs": [
    {
     "data": {
      "text/html": [
       "<div>\n",
       "<style scoped>\n",
       "    .dataframe tbody tr th:only-of-type {\n",
       "        vertical-align: middle;\n",
       "    }\n",
       "\n",
       "    .dataframe tbody tr th {\n",
       "        vertical-align: top;\n",
       "    }\n",
       "\n",
       "    .dataframe thead th {\n",
       "        text-align: right;\n",
       "    }\n",
       "</style>\n",
       "<table border=\"1\" class=\"dataframe\">\n",
       "  <thead>\n",
       "    <tr style=\"text-align: right;\">\n",
       "      <th></th>\n",
       "      <th>Demand</th>\n",
       "      <th>Gross_Revenue</th>\n",
       "      <th>suppiden_cluster</th>\n",
       "      <th>cateofrt_cluster</th>\n",
       "    </tr>\n",
       "    <tr>\n",
       "      <th>store_identifier</th>\n",
       "      <th></th>\n",
       "      <th></th>\n",
       "      <th></th>\n",
       "      <th></th>\n",
       "    </tr>\n",
       "  </thead>\n",
       "  <tbody>\n",
       "    <tr>\n",
       "      <th>store_00000</th>\n",
       "      <td>60</td>\n",
       "      <td>4198.36</td>\n",
       "      <td>0</td>\n",
       "      <td>65</td>\n",
       "    </tr>\n",
       "    <tr>\n",
       "      <th>store_00001</th>\n",
       "      <td>951</td>\n",
       "      <td>120315.47</td>\n",
       "      <td>172</td>\n",
       "      <td>499</td>\n",
       "    </tr>\n",
       "    <tr>\n",
       "      <th>store_00002</th>\n",
       "      <td>648</td>\n",
       "      <td>88434.84</td>\n",
       "      <td>8</td>\n",
       "      <td>289</td>\n",
       "    </tr>\n",
       "    <tr>\n",
       "      <th>store_00007</th>\n",
       "      <td>2492</td>\n",
       "      <td>292125.82</td>\n",
       "      <td>710</td>\n",
       "      <td>1197</td>\n",
       "    </tr>\n",
       "    <tr>\n",
       "      <th>store_00009</th>\n",
       "      <td>135</td>\n",
       "      <td>21216.77</td>\n",
       "      <td>59</td>\n",
       "      <td>236</td>\n",
       "    </tr>\n",
       "  </tbody>\n",
       "</table>\n",
       "</div>"
      ],
      "text/plain": [
       "                  Demand  Gross_Revenue  suppiden_cluster  cateofrt_cluster\n",
       "store_identifier                                                           \n",
       "store_00000           60        4198.36                 0                65\n",
       "store_00001          951      120315.47               172               499\n",
       "store_00002          648       88434.84                 8               289\n",
       "store_00007         2492      292125.82               710              1197\n",
       "store_00009          135       21216.77                59               236"
      ]
     },
     "execution_count": 55,
     "metadata": {},
     "output_type": "execute_result"
    }
   ],
   "source": [
    "storiden=traindata.groupby(\"store_identifier\").sum()\n",
    "storiden.head()"
   ]
  },
  {
   "cell_type": "code",
   "execution_count": 56,
   "metadata": {},
   "outputs": [
    {
     "data": {
      "text/html": [
       "<div>\n",
       "<style scoped>\n",
       "    .dataframe tbody tr th:only-of-type {\n",
       "        vertical-align: middle;\n",
       "    }\n",
       "\n",
       "    .dataframe tbody tr th {\n",
       "        vertical-align: top;\n",
       "    }\n",
       "\n",
       "    .dataframe thead th {\n",
       "        text-align: right;\n",
       "    }\n",
       "</style>\n",
       "<table border=\"1\" class=\"dataframe\">\n",
       "  <thead>\n",
       "    <tr style=\"text-align: right;\">\n",
       "      <th></th>\n",
       "      <th>Demand</th>\n",
       "      <th>Gross_Revenue</th>\n",
       "    </tr>\n",
       "    <tr>\n",
       "      <th>store_identifier</th>\n",
       "      <th></th>\n",
       "      <th></th>\n",
       "    </tr>\n",
       "  </thead>\n",
       "  <tbody>\n",
       "    <tr>\n",
       "      <th>store_00000</th>\n",
       "      <td>60</td>\n",
       "      <td>4198.36</td>\n",
       "    </tr>\n",
       "    <tr>\n",
       "      <th>store_00001</th>\n",
       "      <td>951</td>\n",
       "      <td>120315.47</td>\n",
       "    </tr>\n",
       "    <tr>\n",
       "      <th>store_00002</th>\n",
       "      <td>648</td>\n",
       "      <td>88434.84</td>\n",
       "    </tr>\n",
       "    <tr>\n",
       "      <th>store_00007</th>\n",
       "      <td>2492</td>\n",
       "      <td>292125.82</td>\n",
       "    </tr>\n",
       "    <tr>\n",
       "      <th>store_00009</th>\n",
       "      <td>135</td>\n",
       "      <td>21216.77</td>\n",
       "    </tr>\n",
       "  </tbody>\n",
       "</table>\n",
       "</div>"
      ],
      "text/plain": [
       "                  Demand  Gross_Revenue\n",
       "store_identifier                       \n",
       "store_00000           60        4198.36\n",
       "store_00001          951      120315.47\n",
       "store_00002          648       88434.84\n",
       "store_00007         2492      292125.82\n",
       "store_00009          135       21216.77"
      ]
     },
     "execution_count": 56,
     "metadata": {},
     "output_type": "execute_result"
    }
   ],
   "source": [
    "storiden.drop([\"suppiden_cluster\",\"cateofrt_cluster\"],axis=1,inplace=True)\n",
    "storiden.head()"
   ]
  },
  {
   "cell_type": "code",
   "execution_count": 57,
   "metadata": {},
   "outputs": [
    {
     "data": {
      "text/html": [
       "<div>\n",
       "<style scoped>\n",
       "    .dataframe tbody tr th:only-of-type {\n",
       "        vertical-align: middle;\n",
       "    }\n",
       "\n",
       "    .dataframe tbody tr th {\n",
       "        vertical-align: top;\n",
       "    }\n",
       "\n",
       "    .dataframe thead th {\n",
       "        text-align: right;\n",
       "    }\n",
       "</style>\n",
       "<table border=\"1\" class=\"dataframe\">\n",
       "  <thead>\n",
       "    <tr style=\"text-align: right;\">\n",
       "      <th></th>\n",
       "      <th>1</th>\n",
       "      <th>2</th>\n",
       "    </tr>\n",
       "    <tr>\n",
       "      <th>store_identifier</th>\n",
       "      <th></th>\n",
       "      <th></th>\n",
       "    </tr>\n",
       "  </thead>\n",
       "  <tbody>\n",
       "    <tr>\n",
       "      <th>store_00000</th>\n",
       "      <td>60</td>\n",
       "      <td>4198.36</td>\n",
       "    </tr>\n",
       "    <tr>\n",
       "      <th>store_00001</th>\n",
       "      <td>951</td>\n",
       "      <td>120315.47</td>\n",
       "    </tr>\n",
       "    <tr>\n",
       "      <th>store_00002</th>\n",
       "      <td>648</td>\n",
       "      <td>88434.84</td>\n",
       "    </tr>\n",
       "    <tr>\n",
       "      <th>store_00007</th>\n",
       "      <td>2492</td>\n",
       "      <td>292125.82</td>\n",
       "    </tr>\n",
       "    <tr>\n",
       "      <th>store_00009</th>\n",
       "      <td>135</td>\n",
       "      <td>21216.77</td>\n",
       "    </tr>\n",
       "  </tbody>\n",
       "</table>\n",
       "</div>"
      ],
      "text/plain": [
       "                     1          2\n",
       "store_identifier                 \n",
       "store_00000         60    4198.36\n",
       "store_00001        951  120315.47\n",
       "store_00002        648   88434.84\n",
       "store_00007       2492  292125.82\n",
       "store_00009        135   21216.77"
      ]
     },
     "execution_count": 57,
     "metadata": {},
     "output_type": "execute_result"
    }
   ],
   "source": [
    "storiden.columns=[\"1\",\"2\"]\n",
    "storiden.head()"
   ]
  },
  {
   "cell_type": "code",
   "execution_count": 58,
   "metadata": {},
   "outputs": [
    {
     "data": {
      "text/plain": [
       "(581707, 2)"
      ]
     },
     "execution_count": 58,
     "metadata": {},
     "output_type": "execute_result"
    }
   ],
   "source": [
    "storiden.shape"
   ]
  },
  {
   "cell_type": "code",
   "execution_count": 59,
   "metadata": {},
   "outputs": [],
   "source": [
    "#Standardizing\n",
    "stidscalar=StandardScaler()\n",
    "stidscalar.fit(storiden)\n",
    "storidenstan=pd.DataFrame(stidscalar.transform(storiden),columns=storiden.columns,index=storiden.index)"
   ]
  },
  {
   "cell_type": "code",
   "execution_count": 60,
   "metadata": {},
   "outputs": [
    {
     "data": {
      "text/html": [
       "<div>\n",
       "<style scoped>\n",
       "    .dataframe tbody tr th:only-of-type {\n",
       "        vertical-align: middle;\n",
       "    }\n",
       "\n",
       "    .dataframe tbody tr th {\n",
       "        vertical-align: top;\n",
       "    }\n",
       "\n",
       "    .dataframe thead th {\n",
       "        text-align: right;\n",
       "    }\n",
       "</style>\n",
       "<table border=\"1\" class=\"dataframe\">\n",
       "  <thead>\n",
       "    <tr style=\"text-align: right;\">\n",
       "      <th></th>\n",
       "      <th>1</th>\n",
       "      <th>2</th>\n",
       "    </tr>\n",
       "    <tr>\n",
       "      <th>store_identifier</th>\n",
       "      <th></th>\n",
       "      <th></th>\n",
       "    </tr>\n",
       "  </thead>\n",
       "  <tbody>\n",
       "    <tr>\n",
       "      <th>store_00000</th>\n",
       "      <td>-0.035069</td>\n",
       "      <td>-0.040752</td>\n",
       "    </tr>\n",
       "    <tr>\n",
       "      <th>store_00001</th>\n",
       "      <td>0.031712</td>\n",
       "      <td>0.025559</td>\n",
       "    </tr>\n",
       "    <tr>\n",
       "      <th>store_00002</th>\n",
       "      <td>0.009002</td>\n",
       "      <td>0.007353</td>\n",
       "    </tr>\n",
       "    <tr>\n",
       "      <th>store_00007</th>\n",
       "      <td>0.147210</td>\n",
       "      <td>0.123677</td>\n",
       "    </tr>\n",
       "    <tr>\n",
       "      <th>store_00009</th>\n",
       "      <td>-0.029448</td>\n",
       "      <td>-0.031034</td>\n",
       "    </tr>\n",
       "  </tbody>\n",
       "</table>\n",
       "</div>"
      ],
      "text/plain": [
       "                         1         2\n",
       "store_identifier                    \n",
       "store_00000      -0.035069 -0.040752\n",
       "store_00001       0.031712  0.025559\n",
       "store_00002       0.009002  0.007353\n",
       "store_00007       0.147210  0.123677\n",
       "store_00009      -0.029448 -0.031034"
      ]
     },
     "execution_count": 60,
     "metadata": {},
     "output_type": "execute_result"
    }
   ],
   "source": [
    "storidenstan.head()"
   ]
  },
  {
   "cell_type": "code",
   "execution_count": 61,
   "metadata": {},
   "outputs": [
    {
     "data": {
      "text/plain": [
       "{1: 1163414.0000000005,\n",
       " 2: 27477.431756741968,\n",
       " 3: 12983.648956911647,\n",
       " 4: 9328.36233219374,\n",
       " 5: 6854.773856734455,\n",
       " 6: 4944.304709733093,\n",
       " 7: 3683.6505424179013,\n",
       " 8: 2897.4510459532285,\n",
       " 9: 2267.6873867281265,\n",
       " 10: 1841.519379212664,\n",
       " 11: 1585.3876929582727,\n",
       " 12: 1399.809757037472,\n",
       " 13: 1247.0410106247732,\n",
       " 14: 1135.228279684074}"
      ]
     },
     "execution_count": 61,
     "metadata": {},
     "output_type": "execute_result"
    }
   ],
   "source": [
    "#Scree Plot\n",
    "wss= {}\n",
    "for k in range(1, 15):\n",
    "    kmeans = KMeans(n_clusters=k, max_iter=1000).fit(storidenstan)\n",
    "    #clusters = kmeans.labels_\n",
    "    wss[k] = kmeans.inertia_ \n",
    "    # Inertia: Sum of squared distances of samples to their closest cluster center\n",
    "wss"
   ]
  },
  {
   "cell_type": "code",
   "execution_count": 62,
   "metadata": {},
   "outputs": [
    {
     "data": {
      "image/png": "[encoded data removed]",
      "text/plain": [
       "<Figure size 432x288 with 1 Axes>"
      ]
     },
     "metadata": {
      "needs_background": "light"
     },
     "output_type": "display_data"
    }
   ],
   "source": [
    "plt.figure()\n",
    "plt.plot(list(wss.keys()), list(wss.values()))\n",
    "plt.xlabel(\"Number of clusters\")\n",
    "plt.ylabel(\"WSS\")\n",
    "plt.title(\"Elbow Curve\")\n",
    "plt.show()"
   ]
  },
  {
   "cell_type": "code",
   "execution_count": 63,
   "metadata": {},
   "outputs": [
    {
     "data": {
      "text/plain": [
       "KMeans(algorithm='auto', copy_x=True, init='k-means++', max_iter=300,\n",
       "       n_clusters=9, n_init=10, n_jobs=None, precompute_distances='auto',\n",
       "       random_state=None, tol=0.0001, verbose=0)"
      ]
     },
     "execution_count": 63,
     "metadata": {},
     "output_type": "execute_result"
    }
   ],
   "source": [
    "\n",
    "kmeans_storiden = KMeans(n_clusters=9)\n",
    "kmeans_storiden.fit(storidenstan)"
   ]
  },
  {
   "cell_type": "code",
   "execution_count": 64,
   "metadata": {},
   "outputs": [
    {
     "data": {
      "text/html": [
       "<div>\n",
       "<style scoped>\n",
       "    .dataframe tbody tr th:only-of-type {\n",
       "        vertical-align: middle;\n",
       "    }\n",
       "\n",
       "    .dataframe tbody tr th {\n",
       "        vertical-align: top;\n",
       "    }\n",
       "\n",
       "    .dataframe thead th {\n",
       "        text-align: right;\n",
       "    }\n",
       "</style>\n",
       "<table border=\"1\" class=\"dataframe\">\n",
       "  <thead>\n",
       "    <tr style=\"text-align: right;\">\n",
       "      <th></th>\n",
       "      <th>1</th>\n",
       "      <th>2</th>\n",
       "      <th>storiden_cluster</th>\n",
       "    </tr>\n",
       "    <tr>\n",
       "      <th>store_identifier</th>\n",
       "      <th></th>\n",
       "      <th></th>\n",
       "      <th></th>\n",
       "    </tr>\n",
       "  </thead>\n",
       "  <tbody>\n",
       "    <tr>\n",
       "      <th>store_00000</th>\n",
       "      <td>-0.035069</td>\n",
       "      <td>-0.040752</td>\n",
       "      <td>0</td>\n",
       "    </tr>\n",
       "    <tr>\n",
       "      <th>store_00001</th>\n",
       "      <td>0.031712</td>\n",
       "      <td>0.025559</td>\n",
       "      <td>6</td>\n",
       "    </tr>\n",
       "    <tr>\n",
       "      <th>store_00002</th>\n",
       "      <td>0.009002</td>\n",
       "      <td>0.007353</td>\n",
       "      <td>0</td>\n",
       "    </tr>\n",
       "    <tr>\n",
       "      <th>store_00007</th>\n",
       "      <td>0.147210</td>\n",
       "      <td>0.123677</td>\n",
       "      <td>6</td>\n",
       "    </tr>\n",
       "    <tr>\n",
       "      <th>store_00009</th>\n",
       "      <td>-0.029448</td>\n",
       "      <td>-0.031034</td>\n",
       "      <td>0</td>\n",
       "    </tr>\n",
       "  </tbody>\n",
       "</table>\n",
       "</div>"
      ],
      "text/plain": [
       "                         1         2  storiden_cluster\n",
       "store_identifier                                      \n",
       "store_00000      -0.035069 -0.040752                 0\n",
       "store_00001       0.031712  0.025559                 6\n",
       "store_00002       0.009002  0.007353                 0\n",
       "store_00007       0.147210  0.123677                 6\n",
       "store_00009      -0.029448 -0.031034                 0"
      ]
     },
     "execution_count": 64,
     "metadata": {},
     "output_type": "execute_result"
    }
   ],
   "source": [
    "storidenstan[\"storiden_cluster\"]=kmeans_storiden.predict(storidenstan)\n",
    "storidenstan.head()"
   ]
  },
  {
   "cell_type": "code",
   "execution_count": 65,
   "metadata": {},
   "outputs": [
    {
     "data": {
      "text/plain": [
       "0    489284\n",
       "6     82345\n",
       "3      7934\n",
       "8      1469\n",
       "5       563\n",
       "2       104\n",
       "7         6\n",
       "4         1\n",
       "1         1\n",
       "Name: storiden_cluster, dtype: int64"
      ]
     },
     "execution_count": 65,
     "metadata": {},
     "output_type": "execute_result"
    }
   ],
   "source": [
    "storidenstan.storiden_cluster.value_counts()"
   ]
  },
  {
   "cell_type": "code",
   "execution_count": 66,
   "metadata": {},
   "outputs": [
    {
     "data": {
      "text/html": [
       "<div>\n",
       "<style scoped>\n",
       "    .dataframe tbody tr th:only-of-type {\n",
       "        vertical-align: middle;\n",
       "    }\n",
       "\n",
       "    .dataframe tbody tr th {\n",
       "        vertical-align: top;\n",
       "    }\n",
       "\n",
       "    .dataframe thead th {\n",
       "        text-align: right;\n",
       "    }\n",
       "</style>\n",
       "<table border=\"1\" class=\"dataframe\">\n",
       "  <thead>\n",
       "    <tr style=\"text-align: right;\">\n",
       "      <th></th>\n",
       "      <th>experiment_week</th>\n",
       "      <th>channel_type</th>\n",
       "      <th>store_identifier</th>\n",
       "      <th>product_identifier</th>\n",
       "      <th>category_of_route</th>\n",
       "      <th>supplier_identifier</th>\n",
       "      <th>Demand</th>\n",
       "      <th>Gross_Revenue</th>\n",
       "      <th>suppiden_cluster</th>\n",
       "      <th>cateofrt_cluster</th>\n",
       "      <th>storiden_cluster</th>\n",
       "    </tr>\n",
       "  </thead>\n",
       "  <tbody>\n",
       "    <tr>\n",
       "      <th>0</th>\n",
       "      <td>Week 1 of 2019</td>\n",
       "      <td>Warehouse Retailers</td>\n",
       "      <td>store_fc6aa</td>\n",
       "      <td>product_cbfad</td>\n",
       "      <td>route_67047</td>\n",
       "      <td>supplier_identifier_055f7</td>\n",
       "      <td>3</td>\n",
       "      <td>377.1</td>\n",
       "      <td>0</td>\n",
       "      <td>6</td>\n",
       "      <td>0</td>\n",
       "    </tr>\n",
       "    <tr>\n",
       "      <th>1</th>\n",
       "      <td>Week 1 of 2019</td>\n",
       "      <td>Warehouse Retailers</td>\n",
       "      <td>store_fc6aa</td>\n",
       "      <td>product_2b363</td>\n",
       "      <td>route_67047</td>\n",
       "      <td>supplier_identifier_055f7</td>\n",
       "      <td>4</td>\n",
       "      <td>502.8</td>\n",
       "      <td>0</td>\n",
       "      <td>6</td>\n",
       "      <td>0</td>\n",
       "    </tr>\n",
       "    <tr>\n",
       "      <th>2</th>\n",
       "      <td>Week 1 of 2019</td>\n",
       "      <td>Warehouse Retailers</td>\n",
       "      <td>store_fc6aa</td>\n",
       "      <td>product_8de14</td>\n",
       "      <td>route_67047</td>\n",
       "      <td>supplier_identifier_055f7</td>\n",
       "      <td>4</td>\n",
       "      <td>589.8</td>\n",
       "      <td>0</td>\n",
       "      <td>6</td>\n",
       "      <td>0</td>\n",
       "    </tr>\n",
       "    <tr>\n",
       "      <th>3</th>\n",
       "      <td>Week 1 of 2019</td>\n",
       "      <td>Warehouse Retailers</td>\n",
       "      <td>store_fc6aa</td>\n",
       "      <td>product_1c00e</td>\n",
       "      <td>route_67047</td>\n",
       "      <td>supplier_identifier_055f7</td>\n",
       "      <td>4</td>\n",
       "      <td>502.8</td>\n",
       "      <td>0</td>\n",
       "      <td>6</td>\n",
       "      <td>0</td>\n",
       "    </tr>\n",
       "    <tr>\n",
       "      <th>4</th>\n",
       "      <td>Week 1 of 2019</td>\n",
       "      <td>Warehouse Retailers</td>\n",
       "      <td>store_fc6aa</td>\n",
       "      <td>product_55001</td>\n",
       "      <td>route_67047</td>\n",
       "      <td>supplier_identifier_055f7</td>\n",
       "      <td>3</td>\n",
       "      <td>343.8</td>\n",
       "      <td>0</td>\n",
       "      <td>6</td>\n",
       "      <td>0</td>\n",
       "    </tr>\n",
       "  </tbody>\n",
       "</table>\n",
       "</div>"
      ],
      "text/plain": [
       "  experiment_week         channel_type store_identifier product_identifier  \\\n",
       "0  Week 1 of 2019  Warehouse Retailers      store_fc6aa      product_cbfad   \n",
       "1  Week 1 of 2019  Warehouse Retailers      store_fc6aa      product_2b363   \n",
       "2  Week 1 of 2019  Warehouse Retailers      store_fc6aa      product_8de14   \n",
       "3  Week 1 of 2019  Warehouse Retailers      store_fc6aa      product_1c00e   \n",
       "4  Week 1 of 2019  Warehouse Retailers      store_fc6aa      product_55001   \n",
       "\n",
       "  category_of_route        supplier_identifier  Demand  Gross_Revenue  \\\n",
       "0       route_67047  supplier_identifier_055f7       3          377.1   \n",
       "1       route_67047  supplier_identifier_055f7       4          502.8   \n",
       "2       route_67047  supplier_identifier_055f7       4          589.8   \n",
       "3       route_67047  supplier_identifier_055f7       4          502.8   \n",
       "4       route_67047  supplier_identifier_055f7       3          343.8   \n",
       "\n",
       "   suppiden_cluster  cateofrt_cluster  storiden_cluster  \n",
       "0                 0                 6                 0  \n",
       "1                 0                 6                 0  \n",
       "2                 0                 6                 0  \n",
       "3                 0                 6                 0  \n",
       "4                 0                 6                 0  "
      ]
     },
     "execution_count": 66,
     "metadata": {},
     "output_type": "execute_result"
    }
   ],
   "source": [
    "traindata=pd.merge(traindata,storidenstan,left_on=\"store_identifier\",right_on=\"store_identifier\")\n",
    "traindata.drop([\"1\",\"2\"],axis=1,inplace=True)\n",
    "traindata.head()"
   ]
  },
  {
   "cell_type": "code",
   "execution_count": 67,
   "metadata": {},
   "outputs": [
    {
     "data": {
      "text/plain": [
       "<matplotlib.axes._subplots.AxesSubplot at 0x118c38128>"
      ]
     },
     "execution_count": 67,
     "metadata": {},
     "output_type": "execute_result"
    },
    {
     "data": {
      "image/png": "[encoded data removed]",
      "text/plain": [
       "<Figure size 432x288 with 1 Axes>"
      ]
     },
     "metadata": {
      "needs_background": "light"
     },
     "output_type": "display_data"
    }
   ],
   "source": [
    "sns.countplot(traindata.storiden_cluster)"
   ]
  },
  {
   "cell_type": "markdown",
   "metadata": {},
   "source": [
    "## Product Identifier\n",
    "\n",
    "Here we will segregate all the Products into clusters "
   ]
  },
  {
   "cell_type": "code",
   "execution_count": 68,
   "metadata": {},
   "outputs": [],
   "source": [
    "prodiden=traindata.groupby(\"product_identifier\").sum()"
   ]
  },
  {
   "cell_type": "code",
   "execution_count": 69,
   "metadata": {},
   "outputs": [
    {
     "data": {
      "text/html": [
       "<div>\n",
       "<style scoped>\n",
       "    .dataframe tbody tr th:only-of-type {\n",
       "        vertical-align: middle;\n",
       "    }\n",
       "\n",
       "    .dataframe tbody tr th {\n",
       "        vertical-align: top;\n",
       "    }\n",
       "\n",
       "    .dataframe thead th {\n",
       "        text-align: right;\n",
       "    }\n",
       "</style>\n",
       "<table border=\"1\" class=\"dataframe\">\n",
       "  <thead>\n",
       "    <tr style=\"text-align: right;\">\n",
       "      <th></th>\n",
       "      <th>Demand</th>\n",
       "      <th>Gross_Revenue</th>\n",
       "      <th>suppiden_cluster</th>\n",
       "      <th>cateofrt_cluster</th>\n",
       "      <th>storiden_cluster</th>\n",
       "    </tr>\n",
       "    <tr>\n",
       "      <th>product_identifier</th>\n",
       "      <th></th>\n",
       "      <th></th>\n",
       "      <th></th>\n",
       "      <th></th>\n",
       "      <th></th>\n",
       "    </tr>\n",
       "  </thead>\n",
       "  <tbody>\n",
       "    <tr>\n",
       "      <th>product_00037</th>\n",
       "      <td>28496</td>\n",
       "      <td>1.233364e+07</td>\n",
       "      <td>5225</td>\n",
       "      <td>8627</td>\n",
       "      <td>7675</td>\n",
       "    </tr>\n",
       "    <tr>\n",
       "      <th>product_00603</th>\n",
       "      <td>1</td>\n",
       "      <td>5.340000e+01</td>\n",
       "      <td>0</td>\n",
       "      <td>2</td>\n",
       "      <td>6</td>\n",
       "    </tr>\n",
       "    <tr>\n",
       "      <th>product_0087c</th>\n",
       "      <td>774525</td>\n",
       "      <td>1.991747e+08</td>\n",
       "      <td>497863</td>\n",
       "      <td>1409120</td>\n",
       "      <td>958297</td>\n",
       "    </tr>\n",
       "    <tr>\n",
       "      <th>product_00a5c</th>\n",
       "      <td>672</td>\n",
       "      <td>4.578336e+05</td>\n",
       "      <td>0</td>\n",
       "      <td>0</td>\n",
       "      <td>19</td>\n",
       "    </tr>\n",
       "    <tr>\n",
       "      <th>product_00a79</th>\n",
       "      <td>2474</td>\n",
       "      <td>6.136349e+05</td>\n",
       "      <td>300</td>\n",
       "      <td>432</td>\n",
       "      <td>768</td>\n",
       "    </tr>\n",
       "  </tbody>\n",
       "</table>\n",
       "</div>"
      ],
      "text/plain": [
       "                    Demand  Gross_Revenue  suppiden_cluster  cateofrt_cluster  \\\n",
       "product_identifier                                                              \n",
       "product_00037        28496   1.233364e+07              5225              8627   \n",
       "product_00603            1   5.340000e+01                 0                 2   \n",
       "product_0087c       774525   1.991747e+08            497863           1409120   \n",
       "product_00a5c          672   4.578336e+05                 0                 0   \n",
       "product_00a79         2474   6.136349e+05               300               432   \n",
       "\n",
       "                    storiden_cluster  \n",
       "product_identifier                    \n",
       "product_00037                   7675  \n",
       "product_00603                      6  \n",
       "product_0087c                 958297  \n",
       "product_00a5c                     19  \n",
       "product_00a79                    768  "
      ]
     },
     "execution_count": 69,
     "metadata": {},
     "output_type": "execute_result"
    }
   ],
   "source": [
    "prodiden.head()"
   ]
  },
  {
   "cell_type": "code",
   "execution_count": 70,
   "metadata": {},
   "outputs": [],
   "source": [
    "prodiden.drop([\"suppiden_cluster\",\"cateofrt_cluster\",\"storiden_cluster\"],axis=1,inplace=True)"
   ]
  },
  {
   "cell_type": "code",
   "execution_count": 71,
   "metadata": {},
   "outputs": [
    {
     "data": {
      "text/html": [
       "<div>\n",
       "<style scoped>\n",
       "    .dataframe tbody tr th:only-of-type {\n",
       "        vertical-align: middle;\n",
       "    }\n",
       "\n",
       "    .dataframe tbody tr th {\n",
       "        vertical-align: top;\n",
       "    }\n",
       "\n",
       "    .dataframe thead th {\n",
       "        text-align: right;\n",
       "    }\n",
       "</style>\n",
       "<table border=\"1\" class=\"dataframe\">\n",
       "  <thead>\n",
       "    <tr style=\"text-align: right;\">\n",
       "      <th></th>\n",
       "      <th>Demand</th>\n",
       "      <th>Gross_Revenue</th>\n",
       "    </tr>\n",
       "    <tr>\n",
       "      <th>product_identifier</th>\n",
       "      <th></th>\n",
       "      <th></th>\n",
       "    </tr>\n",
       "  </thead>\n",
       "  <tbody>\n",
       "    <tr>\n",
       "      <th>product_00037</th>\n",
       "      <td>28496</td>\n",
       "      <td>1.233364e+07</td>\n",
       "    </tr>\n",
       "    <tr>\n",
       "      <th>product_00603</th>\n",
       "      <td>1</td>\n",
       "      <td>5.340000e+01</td>\n",
       "    </tr>\n",
       "    <tr>\n",
       "      <th>product_0087c</th>\n",
       "      <td>774525</td>\n",
       "      <td>1.991747e+08</td>\n",
       "    </tr>\n",
       "    <tr>\n",
       "      <th>product_00a5c</th>\n",
       "      <td>672</td>\n",
       "      <td>4.578336e+05</td>\n",
       "    </tr>\n",
       "    <tr>\n",
       "      <th>product_00a79</th>\n",
       "      <td>2474</td>\n",
       "      <td>6.136349e+05</td>\n",
       "    </tr>\n",
       "  </tbody>\n",
       "</table>\n",
       "</div>"
      ],
      "text/plain": [
       "                    Demand  Gross_Revenue\n",
       "product_identifier                       \n",
       "product_00037        28496   1.233364e+07\n",
       "product_00603            1   5.340000e+01\n",
       "product_0087c       774525   1.991747e+08\n",
       "product_00a5c          672   4.578336e+05\n",
       "product_00a79         2474   6.136349e+05"
      ]
     },
     "execution_count": 71,
     "metadata": {},
     "output_type": "execute_result"
    }
   ],
   "source": [
    "prodiden.head()"
   ]
  },
  {
   "cell_type": "code",
   "execution_count": 72,
   "metadata": {},
   "outputs": [],
   "source": [
    "#Standardizing\n",
    "pridscalar=StandardScaler()\n",
    "pridscalar.fit(prodiden)\n",
    "prodidenstan=pd.DataFrame(pridscalar.transform(prodiden),columns=prodiden.columns,index=prodiden.index)"
   ]
  },
  {
   "cell_type": "code",
   "execution_count": 73,
   "metadata": {},
   "outputs": [
    {
     "data": {
      "text/html": [
       "<div>\n",
       "<style scoped>\n",
       "    .dataframe tbody tr th:only-of-type {\n",
       "        vertical-align: middle;\n",
       "    }\n",
       "\n",
       "    .dataframe tbody tr th {\n",
       "        vertical-align: top;\n",
       "    }\n",
       "\n",
       "    .dataframe thead th {\n",
       "        text-align: right;\n",
       "    }\n",
       "</style>\n",
       "<table border=\"1\" class=\"dataframe\">\n",
       "  <thead>\n",
       "    <tr style=\"text-align: right;\">\n",
       "      <th></th>\n",
       "      <th>Demand</th>\n",
       "      <th>Gross_Revenue</th>\n",
       "    </tr>\n",
       "    <tr>\n",
       "      <th>product_identifier</th>\n",
       "      <th></th>\n",
       "      <th></th>\n",
       "    </tr>\n",
       "  </thead>\n",
       "  <tbody>\n",
       "    <tr>\n",
       "      <th>product_00037</th>\n",
       "      <td>-0.189244</td>\n",
       "      <td>-0.137965</td>\n",
       "    </tr>\n",
       "    <tr>\n",
       "      <th>product_00603</th>\n",
       "      <td>-0.224787</td>\n",
       "      <td>-0.264381</td>\n",
       "    </tr>\n",
       "    <tr>\n",
       "      <th>product_0087c</th>\n",
       "      <td>0.741315</td>\n",
       "      <td>1.777098</td>\n",
       "    </tr>\n",
       "    <tr>\n",
       "      <th>product_00a5c</th>\n",
       "      <td>-0.223950</td>\n",
       "      <td>-0.259689</td>\n",
       "    </tr>\n",
       "    <tr>\n",
       "      <th>product_00a79</th>\n",
       "      <td>-0.221702</td>\n",
       "      <td>-0.258092</td>\n",
       "    </tr>\n",
       "  </tbody>\n",
       "</table>\n",
       "</div>"
      ],
      "text/plain": [
       "                      Demand  Gross_Revenue\n",
       "product_identifier                         \n",
       "product_00037      -0.189244      -0.137965\n",
       "product_00603      -0.224787      -0.264381\n",
       "product_0087c       0.741315       1.777098\n",
       "product_00a5c      -0.223950      -0.259689\n",
       "product_00a79      -0.221702      -0.258092"
      ]
     },
     "execution_count": 73,
     "metadata": {},
     "output_type": "execute_result"
    }
   ],
   "source": [
    "prodidenstan.head()"
   ]
  },
  {
   "cell_type": "code",
   "execution_count": 74,
   "metadata": {},
   "outputs": [],
   "source": [
    "prodidenstan.columns=[\"1\",\"2\"]"
   ]
  },
  {
   "cell_type": "code",
   "execution_count": 75,
   "metadata": {},
   "outputs": [
    {
     "data": {
      "text/html": [
       "<div>\n",
       "<style scoped>\n",
       "    .dataframe tbody tr th:only-of-type {\n",
       "        vertical-align: middle;\n",
       "    }\n",
       "\n",
       "    .dataframe tbody tr th {\n",
       "        vertical-align: top;\n",
       "    }\n",
       "\n",
       "    .dataframe thead th {\n",
       "        text-align: right;\n",
       "    }\n",
       "</style>\n",
       "<table border=\"1\" class=\"dataframe\">\n",
       "  <thead>\n",
       "    <tr style=\"text-align: right;\">\n",
       "      <th></th>\n",
       "      <th>1</th>\n",
       "      <th>2</th>\n",
       "    </tr>\n",
       "    <tr>\n",
       "      <th>product_identifier</th>\n",
       "      <th></th>\n",
       "      <th></th>\n",
       "    </tr>\n",
       "  </thead>\n",
       "  <tbody>\n",
       "    <tr>\n",
       "      <th>product_00037</th>\n",
       "      <td>-0.189244</td>\n",
       "      <td>-0.137965</td>\n",
       "    </tr>\n",
       "    <tr>\n",
       "      <th>product_00603</th>\n",
       "      <td>-0.224787</td>\n",
       "      <td>-0.264381</td>\n",
       "    </tr>\n",
       "    <tr>\n",
       "      <th>product_0087c</th>\n",
       "      <td>0.741315</td>\n",
       "      <td>1.777098</td>\n",
       "    </tr>\n",
       "    <tr>\n",
       "      <th>product_00a5c</th>\n",
       "      <td>-0.223950</td>\n",
       "      <td>-0.259689</td>\n",
       "    </tr>\n",
       "    <tr>\n",
       "      <th>product_00a79</th>\n",
       "      <td>-0.221702</td>\n",
       "      <td>-0.258092</td>\n",
       "    </tr>\n",
       "  </tbody>\n",
       "</table>\n",
       "</div>"
      ],
      "text/plain": [
       "                           1         2\n",
       "product_identifier                    \n",
       "product_00037      -0.189244 -0.137965\n",
       "product_00603      -0.224787 -0.264381\n",
       "product_0087c       0.741315  1.777098\n",
       "product_00a5c      -0.223950 -0.259689\n",
       "product_00a79      -0.221702 -0.258092"
      ]
     },
     "execution_count": 75,
     "metadata": {},
     "output_type": "execute_result"
    }
   ],
   "source": [
    "prodidenstan.head()"
   ]
  },
  {
   "cell_type": "code",
   "execution_count": 76,
   "metadata": {},
   "outputs": [
    {
     "data": {
      "text/plain": [
       "{1: 3408.0000000000005,\n",
       " 2: 1245.6112584664488,\n",
       " 3: 734.4235052380823,\n",
       " 4: 546.4343614269828,\n",
       " 5: 402.66303820790387,\n",
       " 6: 321.5975133099325,\n",
       " 7: 274.1938571110481,\n",
       " 8: 215.09752729075853,\n",
       " 9: 174.11710807624758,\n",
       " 10: 151.16549275311002,\n",
       " 11: 125.16567672910406,\n",
       " 12: 108.77162333417165,\n",
       " 13: 93.95859412813076,\n",
       " 14: 81.4589010565972}"
      ]
     },
     "execution_count": 76,
     "metadata": {},
     "output_type": "execute_result"
    }
   ],
   "source": [
    "#Scree Plot/Elbow Curve\n",
    "wss= {}\n",
    "for k in range(1, 15):\n",
    "    kmeans = KMeans(n_clusters=k, max_iter=1000).fit(prodidenstan)\n",
    "    #clusters = kmeans.labels_\n",
    "    wss[k] = kmeans.inertia_ \n",
    "    # Inertia: Sum of squared distances of samples to their closest cluster center\n",
    "wss"
   ]
  },
  {
   "cell_type": "code",
   "execution_count": 77,
   "metadata": {},
   "outputs": [
    {
     "data": {
      "image/png": "[encoded data removed]",
      "text/plain": [
       "<Figure size 432x288 with 1 Axes>"
      ]
     },
     "metadata": {
      "needs_background": "light"
     },
     "output_type": "display_data"
    }
   ],
   "source": [
    "plt.figure()\n",
    "plt.plot(list(wss.keys()), list(wss.values()))\n",
    "plt.xlabel(\"Number of clusters\")\n",
    "plt.ylabel(\"WSS\")\n",
    "plt.title(\"Elbow Curve\")\n",
    "plt.show()"
   ]
  },
  {
   "cell_type": "code",
   "execution_count": 78,
   "metadata": {},
   "outputs": [
    {
     "data": {
      "text/plain": [
       "KMeans(algorithm='auto', copy_x=True, init='k-means++', max_iter=300,\n",
       "       n_clusters=7, n_init=10, n_jobs=None, precompute_distances='auto',\n",
       "       random_state=None, tol=0.0001, verbose=0)"
      ]
     },
     "execution_count": 78,
     "metadata": {},
     "output_type": "execute_result"
    }
   ],
   "source": [
    "kmeans_prodiden = KMeans(n_clusters=7)\n",
    "kmeans_prodiden.fit(prodidenstan)"
   ]
  },
  {
   "cell_type": "code",
   "execution_count": 79,
   "metadata": {},
   "outputs": [
    {
     "data": {
      "text/html": [
       "<div>\n",
       "<style scoped>\n",
       "    .dataframe tbody tr th:only-of-type {\n",
       "        vertical-align: middle;\n",
       "    }\n",
       "\n",
       "    .dataframe tbody tr th {\n",
       "        vertical-align: top;\n",
       "    }\n",
       "\n",
       "    .dataframe thead th {\n",
       "        text-align: right;\n",
       "    }\n",
       "</style>\n",
       "<table border=\"1\" class=\"dataframe\">\n",
       "  <thead>\n",
       "    <tr style=\"text-align: right;\">\n",
       "      <th></th>\n",
       "      <th>1</th>\n",
       "      <th>2</th>\n",
       "      <th>prodiden_cluster</th>\n",
       "    </tr>\n",
       "    <tr>\n",
       "      <th>product_identifier</th>\n",
       "      <th></th>\n",
       "      <th></th>\n",
       "      <th></th>\n",
       "    </tr>\n",
       "  </thead>\n",
       "  <tbody>\n",
       "    <tr>\n",
       "      <th>product_00037</th>\n",
       "      <td>-0.189244</td>\n",
       "      <td>-0.137965</td>\n",
       "      <td>0</td>\n",
       "    </tr>\n",
       "    <tr>\n",
       "      <th>product_00603</th>\n",
       "      <td>-0.224787</td>\n",
       "      <td>-0.264381</td>\n",
       "      <td>0</td>\n",
       "    </tr>\n",
       "    <tr>\n",
       "      <th>product_0087c</th>\n",
       "      <td>0.741315</td>\n",
       "      <td>1.777098</td>\n",
       "      <td>3</td>\n",
       "    </tr>\n",
       "    <tr>\n",
       "      <th>product_00a5c</th>\n",
       "      <td>-0.223950</td>\n",
       "      <td>-0.259689</td>\n",
       "      <td>0</td>\n",
       "    </tr>\n",
       "    <tr>\n",
       "      <th>product_00a79</th>\n",
       "      <td>-0.221702</td>\n",
       "      <td>-0.258092</td>\n",
       "      <td>0</td>\n",
       "    </tr>\n",
       "  </tbody>\n",
       "</table>\n",
       "</div>"
      ],
      "text/plain": [
       "                           1         2  prodiden_cluster\n",
       "product_identifier                                      \n",
       "product_00037      -0.189244 -0.137965                 0\n",
       "product_00603      -0.224787 -0.264381                 0\n",
       "product_0087c       0.741315  1.777098                 3\n",
       "product_00a5c      -0.223950 -0.259689                 0\n",
       "product_00a79      -0.221702 -0.258092                 0"
      ]
     },
     "execution_count": 79,
     "metadata": {},
     "output_type": "execute_result"
    }
   ],
   "source": [
    "prodidenstan[\"prodiden_cluster\"]=kmeans_prodiden.predict(prodidenstan)\n",
    "prodidenstan.head()"
   ]
  },
  {
   "cell_type": "code",
   "execution_count": 80,
   "metadata": {},
   "outputs": [
    {
     "data": {
      "text/plain": [
       "<matplotlib.axes._subplots.AxesSubplot at 0x1187b2668>"
      ]
     },
     "execution_count": 80,
     "metadata": {},
     "output_type": "execute_result"
    },
    {
     "data": {
      "image/png": "[encoded data removed]",
      "text/plain": [
       "<Figure size 432x288 with 1 Axes>"
      ]
     },
     "metadata": {
      "needs_background": "light"
     },
     "output_type": "display_data"
    }
   ],
   "source": [
    "sns.countplot(prodidenstan.prodiden_cluster)"
   ]
  },
  {
   "cell_type": "code",
   "execution_count": 81,
   "metadata": {},
   "outputs": [
    {
     "data": {
      "text/html": [
       "<div>\n",
       "<style scoped>\n",
       "    .dataframe tbody tr th:only-of-type {\n",
       "        vertical-align: middle;\n",
       "    }\n",
       "\n",
       "    .dataframe tbody tr th {\n",
       "        vertical-align: top;\n",
       "    }\n",
       "\n",
       "    .dataframe thead th {\n",
       "        text-align: right;\n",
       "    }\n",
       "</style>\n",
       "<table border=\"1\" class=\"dataframe\">\n",
       "  <thead>\n",
       "    <tr style=\"text-align: right;\">\n",
       "      <th></th>\n",
       "      <th>experiment_week</th>\n",
       "      <th>channel_type</th>\n",
       "      <th>store_identifier</th>\n",
       "      <th>product_identifier</th>\n",
       "      <th>category_of_route</th>\n",
       "      <th>supplier_identifier</th>\n",
       "      <th>Demand</th>\n",
       "      <th>Gross_Revenue</th>\n",
       "      <th>suppiden_cluster</th>\n",
       "      <th>cateofrt_cluster</th>\n",
       "      <th>storiden_cluster</th>\n",
       "      <th>prodiden_cluster</th>\n",
       "    </tr>\n",
       "  </thead>\n",
       "  <tbody>\n",
       "    <tr>\n",
       "      <th>0</th>\n",
       "      <td>Week 1 of 2019</td>\n",
       "      <td>Warehouse Retailers</td>\n",
       "      <td>store_fc6aa</td>\n",
       "      <td>product_cbfad</td>\n",
       "      <td>route_67047</td>\n",
       "      <td>supplier_identifier_055f7</td>\n",
       "      <td>3</td>\n",
       "      <td>377.1</td>\n",
       "      <td>0</td>\n",
       "      <td>6</td>\n",
       "      <td>0</td>\n",
       "      <td>2</td>\n",
       "    </tr>\n",
       "    <tr>\n",
       "      <th>1</th>\n",
       "      <td>Week 2 of 2019</td>\n",
       "      <td>Warehouse Retailers</td>\n",
       "      <td>store_fc6aa</td>\n",
       "      <td>product_cbfad</td>\n",
       "      <td>route_67047</td>\n",
       "      <td>supplier_identifier_055f7</td>\n",
       "      <td>4</td>\n",
       "      <td>502.8</td>\n",
       "      <td>0</td>\n",
       "      <td>6</td>\n",
       "      <td>0</td>\n",
       "      <td>2</td>\n",
       "    </tr>\n",
       "    <tr>\n",
       "      <th>2</th>\n",
       "      <td>Week 3 of 2019</td>\n",
       "      <td>Warehouse Retailers</td>\n",
       "      <td>store_fc6aa</td>\n",
       "      <td>product_cbfad</td>\n",
       "      <td>route_67047</td>\n",
       "      <td>supplier_identifier_055f7</td>\n",
       "      <td>5</td>\n",
       "      <td>628.5</td>\n",
       "      <td>0</td>\n",
       "      <td>6</td>\n",
       "      <td>0</td>\n",
       "      <td>2</td>\n",
       "    </tr>\n",
       "    <tr>\n",
       "      <th>3</th>\n",
       "      <td>Week 2 of 2019</td>\n",
       "      <td>Grocery Stores</td>\n",
       "      <td>store_d4cb0</td>\n",
       "      <td>product_cbfad</td>\n",
       "      <td>route_3b474</td>\n",
       "      <td>supplier_identifier_d818f</td>\n",
       "      <td>2</td>\n",
       "      <td>251.4</td>\n",
       "      <td>0</td>\n",
       "      <td>4</td>\n",
       "      <td>0</td>\n",
       "      <td>2</td>\n",
       "    </tr>\n",
       "    <tr>\n",
       "      <th>4</th>\n",
       "      <td>Week 3 of 2019</td>\n",
       "      <td>Grocery Stores</td>\n",
       "      <td>store_d4cb0</td>\n",
       "      <td>product_cbfad</td>\n",
       "      <td>route_3b474</td>\n",
       "      <td>supplier_identifier_d818f</td>\n",
       "      <td>1</td>\n",
       "      <td>125.7</td>\n",
       "      <td>0</td>\n",
       "      <td>4</td>\n",
       "      <td>0</td>\n",
       "      <td>2</td>\n",
       "    </tr>\n",
       "  </tbody>\n",
       "</table>\n",
       "</div>"
      ],
      "text/plain": [
       "  experiment_week         channel_type store_identifier product_identifier  \\\n",
       "0  Week 1 of 2019  Warehouse Retailers      store_fc6aa      product_cbfad   \n",
       "1  Week 2 of 2019  Warehouse Retailers      store_fc6aa      product_cbfad   \n",
       "2  Week 3 of 2019  Warehouse Retailers      store_fc6aa      product_cbfad   \n",
       "3  Week 2 of 2019       Grocery Stores      store_d4cb0      product_cbfad   \n",
       "4  Week 3 of 2019       Grocery Stores      store_d4cb0      product_cbfad   \n",
       "\n",
       "  category_of_route        supplier_identifier  Demand  Gross_Revenue  \\\n",
       "0       route_67047  supplier_identifier_055f7       3          377.1   \n",
       "1       route_67047  supplier_identifier_055f7       4          502.8   \n",
       "2       route_67047  supplier_identifier_055f7       5          628.5   \n",
       "3       route_3b474  supplier_identifier_d818f       2          251.4   \n",
       "4       route_3b474  supplier_identifier_d818f       1          125.7   \n",
       "\n",
       "   suppiden_cluster  cateofrt_cluster  storiden_cluster  prodiden_cluster  \n",
       "0                 0                 6                 0                 2  \n",
       "1                 0                 6                 0                 2  \n",
       "2                 0                 6                 0                 2  \n",
       "3                 0                 4                 0                 2  \n",
       "4                 0                 4                 0                 2  "
      ]
     },
     "execution_count": 81,
     "metadata": {},
     "output_type": "execute_result"
    }
   ],
   "source": [
    "traindata=pd.merge(traindata,prodidenstan,left_on=\"product_identifier\",right_on=\"product_identifier\")\n",
    "traindata.drop([\"1\",\"2\"],axis=1,inplace=True)\n",
    "traindata.head()"
   ]
  },
  {
   "cell_type": "markdown",
   "metadata": {},
   "source": [
    "## All of Features Extracted/Engineered:\n",
    "### suppiden_cluster                 \n",
    "### cateofrt_cluster                 \n",
    "### storiden_cluster                 \n",
    "### prodiden_cluster                 "
   ]
  },
  {
   "cell_type": "markdown",
   "metadata": {},
   "source": [
    "## Model Building "
   ]
  },
  {
   "cell_type": "code",
   "execution_count": 84,
   "metadata": {},
   "outputs": [],
   "source": [
    "#Taking a Sample of 10,00,000 Data, since Model Building on all the data is very computationally Expensive\n",
    "modeltrain=traindata.sample(n=1000000,random_state=23456)"
   ]
  },
  {
   "cell_type": "code",
   "execution_count": 85,
   "metadata": {},
   "outputs": [
    {
     "data": {
      "text/html": [
       "<div>\n",
       "<style scoped>\n",
       "    .dataframe tbody tr th:only-of-type {\n",
       "        vertical-align: middle;\n",
       "    }\n",
       "\n",
       "    .dataframe tbody tr th {\n",
       "        vertical-align: top;\n",
       "    }\n",
       "\n",
       "    .dataframe thead th {\n",
       "        text-align: right;\n",
       "    }\n",
       "</style>\n",
       "<table border=\"1\" class=\"dataframe\">\n",
       "  <thead>\n",
       "    <tr style=\"text-align: right;\">\n",
       "      <th></th>\n",
       "      <th>experiment_week</th>\n",
       "      <th>channel_type</th>\n",
       "      <th>store_identifier</th>\n",
       "      <th>product_identifier</th>\n",
       "      <th>category_of_route</th>\n",
       "      <th>supplier_identifier</th>\n",
       "      <th>Demand</th>\n",
       "      <th>Gross_Revenue</th>\n",
       "      <th>suppiden_cluster</th>\n",
       "      <th>cateofrt_cluster</th>\n",
       "      <th>storiden_cluster</th>\n",
       "      <th>prodiden_cluster</th>\n",
       "    </tr>\n",
       "  </thead>\n",
       "  <tbody>\n",
       "    <tr>\n",
       "      <th>9527216</th>\n",
       "      <td>Week 1 of 2019</td>\n",
       "      <td>Grocery Stores</td>\n",
       "      <td>store_175b8</td>\n",
       "      <td>product_f79b8</td>\n",
       "      <td>route_e81d4</td>\n",
       "      <td>supplier_identifier_fe91a</td>\n",
       "      <td>1</td>\n",
       "      <td>114.60</td>\n",
       "      <td>2</td>\n",
       "      <td>5</td>\n",
       "      <td>0</td>\n",
       "      <td>3</td>\n",
       "    </tr>\n",
       "    <tr>\n",
       "      <th>12809840</th>\n",
       "      <td>Week 4 of 2019</td>\n",
       "      <td>Grocery Stores</td>\n",
       "      <td>store_87f3a</td>\n",
       "      <td>product_5943e</td>\n",
       "      <td>route_56cc2</td>\n",
       "      <td>supplier_identifier_7e62c</td>\n",
       "      <td>10</td>\n",
       "      <td>1338.00</td>\n",
       "      <td>1</td>\n",
       "      <td>5</td>\n",
       "      <td>6</td>\n",
       "      <td>2</td>\n",
       "    </tr>\n",
       "    <tr>\n",
       "      <th>27435761</th>\n",
       "      <td>Week 4 of 2019</td>\n",
       "      <td>Grocery Stores</td>\n",
       "      <td>store_da126</td>\n",
       "      <td>product_e9ab3</td>\n",
       "      <td>route_9989a</td>\n",
       "      <td>supplier_identifier_f79b8</td>\n",
       "      <td>2</td>\n",
       "      <td>528.00</td>\n",
       "      <td>1</td>\n",
       "      <td>6</td>\n",
       "      <td>0</td>\n",
       "      <td>2</td>\n",
       "    </tr>\n",
       "    <tr>\n",
       "      <th>28888223</th>\n",
       "      <td>Week 3 of 2019</td>\n",
       "      <td>Grocery Stores</td>\n",
       "      <td>store_a6935</td>\n",
       "      <td>product_9f937</td>\n",
       "      <td>route_58557</td>\n",
       "      <td>supplier_identifier_8c244</td>\n",
       "      <td>1</td>\n",
       "      <td>160.35</td>\n",
       "      <td>2</td>\n",
       "      <td>2</td>\n",
       "      <td>0</td>\n",
       "      <td>3</td>\n",
       "    </tr>\n",
       "    <tr>\n",
       "      <th>31411775</th>\n",
       "      <td>Week 1 of 2019</td>\n",
       "      <td>Grocery Stores</td>\n",
       "      <td>store_61931</td>\n",
       "      <td>product_74361</td>\n",
       "      <td>route_b3252</td>\n",
       "      <td>supplier_identifier_77598</td>\n",
       "      <td>2</td>\n",
       "      <td>264.00</td>\n",
       "      <td>2</td>\n",
       "      <td>6</td>\n",
       "      <td>0</td>\n",
       "      <td>0</td>\n",
       "    </tr>\n",
       "  </tbody>\n",
       "</table>\n",
       "</div>"
      ],
      "text/plain": [
       "         experiment_week    channel_type store_identifier product_identifier  \\\n",
       "9527216   Week 1 of 2019  Grocery Stores      store_175b8      product_f79b8   \n",
       "12809840  Week 4 of 2019  Grocery Stores      store_87f3a      product_5943e   \n",
       "27435761  Week 4 of 2019  Grocery Stores      store_da126      product_e9ab3   \n",
       "28888223  Week 3 of 2019  Grocery Stores      store_a6935      product_9f937   \n",
       "31411775  Week 1 of 2019  Grocery Stores      store_61931      product_74361   \n",
       "\n",
       "         category_of_route        supplier_identifier  Demand  Gross_Revenue  \\\n",
       "9527216        route_e81d4  supplier_identifier_fe91a       1         114.60   \n",
       "12809840       route_56cc2  supplier_identifier_7e62c      10        1338.00   \n",
       "27435761       route_9989a  supplier_identifier_f79b8       2         528.00   \n",
       "28888223       route_58557  supplier_identifier_8c244       1         160.35   \n",
       "31411775       route_b3252  supplier_identifier_77598       2         264.00   \n",
       "\n",
       "          suppiden_cluster  cateofrt_cluster  storiden_cluster  \\\n",
       "9527216                  2                 5                 0   \n",
       "12809840                 1                 5                 6   \n",
       "27435761                 1                 6                 0   \n",
       "28888223                 2                 2                 0   \n",
       "31411775                 2                 6                 0   \n",
       "\n",
       "          prodiden_cluster  \n",
       "9527216                  3  \n",
       "12809840                 2  \n",
       "27435761                 2  \n",
       "28888223                 3  \n",
       "31411775                 0  "
      ]
     },
     "execution_count": 85,
     "metadata": {},
     "output_type": "execute_result"
    }
   ],
   "source": [
    "modeltrain.head()"
   ]
  },
  {
   "cell_type": "code",
   "execution_count": 86,
   "metadata": {},
   "outputs": [
    {
     "data": {
      "text/plain": [
       "Index(['experiment_week', 'channel_type', 'store_identifier',\n",
       "       'product_identifier', 'category_of_route', 'supplier_identifier',\n",
       "       'Demand', 'Gross_Revenue', 'suppiden_cluster', 'cateofrt_cluster',\n",
       "       'storiden_cluster', 'prodiden_cluster'],\n",
       "      dtype='object')"
      ]
     },
     "execution_count": 86,
     "metadata": {},
     "output_type": "execute_result"
    }
   ],
   "source": [
    "modeltrain.columns"
   ]
  },
  {
   "cell_type": "code",
   "execution_count": 87,
   "metadata": {},
   "outputs": [
    {
     "data": {
      "text/html": [
       "<div>\n",
       "<style scoped>\n",
       "    .dataframe tbody tr th:only-of-type {\n",
       "        vertical-align: middle;\n",
       "    }\n",
       "\n",
       "    .dataframe tbody tr th {\n",
       "        vertical-align: top;\n",
       "    }\n",
       "\n",
       "    .dataframe thead th {\n",
       "        text-align: right;\n",
       "    }\n",
       "</style>\n",
       "<table border=\"1\" class=\"dataframe\">\n",
       "  <thead>\n",
       "    <tr style=\"text-align: right;\">\n",
       "      <th></th>\n",
       "      <th>channel_type</th>\n",
       "      <th>Demand</th>\n",
       "      <th>Gross_Revenue</th>\n",
       "      <th>suppiden_cluster</th>\n",
       "      <th>cateofrt_cluster</th>\n",
       "      <th>storiden_cluster</th>\n",
       "      <th>prodiden_cluster</th>\n",
       "    </tr>\n",
       "  </thead>\n",
       "  <tbody>\n",
       "    <tr>\n",
       "      <th>9527216</th>\n",
       "      <td>Grocery Stores</td>\n",
       "      <td>1</td>\n",
       "      <td>114.60</td>\n",
       "      <td>2</td>\n",
       "      <td>5</td>\n",
       "      <td>0</td>\n",
       "      <td>3</td>\n",
       "    </tr>\n",
       "    <tr>\n",
       "      <th>12809840</th>\n",
       "      <td>Grocery Stores</td>\n",
       "      <td>10</td>\n",
       "      <td>1338.00</td>\n",
       "      <td>1</td>\n",
       "      <td>5</td>\n",
       "      <td>6</td>\n",
       "      <td>2</td>\n",
       "    </tr>\n",
       "    <tr>\n",
       "      <th>27435761</th>\n",
       "      <td>Grocery Stores</td>\n",
       "      <td>2</td>\n",
       "      <td>528.00</td>\n",
       "      <td>1</td>\n",
       "      <td>6</td>\n",
       "      <td>0</td>\n",
       "      <td>2</td>\n",
       "    </tr>\n",
       "    <tr>\n",
       "      <th>28888223</th>\n",
       "      <td>Grocery Stores</td>\n",
       "      <td>1</td>\n",
       "      <td>160.35</td>\n",
       "      <td>2</td>\n",
       "      <td>2</td>\n",
       "      <td>0</td>\n",
       "      <td>3</td>\n",
       "    </tr>\n",
       "    <tr>\n",
       "      <th>31411775</th>\n",
       "      <td>Grocery Stores</td>\n",
       "      <td>2</td>\n",
       "      <td>264.00</td>\n",
       "      <td>2</td>\n",
       "      <td>6</td>\n",
       "      <td>0</td>\n",
       "      <td>0</td>\n",
       "    </tr>\n",
       "  </tbody>\n",
       "</table>\n",
       "</div>"
      ],
      "text/plain": [
       "            channel_type  Demand  Gross_Revenue  suppiden_cluster  \\\n",
       "9527216   Grocery Stores       1         114.60                 2   \n",
       "12809840  Grocery Stores      10        1338.00                 1   \n",
       "27435761  Grocery Stores       2         528.00                 1   \n",
       "28888223  Grocery Stores       1         160.35                 2   \n",
       "31411775  Grocery Stores       2         264.00                 2   \n",
       "\n",
       "          cateofrt_cluster  storiden_cluster  prodiden_cluster  \n",
       "9527216                  5                 0                 3  \n",
       "12809840                 5                 6                 2  \n",
       "27435761                 6                 0                 2  \n",
       "28888223                 2                 0                 3  \n",
       "31411775                 6                 0                 0  "
      ]
     },
     "execution_count": 87,
     "metadata": {},
     "output_type": "execute_result"
    }
   ],
   "source": [
    "#Dropping the ID Columns\n",
    "modeltrain.drop(['experiment_week', 'store_identifier', 'product_identifier','category_of_route', 'supplier_identifier'], axis=1,inplace=True)\n",
    "modeltrain.head()\n",
    "\n",
    "\n"
   ]
  },
  {
   "cell_type": "code",
   "execution_count": 88,
   "metadata": {},
   "outputs": [],
   "source": [
    "X_train=modeltrain.drop([\"Demand\",\"Gross_Revenue\"],axis=1)"
   ]
  },
  {
   "cell_type": "code",
   "execution_count": 89,
   "metadata": {},
   "outputs": [],
   "source": [
    "Y_train=modeltrain[\"Demand\"]"
   ]
  },
  {
   "cell_type": "code",
   "execution_count": 90,
   "metadata": {},
   "outputs": [
    {
     "data": {
      "text/plain": [
       "(1000000, 5)"
      ]
     },
     "execution_count": 90,
     "metadata": {},
     "output_type": "execute_result"
    }
   ],
   "source": [
    "X_train.shape"
   ]
  },
  {
   "cell_type": "code",
   "execution_count": 91,
   "metadata": {},
   "outputs": [
    {
     "data": {
      "text/plain": [
       "(1000000,)"
      ]
     },
     "execution_count": 91,
     "metadata": {},
     "output_type": "execute_result"
    }
   ],
   "source": [
    "Y_train.shape"
   ]
  },
  {
   "cell_type": "code",
   "execution_count": 92,
   "metadata": {},
   "outputs": [
    {
     "data": {
      "text/plain": [
       "channel_type        object\n",
       "suppiden_cluster     int32\n",
       "cateofrt_cluster     int32\n",
       "storiden_cluster     int32\n",
       "prodiden_cluster     int32\n",
       "dtype: object"
      ]
     },
     "execution_count": 92,
     "metadata": {},
     "output_type": "execute_result"
    }
   ],
   "source": [
    "X_train.dtypes"
   ]
  },
  {
   "cell_type": "code",
   "execution_count": 93,
   "metadata": {},
   "outputs": [],
   "source": [
    "#Type Conversions\n",
    "X_train.suppiden_cluster=X_train.suppiden_cluster.astype(\"category\")\n",
    "X_train.cateofrt_cluster=X_train.cateofrt_cluster.astype(\"category\")\n",
    "X_train.storiden_cluster=X_train.storiden_cluster.astype(\"category\")\n",
    "X_train.prodiden_cluster=X_train.prodiden_cluster.astype(\"category\")\n",
    "X_train.channel_type=X_train.channel_type.astype(\"category\")"
   ]
  },
  {
   "cell_type": "code",
   "execution_count": 94,
   "metadata": {},
   "outputs": [
    {
     "data": {
      "text/plain": [
       "channel_type        category\n",
       "suppiden_cluster    category\n",
       "cateofrt_cluster    category\n",
       "storiden_cluster    category\n",
       "prodiden_cluster    category\n",
       "dtype: object"
      ]
     },
     "execution_count": 94,
     "metadata": {},
     "output_type": "execute_result"
    }
   ],
   "source": [
    "X_train.dtypes"
   ]
  },
  {
   "cell_type": "code",
   "execution_count": 95,
   "metadata": {},
   "outputs": [
    {
     "data": {
      "text/plain": [
       "Index(['channel_type', 'suppiden_cluster', 'cateofrt_cluster',\n",
       "       'storiden_cluster', 'prodiden_cluster'],\n",
       "      dtype='object')"
      ]
     },
     "execution_count": 95,
     "metadata": {},
     "output_type": "execute_result"
    }
   ],
   "source": [
    "X_train.columns"
   ]
  },
  {
   "cell_type": "code",
   "execution_count": 96,
   "metadata": {},
   "outputs": [],
   "source": [
    "X_train_cat=X_train[['suppiden_cluster', 'cateofrt_cluster', 'storiden_cluster','prodiden_cluster',\"channel_type\"]]\n"
   ]
  },
  {
   "cell_type": "code",
   "execution_count": 97,
   "metadata": {},
   "outputs": [
    {
     "data": {
      "text/plain": [
       "(1000000, 37)"
      ]
     },
     "execution_count": 97,
     "metadata": {},
     "output_type": "execute_result"
    }
   ],
   "source": [
    "#Dummyfying\n",
    "X_train_catdum=pd.get_dummies(X_train_cat)\n",
    "X_train_catdum.shape"
   ]
  },
  {
   "cell_type": "code",
   "execution_count": 99,
   "metadata": {},
   "outputs": [
    {
     "data": {
      "text/html": [
       "<div>\n",
       "<style scoped>\n",
       "    .dataframe tbody tr th:only-of-type {\n",
       "        vertical-align: middle;\n",
       "    }\n",
       "\n",
       "    .dataframe tbody tr th {\n",
       "        vertical-align: top;\n",
       "    }\n",
       "\n",
       "    .dataframe thead th {\n",
       "        text-align: right;\n",
       "    }\n",
       "</style>\n",
       "<table border=\"1\" class=\"dataframe\">\n",
       "  <thead>\n",
       "    <tr style=\"text-align: right;\">\n",
       "      <th></th>\n",
       "      <th>suppiden_cluster_0</th>\n",
       "      <th>suppiden_cluster_1</th>\n",
       "      <th>suppiden_cluster_2</th>\n",
       "      <th>suppiden_cluster_3</th>\n",
       "      <th>suppiden_cluster_4</th>\n",
       "      <th>cateofrt_cluster_0</th>\n",
       "      <th>cateofrt_cluster_1</th>\n",
       "      <th>cateofrt_cluster_2</th>\n",
       "      <th>cateofrt_cluster_3</th>\n",
       "      <th>cateofrt_cluster_4</th>\n",
       "      <th>...</th>\n",
       "      <th>prodiden_cluster_6</th>\n",
       "      <th>channel_type_Convenience Retailer</th>\n",
       "      <th>channel_type_Department Stores</th>\n",
       "      <th>channel_type_Discount Retailer</th>\n",
       "      <th>channel_type_Grocery Stores</th>\n",
       "      <th>channel_type_Internet Retailers</th>\n",
       "      <th>channel_type_Specialty Retailers</th>\n",
       "      <th>channel_type_Supermarkets</th>\n",
       "      <th>channel_type_Warehouse Retailers</th>\n",
       "      <th>channel_type_Wholesale Retailers</th>\n",
       "    </tr>\n",
       "  </thead>\n",
       "  <tbody>\n",
       "    <tr>\n",
       "      <th>9527216</th>\n",
       "      <td>0</td>\n",
       "      <td>0</td>\n",
       "      <td>1</td>\n",
       "      <td>0</td>\n",
       "      <td>0</td>\n",
       "      <td>0</td>\n",
       "      <td>0</td>\n",
       "      <td>0</td>\n",
       "      <td>0</td>\n",
       "      <td>0</td>\n",
       "      <td>...</td>\n",
       "      <td>0</td>\n",
       "      <td>0</td>\n",
       "      <td>0</td>\n",
       "      <td>0</td>\n",
       "      <td>1</td>\n",
       "      <td>0</td>\n",
       "      <td>0</td>\n",
       "      <td>0</td>\n",
       "      <td>0</td>\n",
       "      <td>0</td>\n",
       "    </tr>\n",
       "    <tr>\n",
       "      <th>12809840</th>\n",
       "      <td>0</td>\n",
       "      <td>1</td>\n",
       "      <td>0</td>\n",
       "      <td>0</td>\n",
       "      <td>0</td>\n",
       "      <td>0</td>\n",
       "      <td>0</td>\n",
       "      <td>0</td>\n",
       "      <td>0</td>\n",
       "      <td>0</td>\n",
       "      <td>...</td>\n",
       "      <td>0</td>\n",
       "      <td>0</td>\n",
       "      <td>0</td>\n",
       "      <td>0</td>\n",
       "      <td>1</td>\n",
       "      <td>0</td>\n",
       "      <td>0</td>\n",
       "      <td>0</td>\n",
       "      <td>0</td>\n",
       "      <td>0</td>\n",
       "    </tr>\n",
       "    <tr>\n",
       "      <th>27435761</th>\n",
       "      <td>0</td>\n",
       "      <td>1</td>\n",
       "      <td>0</td>\n",
       "      <td>0</td>\n",
       "      <td>0</td>\n",
       "      <td>0</td>\n",
       "      <td>0</td>\n",
       "      <td>0</td>\n",
       "      <td>0</td>\n",
       "      <td>0</td>\n",
       "      <td>...</td>\n",
       "      <td>0</td>\n",
       "      <td>0</td>\n",
       "      <td>0</td>\n",
       "      <td>0</td>\n",
       "      <td>1</td>\n",
       "      <td>0</td>\n",
       "      <td>0</td>\n",
       "      <td>0</td>\n",
       "      <td>0</td>\n",
       "      <td>0</td>\n",
       "    </tr>\n",
       "    <tr>\n",
       "      <th>28888223</th>\n",
       "      <td>0</td>\n",
       "      <td>0</td>\n",
       "      <td>1</td>\n",
       "      <td>0</td>\n",
       "      <td>0</td>\n",
       "      <td>0</td>\n",
       "      <td>0</td>\n",
       "      <td>1</td>\n",
       "      <td>0</td>\n",
       "      <td>0</td>\n",
       "      <td>...</td>\n",
       "      <td>0</td>\n",
       "      <td>0</td>\n",
       "      <td>0</td>\n",
       "      <td>0</td>\n",
       "      <td>1</td>\n",
       "      <td>0</td>\n",
       "      <td>0</td>\n",
       "      <td>0</td>\n",
       "      <td>0</td>\n",
       "      <td>0</td>\n",
       "    </tr>\n",
       "    <tr>\n",
       "      <th>31411775</th>\n",
       "      <td>0</td>\n",
       "      <td>0</td>\n",
       "      <td>1</td>\n",
       "      <td>0</td>\n",
       "      <td>0</td>\n",
       "      <td>0</td>\n",
       "      <td>0</td>\n",
       "      <td>0</td>\n",
       "      <td>0</td>\n",
       "      <td>0</td>\n",
       "      <td>...</td>\n",
       "      <td>0</td>\n",
       "      <td>0</td>\n",
       "      <td>0</td>\n",
       "      <td>0</td>\n",
       "      <td>1</td>\n",
       "      <td>0</td>\n",
       "      <td>0</td>\n",
       "      <td>0</td>\n",
       "      <td>0</td>\n",
       "      <td>0</td>\n",
       "    </tr>\n",
       "  </tbody>\n",
       "</table>\n",
       "<p>5 rows × 37 columns</p>\n",
       "</div>"
      ],
      "text/plain": [
       "          suppiden_cluster_0  suppiden_cluster_1  suppiden_cluster_2  \\\n",
       "9527216                    0                   0                   1   \n",
       "12809840                   0                   1                   0   \n",
       "27435761                   0                   1                   0   \n",
       "28888223                   0                   0                   1   \n",
       "31411775                   0                   0                   1   \n",
       "\n",
       "          suppiden_cluster_3  suppiden_cluster_4  cateofrt_cluster_0  \\\n",
       "9527216                    0                   0                   0   \n",
       "12809840                   0                   0                   0   \n",
       "27435761                   0                   0                   0   \n",
       "28888223                   0                   0                   0   \n",
       "31411775                   0                   0                   0   \n",
       "\n",
       "          cateofrt_cluster_1  cateofrt_cluster_2  cateofrt_cluster_3  \\\n",
       "9527216                    0                   0                   0   \n",
       "12809840                   0                   0                   0   \n",
       "27435761                   0                   0                   0   \n",
       "28888223                   0                   1                   0   \n",
       "31411775                   0                   0                   0   \n",
       "\n",
       "          cateofrt_cluster_4  ...  prodiden_cluster_6  \\\n",
       "9527216                    0  ...                   0   \n",
       "12809840                   0  ...                   0   \n",
       "27435761                   0  ...                   0   \n",
       "28888223                   0  ...                   0   \n",
       "31411775                   0  ...                   0   \n",
       "\n",
       "          channel_type_Convenience Retailer  channel_type_Department Stores  \\\n",
       "9527216                                   0                               0   \n",
       "12809840                                  0                               0   \n",
       "27435761                                  0                               0   \n",
       "28888223                                  0                               0   \n",
       "31411775                                  0                               0   \n",
       "\n",
       "          channel_type_Discount Retailer  channel_type_Grocery Stores  \\\n",
       "9527216                                0                            1   \n",
       "12809840                               0                            1   \n",
       "27435761                               0                            1   \n",
       "28888223                               0                            1   \n",
       "31411775                               0                            1   \n",
       "\n",
       "          channel_type_Internet Retailers  channel_type_Specialty Retailers  \\\n",
       "9527216                                 0                                 0   \n",
       "12809840                                0                                 0   \n",
       "27435761                                0                                 0   \n",
       "28888223                                0                                 0   \n",
       "31411775                                0                                 0   \n",
       "\n",
       "          channel_type_Supermarkets  channel_type_Warehouse Retailers  \\\n",
       "9527216                           0                                 0   \n",
       "12809840                          0                                 0   \n",
       "27435761                          0                                 0   \n",
       "28888223                          0                                 0   \n",
       "31411775                          0                                 0   \n",
       "\n",
       "          channel_type_Wholesale Retailers  \n",
       "9527216                                  0  \n",
       "12809840                                 0  \n",
       "27435761                                 0  \n",
       "28888223                                 0  \n",
       "31411775                                 0  \n",
       "\n",
       "[5 rows x 37 columns]"
      ]
     },
     "execution_count": 99,
     "metadata": {},
     "output_type": "execute_result"
    }
   ],
   "source": [
    "\n",
    "X_train_processed=X_train_catdum\n",
    "X_train_processed.head()"
   ]
  },
  {
   "cell_type": "code",
   "execution_count": 100,
   "metadata": {},
   "outputs": [
    {
     "data": {
      "text/plain": [
       "suppiden_cluster_0                   uint8\n",
       "suppiden_cluster_1                   uint8\n",
       "suppiden_cluster_2                   uint8\n",
       "suppiden_cluster_3                   uint8\n",
       "suppiden_cluster_4                   uint8\n",
       "cateofrt_cluster_0                   uint8\n",
       "cateofrt_cluster_1                   uint8\n",
       "cateofrt_cluster_2                   uint8\n",
       "cateofrt_cluster_3                   uint8\n",
       "cateofrt_cluster_4                   uint8\n",
       "cateofrt_cluster_5                   uint8\n",
       "cateofrt_cluster_6                   uint8\n",
       "storiden_cluster_0                   uint8\n",
       "storiden_cluster_1                   uint8\n",
       "storiden_cluster_2                   uint8\n",
       "storiden_cluster_3                   uint8\n",
       "storiden_cluster_4                   uint8\n",
       "storiden_cluster_5                   uint8\n",
       "storiden_cluster_6                   uint8\n",
       "storiden_cluster_7                   uint8\n",
       "storiden_cluster_8                   uint8\n",
       "prodiden_cluster_0                   uint8\n",
       "prodiden_cluster_1                   uint8\n",
       "prodiden_cluster_2                   uint8\n",
       "prodiden_cluster_3                   uint8\n",
       "prodiden_cluster_4                   uint8\n",
       "prodiden_cluster_5                   uint8\n",
       "prodiden_cluster_6                   uint8\n",
       "channel_type_Convenience Retailer    uint8\n",
       "channel_type_Department Stores       uint8\n",
       "channel_type_Discount Retailer       uint8\n",
       "channel_type_Grocery Stores          uint8\n",
       "channel_type_Internet Retailers      uint8\n",
       "channel_type_Specialty Retailers     uint8\n",
       "channel_type_Supermarkets            uint8\n",
       "channel_type_Warehouse Retailers     uint8\n",
       "channel_type_Wholesale Retailers     uint8\n",
       "dtype: object"
      ]
     },
     "execution_count": 100,
     "metadata": {},
     "output_type": "execute_result"
    }
   ],
   "source": [
    "X_train_processed.dtypes"
   ]
  },
  {
   "cell_type": "markdown",
   "metadata": {},
   "source": [
    "## Linear Regression"
   ]
  },
  {
   "cell_type": "code",
   "execution_count": 174,
   "metadata": {},
   "outputs": [
    {
     "data": {
      "text/plain": [
       "LinearRegression(copy_X=True, fit_intercept=True, n_jobs=None, normalize=False)"
      ]
     },
     "execution_count": 174,
     "metadata": {},
     "output_type": "execute_result"
    }
   ],
   "source": [
    "from sklearn import datasets, linear_model\n",
    "regr = linear_model.LinearRegression()\n",
    "regr.fit(X_train_dummified,(Y_train))"
   ]
  },
  {
   "cell_type": "code",
   "execution_count": 175,
   "metadata": {},
   "outputs": [],
   "source": [
    "predictedtrain=regr.predict(X_train_dummified)"
   ]
  },
  {
   "cell_type": "code",
   "execution_count": 176,
   "metadata": {},
   "outputs": [],
   "source": [
    "#Rounding OFF\n",
    "predictedtrain=np.round(predictedtrain)"
   ]
  },
  {
   "cell_type": "code",
   "execution_count": 178,
   "metadata": {},
   "outputs": [
    {
     "name": "stdout",
     "output_type": "stream",
     "text": [
      "MAPE:  127.68985621669408\n",
      "MAE:  5.217749\n",
      "RMSE:  17.427120387488003\n",
      "MSE: 303.70\n",
      "R^2: 0.26\n"
     ]
    }
   ],
   "source": [
    "from sklearn.metrics import mean_squared_error\n",
    "from sklearn.metrics import r2_score\n",
    "\n",
    "#To #To compute mean absolute percentage error\n",
    "MAPE=np.mean(abs((np.array(Y_train[Y_train.Demand_projection!=0])-np.array(predictedtrain[Y_train.Demand_projection!=0]))/np.array(Y_train[Y_train.Demand_projection!=0])))\n",
    "print(\"MAPE: \",MAPE*100)\n",
    "\n",
    "MAE=np.mean(abs((np.array(Y_train)-np.array(predictedtrain))))\n",
    "print(\"MAE: \",MAE)\n",
    "\n",
    "RMSE=np.sqrt(np.mean((np.array(Y_train)-np.array(predictedtrain))**2))\n",
    "print(\"RMSE: \",RMSE)\n",
    "\n",
    "print(\"MSE: %.2f\" % mean_squared_error(Y_train, predictedtrain))\n",
    "\n",
    "print('R^2: %.2f' % r2_score(Y_train, predictedtrain))"
   ]
  },
  {
   "cell_type": "markdown",
   "metadata": {},
   "source": [
    "## Decision Tree"
   ]
  },
  {
   "cell_type": "code",
   "execution_count": 101,
   "metadata": {},
   "outputs": [
    {
     "data": {
      "text/plain": [
       "DecisionTreeRegressor(criterion='mse', max_depth=None, max_features=None,\n",
       "                      max_leaf_nodes=None, min_impurity_decrease=0.0,\n",
       "                      min_impurity_split=None, min_samples_leaf=1,\n",
       "                      min_samples_split=2, min_weight_fraction_leaf=0.0,\n",
       "                      presort=False, random_state=None, splitter='best')"
      ]
     },
     "execution_count": 101,
     "metadata": {},
     "output_type": "execute_result"
    }
   ],
   "source": [
    "from sklearn.tree import DecisionTreeRegressor\n",
    "DT=DecisionTreeRegressor()\n",
    "\n",
    "DT.fit(X_train_processed, Y_train)"
   ]
  },
  {
   "cell_type": "code",
   "execution_count": 102,
   "metadata": {},
   "outputs": [
    {
     "data": {
      "text/plain": [
       "array([3.1602616 , 6.66771014, 3.60043603, ..., 3.66936749, 3.92500815,\n",
       "       8.15463918])"
      ]
     },
     "execution_count": 102,
     "metadata": {},
     "output_type": "execute_result"
    }
   ],
   "source": [
    "predictedtrain=DT.predict(X_train_processed)\n",
    "predictedtrain"
   ]
  },
  {
   "cell_type": "code",
   "execution_count": 103,
   "metadata": {},
   "outputs": [
    {
     "name": "stdout",
     "output_type": "stream",
     "text": [
      "MSE: 232.41\n",
      "RMSE: 15.24\n",
      "MAE: 4.82\n",
      "R^2: 0.43\n"
     ]
    }
   ],
   "source": [
    "from sklearn.metrics import mean_squared_error\n",
    "from sklearn.metrics import r2_score\n",
    "from sklearn.metrics import mean_absolute_error\n",
    "\n",
    "print(\"MSE: %.2f\" % mean_squared_error(Y_train, predictedtrain))\n",
    "\n",
    "print(\"RMSE: %.2f\" %(mean_squared_error(Y_train, predictedtrain)**(1/2)))\n",
    "\n",
    "print(\"MAE: %.2f\" %mean_absolute_error(Y_train, predictedtrain))\n",
    "\n",
    "print('R^2: %.2f' % r2_score(Y_train, predictedtrain))"
   ]
  },
  {
   "cell_type": "code",
   "execution_count": 215,
   "metadata": {},
   "outputs": [],
   "source": [
    "#GridSearch\n",
    "from sklearn.model_selection import GridSearchCV\n",
    "\n",
    "DT = DecisionTreeRegressor()\n",
    " \n",
    "# Using a grid over parameters of interest\n",
    "param_grid = {\n",
    "     'max_depth': [7,9,11,13]\n",
    "}"
   ]
  },
  {
   "cell_type": "code",
   "execution_count": 216,
   "metadata": {},
   "outputs": [],
   "source": [
    "#Cross-Validating\n",
    "CV_DT = GridSearchCV(estimator=DT, param_grid=param_grid, cv= 5)\n",
    "CV_DT.fit(X=X_train_processed, y=Y_train)\n",
    "predictedtrain = CV_DT.predict(X_train_processed)"
   ]
  },
  {
   "cell_type": "code",
   "execution_count": 217,
   "metadata": {},
   "outputs": [
    {
     "name": "stdout",
     "output_type": "stream",
     "text": [
      "MSE: 265.44\n",
      "RMSE: 16.29\n",
      "MAE: 4.95\n",
      "R^2: 0.35\n"
     ]
    }
   ],
   "source": [
    "from sklearn.metrics import mean_squared_error\n",
    "from sklearn.metrics import r2_score\n",
    "from sklearn.metrics import mean_absolute_error\n",
    "\n",
    "\n",
    "print(\"MSE: %.2f\" % mean_squared_error(Y_train, predictedtrain))\n",
    "\n",
    "print(\"RMSE: %.2f\" %(mean_squared_error(Y_train, predictedtrain)**(1/2)))\n",
    "\n",
    "print(\"MAE: %.2f\" %mean_absolute_error(Y_train, predictedtrain))\n",
    "\n",
    "print('R^2: %.2f' % r2_score(Y_train, predictedtrain))"
   ]
  },
  {
   "cell_type": "code",
   "execution_count": 218,
   "metadata": {},
   "outputs": [
    {
     "data": {
      "text/plain": [
       "DecisionTreeRegressor(criterion='mse', max_depth=9, max_features=None,\n",
       "                      max_leaf_nodes=None, min_impurity_decrease=0.0,\n",
       "                      min_impurity_split=None, min_samples_leaf=1,\n",
       "                      min_samples_split=2, min_weight_fraction_leaf=0.0,\n",
       "                      presort=False, random_state=None, splitter='best')"
      ]
     },
     "execution_count": 218,
     "metadata": {},
     "output_type": "execute_result"
    }
   ],
   "source": [
    "CV_DT.best_estimator_"
   ]
  },
  {
   "cell_type": "markdown",
   "metadata": {},
   "source": [
    "## Random Forest "
   ]
  },
  {
   "cell_type": "code",
   "execution_count": 241,
   "metadata": {},
   "outputs": [],
   "source": [
    "from sklearn.ensemble import RandomForestClassifier"
   ]
  },
  {
   "cell_type": "code",
   "execution_count": 242,
   "metadata": {},
   "outputs": [
    {
     "data": {
      "text/plain": [
       "RandomForestClassifier(bootstrap=True, class_weight=None, criterion='gini',\n",
       "                       max_depth=9, max_features='auto', max_leaf_nodes=None,\n",
       "                       min_impurity_decrease=0.0, min_impurity_split=None,\n",
       "                       min_samples_leaf=1, min_samples_split=2,\n",
       "                       min_weight_fraction_leaf=0.0, n_estimators=10,\n",
       "                       n_jobs=None, oob_score=False, random_state=None,\n",
       "                       verbose=0, warm_start=False)"
      ]
     },
     "execution_count": 242,
     "metadata": {},
     "output_type": "execute_result"
    }
   ],
   "source": [
    "clf = RandomForestClassifier(n_estimators=10,max_depth=9)\n",
    "clf.fit(X=X_train_processed, y=Y_train)"
   ]
  },
  {
   "cell_type": "code",
   "execution_count": 243,
   "metadata": {},
   "outputs": [],
   "source": [
    "predictedtrain=clf.predict(X_train_processed)\n",
    "predictedtrain=np.round(predictedtrain)\n"
   ]
  },
  {
   "cell_type": "code",
   "execution_count": 244,
   "metadata": {},
   "outputs": [
    {
     "name": "stdout",
     "output_type": "stream",
     "text": [
      "MSE: 376.94\n",
      "RMSE: 19.41\n",
      "MAE: 5.01\n",
      "R^2: 0.08\n"
     ]
    }
   ],
   "source": [
    "from sklearn.metrics import mean_squared_error\n",
    "from sklearn.metrics import r2_score\n",
    "from sklearn.metrics import mean_absolute_error\n",
    "\n",
    "#To #To compute mean absolute percentage error\n",
    "\"\"\"MAPE=np.mean(abs((np.array(Y_train[Y_train.Demand_projection!=0])-np.array(predictedtrain[Y_train.Demand_projection!=0]))/np.array(Y_train[Y_train.Demand_projection!=0])))\n",
    "print(\"MAPE: \",MAPE*100)\"\"\"\n",
    "\n",
    "\"\"\"MAE=np.mean(abs((np.array(Y_train)-np.array(predictedtrain))))\n",
    "print(\"MAE: \",MAE)\n",
    "\n",
    "RMSE=np.sqrt(np.mean((np.array(Y_train)-np.array(predictedtrain))**2))\n",
    "print(\"RMSE: \",RMSE)\"\"\"\n",
    "\n",
    "print(\"MSE: %.2f\" % mean_squared_error(Y_train, predictedtrain))\n",
    "\n",
    "print(\"RMSE: %.2f\" %(mean_squared_error(Y_train, predictedtrain)**(1/2)))\n",
    "\n",
    "print(\"MAE: %.2f\" %mean_absolute_error(Y_train, predictedtrain))\n",
    "\n",
    "print('R^2: %.2f' % r2_score(Y_train, predictedtrain))"
   ]
  },
  {
   "cell_type": "markdown",
   "metadata": {},
   "source": [
    "### Tried the Random Forest Regressor but was crashing at predict in validation and test due to the large amount of test data "
   ]
  },
  {
   "cell_type": "markdown",
   "metadata": {},
   "source": [
    "## Validation Data"
   ]
  },
  {
   "cell_type": "code",
   "execution_count": 104,
   "metadata": {},
   "outputs": [
    {
     "data": {
      "text/html": [
       "<div>\n",
       "<style scoped>\n",
       "    .dataframe tbody tr th:only-of-type {\n",
       "        vertical-align: middle;\n",
       "    }\n",
       "\n",
       "    .dataframe tbody tr th {\n",
       "        vertical-align: top;\n",
       "    }\n",
       "\n",
       "    .dataframe thead th {\n",
       "        text-align: right;\n",
       "    }\n",
       "</style>\n",
       "<table border=\"1\" class=\"dataframe\">\n",
       "  <thead>\n",
       "    <tr style=\"text-align: right;\">\n",
       "      <th></th>\n",
       "      <th>experiment_week</th>\n",
       "      <th>channel_type</th>\n",
       "      <th>num_units_sold_in_week</th>\n",
       "      <th>sales_revenue_in_week</th>\n",
       "      <th>num_units_returned</th>\n",
       "      <th>returned_units_revenue_loss</th>\n",
       "      <th>store_identifier</th>\n",
       "      <th>product_identifier</th>\n",
       "      <th>category_of_route</th>\n",
       "      <th>supplier_identifier</th>\n",
       "      <th>Demand</th>\n",
       "      <th>Gross_Revenue</th>\n",
       "    </tr>\n",
       "  </thead>\n",
       "  <tbody>\n",
       "    <tr>\n",
       "      <th>42982034</th>\n",
       "      <td>Week 5 of 2019</td>\n",
       "      <td>Warehouse Retailers</td>\n",
       "      <td>2</td>\n",
       "      <td>251.4</td>\n",
       "      <td>0</td>\n",
       "      <td>0.0</td>\n",
       "      <td>store_fc6aa</td>\n",
       "      <td>product_2b363</td>\n",
       "      <td>route_67047</td>\n",
       "      <td>supplier_identifier_055f7</td>\n",
       "      <td>2</td>\n",
       "      <td>251.4</td>\n",
       "    </tr>\n",
       "    <tr>\n",
       "      <th>42982035</th>\n",
       "      <td>Week 5 of 2019</td>\n",
       "      <td>Warehouse Retailers</td>\n",
       "      <td>2</td>\n",
       "      <td>294.9</td>\n",
       "      <td>0</td>\n",
       "      <td>0.0</td>\n",
       "      <td>store_fc6aa</td>\n",
       "      <td>product_8de14</td>\n",
       "      <td>route_67047</td>\n",
       "      <td>supplier_identifier_055f7</td>\n",
       "      <td>2</td>\n",
       "      <td>294.9</td>\n",
       "    </tr>\n",
       "    <tr>\n",
       "      <th>42982036</th>\n",
       "      <td>Week 5 of 2019</td>\n",
       "      <td>Warehouse Retailers</td>\n",
       "      <td>8</td>\n",
       "      <td>1005.6</td>\n",
       "      <td>0</td>\n",
       "      <td>0.0</td>\n",
       "      <td>store_fc6aa</td>\n",
       "      <td>product_1c00e</td>\n",
       "      <td>route_67047</td>\n",
       "      <td>supplier_identifier_055f7</td>\n",
       "      <td>8</td>\n",
       "      <td>1005.6</td>\n",
       "    </tr>\n",
       "    <tr>\n",
       "      <th>42982037</th>\n",
       "      <td>Week 5 of 2019</td>\n",
       "      <td>Warehouse Retailers</td>\n",
       "      <td>2</td>\n",
       "      <td>229.2</td>\n",
       "      <td>0</td>\n",
       "      <td>0.0</td>\n",
       "      <td>store_fc6aa</td>\n",
       "      <td>product_55001</td>\n",
       "      <td>route_67047</td>\n",
       "      <td>supplier_identifier_055f7</td>\n",
       "      <td>2</td>\n",
       "      <td>229.2</td>\n",
       "    </tr>\n",
       "    <tr>\n",
       "      <th>42982038</th>\n",
       "      <td>Week 5 of 2019</td>\n",
       "      <td>Warehouse Retailers</td>\n",
       "      <td>14</td>\n",
       "      <td>1604.4</td>\n",
       "      <td>0</td>\n",
       "      <td>0.0</td>\n",
       "      <td>store_fc6aa</td>\n",
       "      <td>product_dfcaf</td>\n",
       "      <td>route_67047</td>\n",
       "      <td>supplier_identifier_055f7</td>\n",
       "      <td>14</td>\n",
       "      <td>1604.4</td>\n",
       "    </tr>\n",
       "  </tbody>\n",
       "</table>\n",
       "</div>"
      ],
      "text/plain": [
       "         experiment_week         channel_type  num_units_sold_in_week  \\\n",
       "42982034  Week 5 of 2019  Warehouse Retailers                       2   \n",
       "42982035  Week 5 of 2019  Warehouse Retailers                       2   \n",
       "42982036  Week 5 of 2019  Warehouse Retailers                       8   \n",
       "42982037  Week 5 of 2019  Warehouse Retailers                       2   \n",
       "42982038  Week 5 of 2019  Warehouse Retailers                      14   \n",
       "\n",
       "          sales_revenue_in_week  num_units_returned  \\\n",
       "42982034                  251.4                   0   \n",
       "42982035                  294.9                   0   \n",
       "42982036                 1005.6                   0   \n",
       "42982037                  229.2                   0   \n",
       "42982038                 1604.4                   0   \n",
       "\n",
       "          returned_units_revenue_loss store_identifier product_identifier  \\\n",
       "42982034                          0.0      store_fc6aa      product_2b363   \n",
       "42982035                          0.0      store_fc6aa      product_8de14   \n",
       "42982036                          0.0      store_fc6aa      product_1c00e   \n",
       "42982037                          0.0      store_fc6aa      product_55001   \n",
       "42982038                          0.0      store_fc6aa      product_dfcaf   \n",
       "\n",
       "         category_of_route        supplier_identifier  Demand  Gross_Revenue  \n",
       "42982034       route_67047  supplier_identifier_055f7       2          251.4  \n",
       "42982035       route_67047  supplier_identifier_055f7       2          294.9  \n",
       "42982036       route_67047  supplier_identifier_055f7       8         1005.6  \n",
       "42982037       route_67047  supplier_identifier_055f7       2          229.2  \n",
       "42982038       route_67047  supplier_identifier_055f7      14         1604.4  "
      ]
     },
     "execution_count": 104,
     "metadata": {},
     "output_type": "execute_result"
    }
   ],
   "source": [
    "testdata=trainnew[trainnew.experiment_week=='Week 5 of 2019']\n",
    "testdata.head()"
   ]
  },
  {
   "cell_type": "markdown",
   "metadata": {},
   "source": [
    "suppidenstan=traindata.groupby(\"supplier_identifier\")[\"suppiden_cluster\"].sum()\n",
    "storidenstan=traindata.groupby(\"store_identifier\")[\"storiden_cluster\"].sum()\n",
    "cateofrtstan=traindata.groupby(\"category_of_route\")[\"cateofrt_cluster\"].sum()\n",
    "prodidenstan=traindata.groupby(\"product_identifier\")[\"prodiden_cluster\"].sum()"
   ]
  },
  {
   "cell_type": "code",
   "execution_count": 105,
   "metadata": {},
   "outputs": [
    {
     "data": {
      "text/html": [
       "<div>\n",
       "<style scoped>\n",
       "    .dataframe tbody tr th:only-of-type {\n",
       "        vertical-align: middle;\n",
       "    }\n",
       "\n",
       "    .dataframe tbody tr th {\n",
       "        vertical-align: top;\n",
       "    }\n",
       "\n",
       "    .dataframe thead th {\n",
       "        text-align: right;\n",
       "    }\n",
       "</style>\n",
       "<table border=\"1\" class=\"dataframe\">\n",
       "  <thead>\n",
       "    <tr style=\"text-align: right;\">\n",
       "      <th></th>\n",
       "      <th>experiment_week</th>\n",
       "      <th>channel_type</th>\n",
       "      <th>num_units_sold_in_week</th>\n",
       "      <th>sales_revenue_in_week</th>\n",
       "      <th>num_units_returned</th>\n",
       "      <th>returned_units_revenue_loss</th>\n",
       "      <th>store_identifier</th>\n",
       "      <th>product_identifier</th>\n",
       "      <th>category_of_route</th>\n",
       "      <th>supplier_identifier</th>\n",
       "      <th>Demand</th>\n",
       "      <th>Gross_Revenue</th>\n",
       "      <th>suppiden_cluster</th>\n",
       "    </tr>\n",
       "  </thead>\n",
       "  <tbody>\n",
       "    <tr>\n",
       "      <th>0</th>\n",
       "      <td>Week 5 of 2019</td>\n",
       "      <td>Warehouse Retailers</td>\n",
       "      <td>2</td>\n",
       "      <td>251.4</td>\n",
       "      <td>0</td>\n",
       "      <td>0.0</td>\n",
       "      <td>store_fc6aa</td>\n",
       "      <td>product_2b363</td>\n",
       "      <td>route_67047</td>\n",
       "      <td>supplier_identifier_055f7</td>\n",
       "      <td>2</td>\n",
       "      <td>251.4</td>\n",
       "      <td>0</td>\n",
       "    </tr>\n",
       "    <tr>\n",
       "      <th>1</th>\n",
       "      <td>Week 5 of 2019</td>\n",
       "      <td>Warehouse Retailers</td>\n",
       "      <td>2</td>\n",
       "      <td>294.9</td>\n",
       "      <td>0</td>\n",
       "      <td>0.0</td>\n",
       "      <td>store_fc6aa</td>\n",
       "      <td>product_8de14</td>\n",
       "      <td>route_67047</td>\n",
       "      <td>supplier_identifier_055f7</td>\n",
       "      <td>2</td>\n",
       "      <td>294.9</td>\n",
       "      <td>0</td>\n",
       "    </tr>\n",
       "    <tr>\n",
       "      <th>2</th>\n",
       "      <td>Week 5 of 2019</td>\n",
       "      <td>Warehouse Retailers</td>\n",
       "      <td>8</td>\n",
       "      <td>1005.6</td>\n",
       "      <td>0</td>\n",
       "      <td>0.0</td>\n",
       "      <td>store_fc6aa</td>\n",
       "      <td>product_1c00e</td>\n",
       "      <td>route_67047</td>\n",
       "      <td>supplier_identifier_055f7</td>\n",
       "      <td>8</td>\n",
       "      <td>1005.6</td>\n",
       "      <td>0</td>\n",
       "    </tr>\n",
       "    <tr>\n",
       "      <th>3</th>\n",
       "      <td>Week 5 of 2019</td>\n",
       "      <td>Warehouse Retailers</td>\n",
       "      <td>2</td>\n",
       "      <td>229.2</td>\n",
       "      <td>0</td>\n",
       "      <td>0.0</td>\n",
       "      <td>store_fc6aa</td>\n",
       "      <td>product_55001</td>\n",
       "      <td>route_67047</td>\n",
       "      <td>supplier_identifier_055f7</td>\n",
       "      <td>2</td>\n",
       "      <td>229.2</td>\n",
       "      <td>0</td>\n",
       "    </tr>\n",
       "    <tr>\n",
       "      <th>4</th>\n",
       "      <td>Week 5 of 2019</td>\n",
       "      <td>Warehouse Retailers</td>\n",
       "      <td>14</td>\n",
       "      <td>1604.4</td>\n",
       "      <td>0</td>\n",
       "      <td>0.0</td>\n",
       "      <td>store_fc6aa</td>\n",
       "      <td>product_dfcaf</td>\n",
       "      <td>route_67047</td>\n",
       "      <td>supplier_identifier_055f7</td>\n",
       "      <td>14</td>\n",
       "      <td>1604.4</td>\n",
       "      <td>0</td>\n",
       "    </tr>\n",
       "  </tbody>\n",
       "</table>\n",
       "</div>"
      ],
      "text/plain": [
       "  experiment_week         channel_type  num_units_sold_in_week  \\\n",
       "0  Week 5 of 2019  Warehouse Retailers                       2   \n",
       "1  Week 5 of 2019  Warehouse Retailers                       2   \n",
       "2  Week 5 of 2019  Warehouse Retailers                       8   \n",
       "3  Week 5 of 2019  Warehouse Retailers                       2   \n",
       "4  Week 5 of 2019  Warehouse Retailers                      14   \n",
       "\n",
       "   sales_revenue_in_week  num_units_returned  returned_units_revenue_loss  \\\n",
       "0                  251.4                   0                          0.0   \n",
       "1                  294.9                   0                          0.0   \n",
       "2                 1005.6                   0                          0.0   \n",
       "3                  229.2                   0                          0.0   \n",
       "4                 1604.4                   0                          0.0   \n",
       "\n",
       "  store_identifier product_identifier category_of_route  \\\n",
       "0      store_fc6aa      product_2b363       route_67047   \n",
       "1      store_fc6aa      product_8de14       route_67047   \n",
       "2      store_fc6aa      product_1c00e       route_67047   \n",
       "3      store_fc6aa      product_55001       route_67047   \n",
       "4      store_fc6aa      product_dfcaf       route_67047   \n",
       "\n",
       "         supplier_identifier  Demand  Gross_Revenue  suppiden_cluster  \n",
       "0  supplier_identifier_055f7       2          251.4                 0  \n",
       "1  supplier_identifier_055f7       2          294.9                 0  \n",
       "2  supplier_identifier_055f7       8         1005.6                 0  \n",
       "3  supplier_identifier_055f7       2          229.2                 0  \n",
       "4  supplier_identifier_055f7      14         1604.4                 0  "
      ]
     },
     "execution_count": 105,
     "metadata": {},
     "output_type": "execute_result"
    }
   ],
   "source": [
    "#merging the Test data with already available Clusters Data \n",
    "testdata=pd.merge(testdata,suppidenstan,left_on=\"supplier_identifier\",right_on=\"supplier_identifier\")\n",
    "testdata.drop([\"1\",\"2\"],axis=1,inplace=True)\n",
    "testdata.head()"
   ]
  },
  {
   "cell_type": "code",
   "execution_count": 106,
   "metadata": {},
   "outputs": [
    {
     "data": {
      "text/plain": [
       "(10382849, 13)"
      ]
     },
     "execution_count": 106,
     "metadata": {},
     "output_type": "execute_result"
    }
   ],
   "source": [
    "testdata.shape"
   ]
  },
  {
   "cell_type": "code",
   "execution_count": 107,
   "metadata": {},
   "outputs": [
    {
     "data": {
      "text/html": [
       "<div>\n",
       "<style scoped>\n",
       "    .dataframe tbody tr th:only-of-type {\n",
       "        vertical-align: middle;\n",
       "    }\n",
       "\n",
       "    .dataframe tbody tr th {\n",
       "        vertical-align: top;\n",
       "    }\n",
       "\n",
       "    .dataframe thead th {\n",
       "        text-align: right;\n",
       "    }\n",
       "</style>\n",
       "<table border=\"1\" class=\"dataframe\">\n",
       "  <thead>\n",
       "    <tr style=\"text-align: right;\">\n",
       "      <th></th>\n",
       "      <th>experiment_week</th>\n",
       "      <th>channel_type</th>\n",
       "      <th>num_units_sold_in_week</th>\n",
       "      <th>sales_revenue_in_week</th>\n",
       "      <th>num_units_returned</th>\n",
       "      <th>returned_units_revenue_loss</th>\n",
       "      <th>store_identifier</th>\n",
       "      <th>product_identifier</th>\n",
       "      <th>category_of_route</th>\n",
       "      <th>supplier_identifier</th>\n",
       "      <th>Demand</th>\n",
       "      <th>Gross_Revenue</th>\n",
       "      <th>suppiden_cluster</th>\n",
       "      <th>storiden_cluster</th>\n",
       "      <th>cateofrt_cluster</th>\n",
       "      <th>prodiden_cluster</th>\n",
       "    </tr>\n",
       "  </thead>\n",
       "  <tbody>\n",
       "    <tr>\n",
       "      <th>0</th>\n",
       "      <td>Week 5 of 2019</td>\n",
       "      <td>Warehouse Retailers</td>\n",
       "      <td>2</td>\n",
       "      <td>251.4</td>\n",
       "      <td>0</td>\n",
       "      <td>0.0</td>\n",
       "      <td>store_fc6aa</td>\n",
       "      <td>product_2b363</td>\n",
       "      <td>route_67047</td>\n",
       "      <td>supplier_identifier_055f7</td>\n",
       "      <td>2</td>\n",
       "      <td>251.4</td>\n",
       "      <td>0</td>\n",
       "      <td>0.0</td>\n",
       "      <td>6.0</td>\n",
       "      <td>2.0</td>\n",
       "    </tr>\n",
       "    <tr>\n",
       "      <th>1</th>\n",
       "      <td>Week 5 of 2019</td>\n",
       "      <td>Warehouse Retailers</td>\n",
       "      <td>2</td>\n",
       "      <td>294.9</td>\n",
       "      <td>0</td>\n",
       "      <td>0.0</td>\n",
       "      <td>store_fc6aa</td>\n",
       "      <td>product_8de14</td>\n",
       "      <td>route_67047</td>\n",
       "      <td>supplier_identifier_055f7</td>\n",
       "      <td>2</td>\n",
       "      <td>294.9</td>\n",
       "      <td>0</td>\n",
       "      <td>0.0</td>\n",
       "      <td>6.0</td>\n",
       "      <td>2.0</td>\n",
       "    </tr>\n",
       "    <tr>\n",
       "      <th>2</th>\n",
       "      <td>Week 5 of 2019</td>\n",
       "      <td>Warehouse Retailers</td>\n",
       "      <td>8</td>\n",
       "      <td>1005.6</td>\n",
       "      <td>0</td>\n",
       "      <td>0.0</td>\n",
       "      <td>store_fc6aa</td>\n",
       "      <td>product_1c00e</td>\n",
       "      <td>route_67047</td>\n",
       "      <td>supplier_identifier_055f7</td>\n",
       "      <td>8</td>\n",
       "      <td>1005.6</td>\n",
       "      <td>0</td>\n",
       "      <td>0.0</td>\n",
       "      <td>6.0</td>\n",
       "      <td>1.0</td>\n",
       "    </tr>\n",
       "    <tr>\n",
       "      <th>3</th>\n",
       "      <td>Week 5 of 2019</td>\n",
       "      <td>Warehouse Retailers</td>\n",
       "      <td>2</td>\n",
       "      <td>229.2</td>\n",
       "      <td>0</td>\n",
       "      <td>0.0</td>\n",
       "      <td>store_fc6aa</td>\n",
       "      <td>product_55001</td>\n",
       "      <td>route_67047</td>\n",
       "      <td>supplier_identifier_055f7</td>\n",
       "      <td>2</td>\n",
       "      <td>229.2</td>\n",
       "      <td>0</td>\n",
       "      <td>0.0</td>\n",
       "      <td>6.0</td>\n",
       "      <td>1.0</td>\n",
       "    </tr>\n",
       "    <tr>\n",
       "      <th>4</th>\n",
       "      <td>Week 5 of 2019</td>\n",
       "      <td>Warehouse Retailers</td>\n",
       "      <td>14</td>\n",
       "      <td>1604.4</td>\n",
       "      <td>0</td>\n",
       "      <td>0.0</td>\n",
       "      <td>store_fc6aa</td>\n",
       "      <td>product_dfcaf</td>\n",
       "      <td>route_67047</td>\n",
       "      <td>supplier_identifier_055f7</td>\n",
       "      <td>14</td>\n",
       "      <td>1604.4</td>\n",
       "      <td>0</td>\n",
       "      <td>0.0</td>\n",
       "      <td>6.0</td>\n",
       "      <td>1.0</td>\n",
       "    </tr>\n",
       "  </tbody>\n",
       "</table>\n",
       "</div>"
      ],
      "text/plain": [
       "  experiment_week         channel_type  num_units_sold_in_week  \\\n",
       "0  Week 5 of 2019  Warehouse Retailers                       2   \n",
       "1  Week 5 of 2019  Warehouse Retailers                       2   \n",
       "2  Week 5 of 2019  Warehouse Retailers                       8   \n",
       "3  Week 5 of 2019  Warehouse Retailers                       2   \n",
       "4  Week 5 of 2019  Warehouse Retailers                      14   \n",
       "\n",
       "   sales_revenue_in_week  num_units_returned  returned_units_revenue_loss  \\\n",
       "0                  251.4                   0                          0.0   \n",
       "1                  294.9                   0                          0.0   \n",
       "2                 1005.6                   0                          0.0   \n",
       "3                  229.2                   0                          0.0   \n",
       "4                 1604.4                   0                          0.0   \n",
       "\n",
       "  store_identifier product_identifier category_of_route  \\\n",
       "0      store_fc6aa      product_2b363       route_67047   \n",
       "1      store_fc6aa      product_8de14       route_67047   \n",
       "2      store_fc6aa      product_1c00e       route_67047   \n",
       "3      store_fc6aa      product_55001       route_67047   \n",
       "4      store_fc6aa      product_dfcaf       route_67047   \n",
       "\n",
       "         supplier_identifier  Demand  Gross_Revenue  suppiden_cluster  \\\n",
       "0  supplier_identifier_055f7       2          251.4                 0   \n",
       "1  supplier_identifier_055f7       2          294.9                 0   \n",
       "2  supplier_identifier_055f7       8         1005.6                 0   \n",
       "3  supplier_identifier_055f7       2          229.2                 0   \n",
       "4  supplier_identifier_055f7      14         1604.4                 0   \n",
       "\n",
       "   storiden_cluster  cateofrt_cluster  prodiden_cluster  \n",
       "0               0.0               6.0               2.0  \n",
       "1               0.0               6.0               2.0  \n",
       "2               0.0               6.0               1.0  \n",
       "3               0.0               6.0               1.0  \n",
       "4               0.0               6.0               1.0  "
      ]
     },
     "execution_count": 107,
     "metadata": {},
     "output_type": "execute_result"
    }
   ],
   "source": [
    "testdata=pd.merge(testdata,storidenstan,left_on=\"store_identifier\",right_on=\"store_identifier\",how=\"left\")\n",
    "testdata.drop([\"1\",\"2\"],axis=1,inplace=True)\n",
    "testdata=pd.merge(testdata,cateofrtstan,left_on=\"category_of_route\",right_on=\"category_of_route\",how=\"left\")\n",
    "testdata.drop([\"1\",\"2\"],axis=1,inplace=True)\n",
    "testdata=pd.merge(testdata,prodidenstan,left_on=\"product_identifier\",right_on=\"product_identifier\",how=\"left\")\n",
    "testdata.drop([\"1\",\"2\"],axis=1,inplace=True)\n",
    "testdata.head()"
   ]
  },
  {
   "cell_type": "code",
   "execution_count": 108,
   "metadata": {},
   "outputs": [
    {
     "data": {
      "text/html": [
       "<div>\n",
       "<style scoped>\n",
       "    .dataframe tbody tr th:only-of-type {\n",
       "        vertical-align: middle;\n",
       "    }\n",
       "\n",
       "    .dataframe tbody tr th {\n",
       "        vertical-align: top;\n",
       "    }\n",
       "\n",
       "    .dataframe thead th {\n",
       "        text-align: right;\n",
       "    }\n",
       "</style>\n",
       "<table border=\"1\" class=\"dataframe\">\n",
       "  <thead>\n",
       "    <tr style=\"text-align: right;\">\n",
       "      <th></th>\n",
       "      <th>experiment_week</th>\n",
       "      <th>channel_type</th>\n",
       "      <th>num_units_sold_in_week</th>\n",
       "      <th>sales_revenue_in_week</th>\n",
       "      <th>num_units_returned</th>\n",
       "      <th>returned_units_revenue_loss</th>\n",
       "      <th>store_identifier</th>\n",
       "      <th>product_identifier</th>\n",
       "      <th>category_of_route</th>\n",
       "      <th>supplier_identifier</th>\n",
       "      <th>Demand</th>\n",
       "      <th>Gross_Revenue</th>\n",
       "      <th>suppiden_cluster</th>\n",
       "      <th>storiden_cluster</th>\n",
       "      <th>cateofrt_cluster</th>\n",
       "      <th>prodiden_cluster</th>\n",
       "    </tr>\n",
       "  </thead>\n",
       "  <tbody>\n",
       "    <tr>\n",
       "      <th>10382844</th>\n",
       "      <td>Week 5 of 2019</td>\n",
       "      <td>Grocery Stores</td>\n",
       "      <td>2</td>\n",
       "      <td>382.5</td>\n",
       "      <td>0</td>\n",
       "      <td>0.0</td>\n",
       "      <td>store_d7372</td>\n",
       "      <td>product_48541</td>\n",
       "      <td>route_5078b</td>\n",
       "      <td>supplier_identifier_4ae6d</td>\n",
       "      <td>2</td>\n",
       "      <td>382.5</td>\n",
       "      <td>2</td>\n",
       "      <td>0.0</td>\n",
       "      <td>0.0</td>\n",
       "      <td>3.0</td>\n",
       "    </tr>\n",
       "    <tr>\n",
       "      <th>10382845</th>\n",
       "      <td>Week 5 of 2019</td>\n",
       "      <td>Grocery Stores</td>\n",
       "      <td>2</td>\n",
       "      <td>504.0</td>\n",
       "      <td>0</td>\n",
       "      <td>0.0</td>\n",
       "      <td>store_d7372</td>\n",
       "      <td>product_fa4c5</td>\n",
       "      <td>route_5078b</td>\n",
       "      <td>supplier_identifier_4ae6d</td>\n",
       "      <td>2</td>\n",
       "      <td>504.0</td>\n",
       "      <td>2</td>\n",
       "      <td>0.0</td>\n",
       "      <td>0.0</td>\n",
       "      <td>0.0</td>\n",
       "    </tr>\n",
       "    <tr>\n",
       "      <th>10382846</th>\n",
       "      <td>Week 5 of 2019</td>\n",
       "      <td>Grocery Stores</td>\n",
       "      <td>2</td>\n",
       "      <td>270.0</td>\n",
       "      <td>0</td>\n",
       "      <td>0.0</td>\n",
       "      <td>store_d7372</td>\n",
       "      <td>product_3fc7c</td>\n",
       "      <td>route_5078b</td>\n",
       "      <td>supplier_identifier_4ae6d</td>\n",
       "      <td>2</td>\n",
       "      <td>270.0</td>\n",
       "      <td>2</td>\n",
       "      <td>0.0</td>\n",
       "      <td>0.0</td>\n",
       "      <td>3.0</td>\n",
       "    </tr>\n",
       "    <tr>\n",
       "      <th>10382847</th>\n",
       "      <td>Week 5 of 2019</td>\n",
       "      <td>Grocery Stores</td>\n",
       "      <td>2</td>\n",
       "      <td>269.4</td>\n",
       "      <td>0</td>\n",
       "      <td>0.0</td>\n",
       "      <td>store_d7372</td>\n",
       "      <td>product_f7e0e</td>\n",
       "      <td>route_5078b</td>\n",
       "      <td>supplier_identifier_4ae6d</td>\n",
       "      <td>2</td>\n",
       "      <td>269.4</td>\n",
       "      <td>2</td>\n",
       "      <td>0.0</td>\n",
       "      <td>0.0</td>\n",
       "      <td>3.0</td>\n",
       "    </tr>\n",
       "    <tr>\n",
       "      <th>10382848</th>\n",
       "      <td>Week 5 of 2019</td>\n",
       "      <td>Grocery Stores</td>\n",
       "      <td>40</td>\n",
       "      <td>450.0</td>\n",
       "      <td>0</td>\n",
       "      <td>0.0</td>\n",
       "      <td>store_d7372</td>\n",
       "      <td>product_faf61</td>\n",
       "      <td>route_5078b</td>\n",
       "      <td>supplier_identifier_4ae6d</td>\n",
       "      <td>40</td>\n",
       "      <td>450.0</td>\n",
       "      <td>2</td>\n",
       "      <td>0.0</td>\n",
       "      <td>0.0</td>\n",
       "      <td>6.0</td>\n",
       "    </tr>\n",
       "  </tbody>\n",
       "</table>\n",
       "</div>"
      ],
      "text/plain": [
       "         experiment_week    channel_type  num_units_sold_in_week  \\\n",
       "10382844  Week 5 of 2019  Grocery Stores                       2   \n",
       "10382845  Week 5 of 2019  Grocery Stores                       2   \n",
       "10382846  Week 5 of 2019  Grocery Stores                       2   \n",
       "10382847  Week 5 of 2019  Grocery Stores                       2   \n",
       "10382848  Week 5 of 2019  Grocery Stores                      40   \n",
       "\n",
       "          sales_revenue_in_week  num_units_returned  \\\n",
       "10382844                  382.5                   0   \n",
       "10382845                  504.0                   0   \n",
       "10382846                  270.0                   0   \n",
       "10382847                  269.4                   0   \n",
       "10382848                  450.0                   0   \n",
       "\n",
       "          returned_units_revenue_loss store_identifier product_identifier  \\\n",
       "10382844                          0.0      store_d7372      product_48541   \n",
       "10382845                          0.0      store_d7372      product_fa4c5   \n",
       "10382846                          0.0      store_d7372      product_3fc7c   \n",
       "10382847                          0.0      store_d7372      product_f7e0e   \n",
       "10382848                          0.0      store_d7372      product_faf61   \n",
       "\n",
       "         category_of_route        supplier_identifier  Demand  Gross_Revenue  \\\n",
       "10382844       route_5078b  supplier_identifier_4ae6d       2          382.5   \n",
       "10382845       route_5078b  supplier_identifier_4ae6d       2          504.0   \n",
       "10382846       route_5078b  supplier_identifier_4ae6d       2          270.0   \n",
       "10382847       route_5078b  supplier_identifier_4ae6d       2          269.4   \n",
       "10382848       route_5078b  supplier_identifier_4ae6d      40          450.0   \n",
       "\n",
       "          suppiden_cluster  storiden_cluster  cateofrt_cluster  \\\n",
       "10382844                 2               0.0               0.0   \n",
       "10382845                 2               0.0               0.0   \n",
       "10382846                 2               0.0               0.0   \n",
       "10382847                 2               0.0               0.0   \n",
       "10382848                 2               0.0               0.0   \n",
       "\n",
       "          prodiden_cluster  \n",
       "10382844               3.0  \n",
       "10382845               0.0  \n",
       "10382846               3.0  \n",
       "10382847               3.0  \n",
       "10382848               6.0  "
      ]
     },
     "execution_count": 108,
     "metadata": {},
     "output_type": "execute_result"
    }
   ],
   "source": [
    "testdata.tail()"
   ]
  },
  {
   "cell_type": "code",
   "execution_count": 109,
   "metadata": {},
   "outputs": [
    {
     "data": {
      "text/plain": [
       "(10382849, 16)"
      ]
     },
     "execution_count": 109,
     "metadata": {},
     "output_type": "execute_result"
    }
   ],
   "source": [
    "testdata.shape"
   ]
  },
  {
   "cell_type": "code",
   "execution_count": 110,
   "metadata": {},
   "outputs": [
    {
     "data": {
      "text/plain": [
       "experiment_week                    0\n",
       "channel_type                       0\n",
       "num_units_sold_in_week             0\n",
       "sales_revenue_in_week              0\n",
       "num_units_returned                 0\n",
       "returned_units_revenue_loss        0\n",
       "store_identifier                   0\n",
       "product_identifier                 0\n",
       "category_of_route                  0\n",
       "supplier_identifier                0\n",
       "Demand                             0\n",
       "Gross_Revenue                      0\n",
       "suppiden_cluster                   0\n",
       "storiden_cluster               24029\n",
       "cateofrt_cluster                 156\n",
       "prodiden_cluster               89501\n",
       "dtype: int64"
      ]
     },
     "execution_count": 110,
     "metadata": {},
     "output_type": "execute_result"
    }
   ],
   "source": [
    "testdata.isnull().sum()"
   ]
  },
  {
   "cell_type": "code",
   "execution_count": 111,
   "metadata": {},
   "outputs": [],
   "source": [
    "#Assigning all the NULL Values to a new value so that we can drop that later on \n",
    "testdata.loc[testdata.cateofrt_cluster.isnull(),\"cateofrt_cluster\"]=-1\n",
    "testdata.loc[testdata.storiden_cluster.isnull(),\"storiden_cluster\"]=-1\n",
    "testdata.loc[testdata.prodiden_cluster.isnull(),\"prodiden_cluster\"]=-1"
   ]
  },
  {
   "cell_type": "code",
   "execution_count": 112,
   "metadata": {},
   "outputs": [
    {
     "data": {
      "text/plain": [
       "experiment_week                0\n",
       "channel_type                   0\n",
       "num_units_sold_in_week         0\n",
       "sales_revenue_in_week          0\n",
       "num_units_returned             0\n",
       "returned_units_revenue_loss    0\n",
       "store_identifier               0\n",
       "product_identifier             0\n",
       "category_of_route              0\n",
       "supplier_identifier            0\n",
       "Demand                         0\n",
       "Gross_Revenue                  0\n",
       "suppiden_cluster               0\n",
       "storiden_cluster               0\n",
       "cateofrt_cluster               0\n",
       "prodiden_cluster               0\n",
       "dtype: int64"
      ]
     },
     "execution_count": 112,
     "metadata": {},
     "output_type": "execute_result"
    }
   ],
   "source": [
    "testdata.isnull().sum()"
   ]
  },
  {
   "cell_type": "code",
   "execution_count": 113,
   "metadata": {},
   "outputs": [
    {
     "data": {
      "text/plain": [
       "(10382849, 16)"
      ]
     },
     "execution_count": 113,
     "metadata": {},
     "output_type": "execute_result"
    }
   ],
   "source": [
    "testdata.shape"
   ]
  },
  {
   "cell_type": "code",
   "execution_count": 114,
   "metadata": {},
   "outputs": [],
   "source": [
    "#Dropping columns not required\n",
    "testdata.drop(['experiment_week', 'num_units_sold_in_week','sales_revenue_in_week', 'num_units_returned','returned_units_revenue_loss', 'store_identifier', 'product_identifier','category_of_route', 'supplier_identifier'], axis=1,inplace=True)"
   ]
  },
  {
   "cell_type": "code",
   "execution_count": 115,
   "metadata": {},
   "outputs": [],
   "source": [
    "#Splitting, Type Conversions and Dummyfication\n",
    "X_test=testdata.drop([\"Demand\",\"Gross_Revenue\"],axis=1)\n",
    "Y_test=testdata[\"Demand\"]\n",
    "X_test.suppiden_cluster=X_test.suppiden_cluster.astype(\"category\")\n",
    "X_test.cateofrt_cluster=X_test.cateofrt_cluster.astype(\"category\")\n",
    "X_test.storiden_cluster=X_test.storiden_cluster.astype(\"category\")\n",
    "X_test.prodiden_cluster=X_test.prodiden_cluster.astype(\"category\")\n",
    "X_test_cat=X_test[['suppiden_cluster', 'cateofrt_cluster', 'storiden_cluster','prodiden_cluster',\"channel_type\"]]\n",
    "X_test_catdum=pd.get_dummies(X_test_cat)\n",
    "X_test_processed=X_test_catdum"
   ]
  },
  {
   "cell_type": "code",
   "execution_count": 116,
   "metadata": {},
   "outputs": [
    {
     "data": {
      "text/plain": [
       "suppiden_cluster_0                   uint8\n",
       "suppiden_cluster_1                   uint8\n",
       "suppiden_cluster_2                   uint8\n",
       "suppiden_cluster_3                   uint8\n",
       "suppiden_cluster_4                   uint8\n",
       "cateofrt_cluster_-1.0                uint8\n",
       "cateofrt_cluster_0.0                 uint8\n",
       "cateofrt_cluster_1.0                 uint8\n",
       "cateofrt_cluster_2.0                 uint8\n",
       "cateofrt_cluster_3.0                 uint8\n",
       "cateofrt_cluster_4.0                 uint8\n",
       "cateofrt_cluster_5.0                 uint8\n",
       "cateofrt_cluster_6.0                 uint8\n",
       "storiden_cluster_-1.0                uint8\n",
       "storiden_cluster_0.0                 uint8\n",
       "storiden_cluster_1.0                 uint8\n",
       "storiden_cluster_2.0                 uint8\n",
       "storiden_cluster_3.0                 uint8\n",
       "storiden_cluster_4.0                 uint8\n",
       "storiden_cluster_5.0                 uint8\n",
       "storiden_cluster_6.0                 uint8\n",
       "storiden_cluster_7.0                 uint8\n",
       "storiden_cluster_8.0                 uint8\n",
       "prodiden_cluster_-1.0                uint8\n",
       "prodiden_cluster_0.0                 uint8\n",
       "prodiden_cluster_1.0                 uint8\n",
       "prodiden_cluster_2.0                 uint8\n",
       "prodiden_cluster_3.0                 uint8\n",
       "prodiden_cluster_4.0                 uint8\n",
       "prodiden_cluster_5.0                 uint8\n",
       "prodiden_cluster_6.0                 uint8\n",
       "channel_type_Convenience Retailer    uint8\n",
       "channel_type_Department Stores       uint8\n",
       "channel_type_Discount Retailer       uint8\n",
       "channel_type_Grocery Stores          uint8\n",
       "channel_type_Internet Retailers      uint8\n",
       "channel_type_Specialty Retailers     uint8\n",
       "channel_type_Supermarkets            uint8\n",
       "channel_type_Warehouse Retailers     uint8\n",
       "channel_type_Wholesale Retailers     uint8\n",
       "dtype: object"
      ]
     },
     "execution_count": 116,
     "metadata": {},
     "output_type": "execute_result"
    }
   ],
   "source": [
    "X_test_processed.dtypes"
   ]
  },
  {
   "cell_type": "code",
   "execution_count": 117,
   "metadata": {},
   "outputs": [],
   "source": [
    "#Dropping the new columns that we assigned\n",
    "X_test_processed.drop([\"cateofrt_cluster_-1.0\",\"storiden_cluster_-1.0\",\"prodiden_cluster_-1.0\"],axis=1,inplace=True)"
   ]
  },
  {
   "cell_type": "code",
   "execution_count": 219,
   "metadata": {},
   "outputs": [
    {
     "data": {
      "text/plain": [
       "array([11.01162003, 11.01162003, 11.01162003, ...,  3.29720587,\n",
       "        3.29720587, 42.45555556])"
      ]
     },
     "execution_count": 219,
     "metadata": {},
     "output_type": "execute_result"
    }
   ],
   "source": [
    "#Predications\n",
    "predictedtest=CV_DT.predict(X_test_processed)\n",
    "predictedtest"
   ]
  },
  {
   "cell_type": "code",
   "execution_count": 220,
   "metadata": {},
   "outputs": [
    {
     "name": "stdout",
     "output_type": "stream",
     "text": [
      "MSE: 347.97\n",
      "RMSE: 18.65\n",
      "MAE: 5.24\n",
      "R^2: 0.28\n"
     ]
    }
   ],
   "source": [
    "from sklearn.metrics import mean_squared_error\n",
    "from sklearn.metrics import r2_score\n",
    "from sklearn.metrics import mean_absolute_error\n",
    "\n",
    "print(\"MSE: %.2f\" % mean_squared_error(Y_test, predictedtest))\n",
    "\n",
    "print(\"RMSE: %.2f\" %(mean_squared_error(Y_test, predictedtest)**(1/2)))\n",
    "\n",
    "print(\"MAE: %.2f\" %mean_absolute_error(Y_test, predictedtest))\n",
    "\n",
    "print('R^2: %.2f' % r2_score(Y_test, predictedtest))"
   ]
  },
  {
   "cell_type": "markdown",
   "metadata": {},
   "source": [
    "## Revenue Loss If Model is Deployed "
   ]
  },
  {
   "cell_type": "code",
   "execution_count": 281,
   "metadata": {},
   "outputs": [],
   "source": [
    "testdata=trainnew[trainnew.experiment_week=='Week 5 of 2019']"
   ]
  },
  {
   "cell_type": "code",
   "execution_count": 282,
   "metadata": {},
   "outputs": [
    {
     "data": {
      "text/html": [
       "<div>\n",
       "<style scoped>\n",
       "    .dataframe tbody tr th:only-of-type {\n",
       "        vertical-align: middle;\n",
       "    }\n",
       "\n",
       "    .dataframe tbody tr th {\n",
       "        vertical-align: top;\n",
       "    }\n",
       "\n",
       "    .dataframe thead th {\n",
       "        text-align: right;\n",
       "    }\n",
       "</style>\n",
       "<table border=\"1\" class=\"dataframe\">\n",
       "  <thead>\n",
       "    <tr style=\"text-align: right;\">\n",
       "      <th></th>\n",
       "      <th>experiment_week</th>\n",
       "      <th>channel_type</th>\n",
       "      <th>num_units_sold_in_week</th>\n",
       "      <th>sales_revenue_in_week</th>\n",
       "      <th>num_units_returned</th>\n",
       "      <th>returned_units_revenue_loss</th>\n",
       "      <th>store_identifier</th>\n",
       "      <th>product_identifier</th>\n",
       "      <th>category_of_route</th>\n",
       "      <th>supplier_identifier</th>\n",
       "      <th>Demand</th>\n",
       "      <th>Gross_Revenue</th>\n",
       "    </tr>\n",
       "  </thead>\n",
       "  <tbody>\n",
       "    <tr>\n",
       "      <th>42982034</th>\n",
       "      <td>Week 5 of 2019</td>\n",
       "      <td>Warehouse Retailers</td>\n",
       "      <td>2</td>\n",
       "      <td>251.4</td>\n",
       "      <td>0</td>\n",
       "      <td>0.0</td>\n",
       "      <td>store_fc6aa</td>\n",
       "      <td>product_2b363</td>\n",
       "      <td>route_67047</td>\n",
       "      <td>supplier_identifier_055f7</td>\n",
       "      <td>2</td>\n",
       "      <td>251.4</td>\n",
       "    </tr>\n",
       "    <tr>\n",
       "      <th>42982035</th>\n",
       "      <td>Week 5 of 2019</td>\n",
       "      <td>Warehouse Retailers</td>\n",
       "      <td>2</td>\n",
       "      <td>294.9</td>\n",
       "      <td>0</td>\n",
       "      <td>0.0</td>\n",
       "      <td>store_fc6aa</td>\n",
       "      <td>product_8de14</td>\n",
       "      <td>route_67047</td>\n",
       "      <td>supplier_identifier_055f7</td>\n",
       "      <td>2</td>\n",
       "      <td>294.9</td>\n",
       "    </tr>\n",
       "    <tr>\n",
       "      <th>42982036</th>\n",
       "      <td>Week 5 of 2019</td>\n",
       "      <td>Warehouse Retailers</td>\n",
       "      <td>8</td>\n",
       "      <td>1005.6</td>\n",
       "      <td>0</td>\n",
       "      <td>0.0</td>\n",
       "      <td>store_fc6aa</td>\n",
       "      <td>product_1c00e</td>\n",
       "      <td>route_67047</td>\n",
       "      <td>supplier_identifier_055f7</td>\n",
       "      <td>8</td>\n",
       "      <td>1005.6</td>\n",
       "    </tr>\n",
       "    <tr>\n",
       "      <th>42982037</th>\n",
       "      <td>Week 5 of 2019</td>\n",
       "      <td>Warehouse Retailers</td>\n",
       "      <td>2</td>\n",
       "      <td>229.2</td>\n",
       "      <td>0</td>\n",
       "      <td>0.0</td>\n",
       "      <td>store_fc6aa</td>\n",
       "      <td>product_55001</td>\n",
       "      <td>route_67047</td>\n",
       "      <td>supplier_identifier_055f7</td>\n",
       "      <td>2</td>\n",
       "      <td>229.2</td>\n",
       "    </tr>\n",
       "    <tr>\n",
       "      <th>42982038</th>\n",
       "      <td>Week 5 of 2019</td>\n",
       "      <td>Warehouse Retailers</td>\n",
       "      <td>14</td>\n",
       "      <td>1604.4</td>\n",
       "      <td>0</td>\n",
       "      <td>0.0</td>\n",
       "      <td>store_fc6aa</td>\n",
       "      <td>product_dfcaf</td>\n",
       "      <td>route_67047</td>\n",
       "      <td>supplier_identifier_055f7</td>\n",
       "      <td>14</td>\n",
       "      <td>1604.4</td>\n",
       "    </tr>\n",
       "  </tbody>\n",
       "</table>\n",
       "</div>"
      ],
      "text/plain": [
       "         experiment_week         channel_type  num_units_sold_in_week  \\\n",
       "42982034  Week 5 of 2019  Warehouse Retailers                       2   \n",
       "42982035  Week 5 of 2019  Warehouse Retailers                       2   \n",
       "42982036  Week 5 of 2019  Warehouse Retailers                       8   \n",
       "42982037  Week 5 of 2019  Warehouse Retailers                       2   \n",
       "42982038  Week 5 of 2019  Warehouse Retailers                      14   \n",
       "\n",
       "          sales_revenue_in_week  num_units_returned  \\\n",
       "42982034                  251.4                   0   \n",
       "42982035                  294.9                   0   \n",
       "42982036                 1005.6                   0   \n",
       "42982037                  229.2                   0   \n",
       "42982038                 1604.4                   0   \n",
       "\n",
       "          returned_units_revenue_loss store_identifier product_identifier  \\\n",
       "42982034                          0.0      store_fc6aa      product_2b363   \n",
       "42982035                          0.0      store_fc6aa      product_8de14   \n",
       "42982036                          0.0      store_fc6aa      product_1c00e   \n",
       "42982037                          0.0      store_fc6aa      product_55001   \n",
       "42982038                          0.0      store_fc6aa      product_dfcaf   \n",
       "\n",
       "         category_of_route        supplier_identifier  Demand  Gross_Revenue  \n",
       "42982034       route_67047  supplier_identifier_055f7       2          251.4  \n",
       "42982035       route_67047  supplier_identifier_055f7       2          294.9  \n",
       "42982036       route_67047  supplier_identifier_055f7       8         1005.6  \n",
       "42982037       route_67047  supplier_identifier_055f7       2          229.2  \n",
       "42982038       route_67047  supplier_identifier_055f7      14         1604.4  "
      ]
     },
     "execution_count": 282,
     "metadata": {},
     "output_type": "execute_result"
    }
   ],
   "source": [
    "testdata.head()"
   ]
  },
  {
   "cell_type": "code",
   "execution_count": 283,
   "metadata": {},
   "outputs": [
    {
     "data": {
      "text/plain": [
       "(10382849, 12)"
      ]
     },
     "execution_count": 283,
     "metadata": {},
     "output_type": "execute_result"
    }
   ],
   "source": [
    "testdata.shape"
   ]
  },
  {
   "cell_type": "code",
   "execution_count": 284,
   "metadata": {},
   "outputs": [
    {
     "name": "stderr",
     "output_type": "stream",
     "text": [
      "/Users/saketh/anaconda3/lib/python3.7/site-packages/ipykernel_launcher.py:1: SettingWithCopyWarning: \n",
      "A value is trying to be set on a copy of a slice from a DataFrame.\n",
      "Try using .loc[row_indexer,col_indexer] = value instead\n",
      "\n",
      "See the caveats in the documentation: http://pandas.pydata.org/pandas-docs/stable/indexing.html#indexing-view-versus-copy\n",
      "  \"\"\"Entry point for launching an IPython kernel.\n"
     ]
    },
    {
     "data": {
      "text/html": [
       "<div>\n",
       "<style scoped>\n",
       "    .dataframe tbody tr th:only-of-type {\n",
       "        vertical-align: middle;\n",
       "    }\n",
       "\n",
       "    .dataframe tbody tr th {\n",
       "        vertical-align: top;\n",
       "    }\n",
       "\n",
       "    .dataframe thead th {\n",
       "        text-align: right;\n",
       "    }\n",
       "</style>\n",
       "<table border=\"1\" class=\"dataframe\">\n",
       "  <thead>\n",
       "    <tr style=\"text-align: right;\">\n",
       "      <th></th>\n",
       "      <th>experiment_week</th>\n",
       "      <th>channel_type</th>\n",
       "      <th>num_units_sold_in_week</th>\n",
       "      <th>sales_revenue_in_week</th>\n",
       "      <th>num_units_returned</th>\n",
       "      <th>returned_units_revenue_loss</th>\n",
       "      <th>store_identifier</th>\n",
       "      <th>product_identifier</th>\n",
       "      <th>category_of_route</th>\n",
       "      <th>supplier_identifier</th>\n",
       "      <th>Demand</th>\n",
       "      <th>Gross_Revenue</th>\n",
       "      <th>Unit_price</th>\n",
       "    </tr>\n",
       "  </thead>\n",
       "  <tbody>\n",
       "    <tr>\n",
       "      <th>42982034</th>\n",
       "      <td>Week 5 of 2019</td>\n",
       "      <td>Warehouse Retailers</td>\n",
       "      <td>2</td>\n",
       "      <td>251.4</td>\n",
       "      <td>0</td>\n",
       "      <td>0.0</td>\n",
       "      <td>store_fc6aa</td>\n",
       "      <td>product_2b363</td>\n",
       "      <td>route_67047</td>\n",
       "      <td>supplier_identifier_055f7</td>\n",
       "      <td>2</td>\n",
       "      <td>251.4</td>\n",
       "      <td>125.70</td>\n",
       "    </tr>\n",
       "    <tr>\n",
       "      <th>42982035</th>\n",
       "      <td>Week 5 of 2019</td>\n",
       "      <td>Warehouse Retailers</td>\n",
       "      <td>2</td>\n",
       "      <td>294.9</td>\n",
       "      <td>0</td>\n",
       "      <td>0.0</td>\n",
       "      <td>store_fc6aa</td>\n",
       "      <td>product_8de14</td>\n",
       "      <td>route_67047</td>\n",
       "      <td>supplier_identifier_055f7</td>\n",
       "      <td>2</td>\n",
       "      <td>294.9</td>\n",
       "      <td>147.45</td>\n",
       "    </tr>\n",
       "    <tr>\n",
       "      <th>42982036</th>\n",
       "      <td>Week 5 of 2019</td>\n",
       "      <td>Warehouse Retailers</td>\n",
       "      <td>8</td>\n",
       "      <td>1005.6</td>\n",
       "      <td>0</td>\n",
       "      <td>0.0</td>\n",
       "      <td>store_fc6aa</td>\n",
       "      <td>product_1c00e</td>\n",
       "      <td>route_67047</td>\n",
       "      <td>supplier_identifier_055f7</td>\n",
       "      <td>8</td>\n",
       "      <td>1005.6</td>\n",
       "      <td>125.70</td>\n",
       "    </tr>\n",
       "    <tr>\n",
       "      <th>42982037</th>\n",
       "      <td>Week 5 of 2019</td>\n",
       "      <td>Warehouse Retailers</td>\n",
       "      <td>2</td>\n",
       "      <td>229.2</td>\n",
       "      <td>0</td>\n",
       "      <td>0.0</td>\n",
       "      <td>store_fc6aa</td>\n",
       "      <td>product_55001</td>\n",
       "      <td>route_67047</td>\n",
       "      <td>supplier_identifier_055f7</td>\n",
       "      <td>2</td>\n",
       "      <td>229.2</td>\n",
       "      <td>114.60</td>\n",
       "    </tr>\n",
       "    <tr>\n",
       "      <th>42982038</th>\n",
       "      <td>Week 5 of 2019</td>\n",
       "      <td>Warehouse Retailers</td>\n",
       "      <td>14</td>\n",
       "      <td>1604.4</td>\n",
       "      <td>0</td>\n",
       "      <td>0.0</td>\n",
       "      <td>store_fc6aa</td>\n",
       "      <td>product_dfcaf</td>\n",
       "      <td>route_67047</td>\n",
       "      <td>supplier_identifier_055f7</td>\n",
       "      <td>14</td>\n",
       "      <td>1604.4</td>\n",
       "      <td>114.60</td>\n",
       "    </tr>\n",
       "  </tbody>\n",
       "</table>\n",
       "</div>"
      ],
      "text/plain": [
       "         experiment_week         channel_type  num_units_sold_in_week  \\\n",
       "42982034  Week 5 of 2019  Warehouse Retailers                       2   \n",
       "42982035  Week 5 of 2019  Warehouse Retailers                       2   \n",
       "42982036  Week 5 of 2019  Warehouse Retailers                       8   \n",
       "42982037  Week 5 of 2019  Warehouse Retailers                       2   \n",
       "42982038  Week 5 of 2019  Warehouse Retailers                      14   \n",
       "\n",
       "          sales_revenue_in_week  num_units_returned  \\\n",
       "42982034                  251.4                   0   \n",
       "42982035                  294.9                   0   \n",
       "42982036                 1005.6                   0   \n",
       "42982037                  229.2                   0   \n",
       "42982038                 1604.4                   0   \n",
       "\n",
       "          returned_units_revenue_loss store_identifier product_identifier  \\\n",
       "42982034                          0.0      store_fc6aa      product_2b363   \n",
       "42982035                          0.0      store_fc6aa      product_8de14   \n",
       "42982036                          0.0      store_fc6aa      product_1c00e   \n",
       "42982037                          0.0      store_fc6aa      product_55001   \n",
       "42982038                          0.0      store_fc6aa      product_dfcaf   \n",
       "\n",
       "         category_of_route        supplier_identifier  Demand  Gross_Revenue  \\\n",
       "42982034       route_67047  supplier_identifier_055f7       2          251.4   \n",
       "42982035       route_67047  supplier_identifier_055f7       2          294.9   \n",
       "42982036       route_67047  supplier_identifier_055f7       8         1005.6   \n",
       "42982037       route_67047  supplier_identifier_055f7       2          229.2   \n",
       "42982038       route_67047  supplier_identifier_055f7      14         1604.4   \n",
       "\n",
       "          Unit_price  \n",
       "42982034      125.70  \n",
       "42982035      147.45  \n",
       "42982036      125.70  \n",
       "42982037      114.60  \n",
       "42982038      114.60  "
      ]
     },
     "execution_count": 284,
     "metadata": {},
     "output_type": "execute_result"
    }
   ],
   "source": [
    "testdata[\"Unit_price\"]=(testdata[\"sales_revenue_in_week\"]/(testdata[\"num_units_sold_in_week\"]))\n",
    "\n",
    "testdata.head()"
   ]
  },
  {
   "cell_type": "code",
   "execution_count": 285,
   "metadata": {},
   "outputs": [
    {
     "name": "stderr",
     "output_type": "stream",
     "text": [
      "/Users/saketh/anaconda3/lib/python3.7/site-packages/pandas/core/indexing.py:543: SettingWithCopyWarning: \n",
      "A value is trying to be set on a copy of a slice from a DataFrame.\n",
      "Try using .loc[row_indexer,col_indexer] = value instead\n",
      "\n",
      "See the caveats in the documentation: http://pandas.pydata.org/pandas-docs/stable/indexing.html#indexing-view-versus-copy\n",
      "  self.obj[item] = s\n"
     ]
    }
   ],
   "source": [
    "testdata.loc[testdata.Unit_price.isnull(),\"Unit_price\"]=(testdata.loc[testdata.Unit_price.isnull(),\"returned_units_revenue_loss\"]/(testdata.loc[testdata.Unit_price.isnull(),\"num_units_returned\"]))\n"
   ]
  },
  {
   "cell_type": "code",
   "execution_count": 286,
   "metadata": {},
   "outputs": [
    {
     "data": {
      "text/plain": [
       "experiment_week                0\n",
       "channel_type                   0\n",
       "num_units_sold_in_week         0\n",
       "sales_revenue_in_week          0\n",
       "num_units_returned             0\n",
       "returned_units_revenue_loss    0\n",
       "store_identifier               0\n",
       "product_identifier             0\n",
       "category_of_route              0\n",
       "supplier_identifier            0\n",
       "Demand                         0\n",
       "Gross_Revenue                  0\n",
       "Unit_price                     0\n",
       "dtype: int64"
      ]
     },
     "execution_count": 286,
     "metadata": {},
     "output_type": "execute_result"
    }
   ],
   "source": [
    "testdata.isnull().sum()"
   ]
  },
  {
   "cell_type": "code",
   "execution_count": 287,
   "metadata": {},
   "outputs": [
    {
     "name": "stderr",
     "output_type": "stream",
     "text": [
      "/Users/saketh/anaconda3/lib/python3.7/site-packages/ipykernel_launcher.py:1: SettingWithCopyWarning: \n",
      "A value is trying to be set on a copy of a slice from a DataFrame.\n",
      "Try using .loc[row_indexer,col_indexer] = value instead\n",
      "\n",
      "See the caveats in the documentation: http://pandas.pydata.org/pandas-docs/stable/indexing.html#indexing-view-versus-copy\n",
      "  \"\"\"Entry point for launching an IPython kernel.\n"
     ]
    }
   ],
   "source": [
    "testdata[\"Predicted_Demand\"]=predictedtest"
   ]
  },
  {
   "cell_type": "code",
   "execution_count": 288,
   "metadata": {},
   "outputs": [
    {
     "name": "stderr",
     "output_type": "stream",
     "text": [
      "/Users/saketh/anaconda3/lib/python3.7/site-packages/ipykernel_launcher.py:1: SettingWithCopyWarning: \n",
      "A value is trying to be set on a copy of a slice from a DataFrame.\n",
      "Try using .loc[row_indexer,col_indexer] = value instead\n",
      "\n",
      "See the caveats in the documentation: http://pandas.pydata.org/pandas-docs/stable/indexing.html#indexing-view-versus-copy\n",
      "  \"\"\"Entry point for launching an IPython kernel.\n"
     ]
    },
    {
     "data": {
      "text/html": [
       "<div>\n",
       "<style scoped>\n",
       "    .dataframe tbody tr th:only-of-type {\n",
       "        vertical-align: middle;\n",
       "    }\n",
       "\n",
       "    .dataframe tbody tr th {\n",
       "        vertical-align: top;\n",
       "    }\n",
       "\n",
       "    .dataframe thead th {\n",
       "        text-align: right;\n",
       "    }\n",
       "</style>\n",
       "<table border=\"1\" class=\"dataframe\">\n",
       "  <thead>\n",
       "    <tr style=\"text-align: right;\">\n",
       "      <th></th>\n",
       "      <th>experiment_week</th>\n",
       "      <th>channel_type</th>\n",
       "      <th>num_units_sold_in_week</th>\n",
       "      <th>sales_revenue_in_week</th>\n",
       "      <th>num_units_returned</th>\n",
       "      <th>returned_units_revenue_loss</th>\n",
       "      <th>store_identifier</th>\n",
       "      <th>product_identifier</th>\n",
       "      <th>category_of_route</th>\n",
       "      <th>supplier_identifier</th>\n",
       "      <th>Demand</th>\n",
       "      <th>Gross_Revenue</th>\n",
       "      <th>Unit_price</th>\n",
       "      <th>Predicted_Demand</th>\n",
       "      <th>Error_prediction</th>\n",
       "    </tr>\n",
       "  </thead>\n",
       "  <tbody>\n",
       "    <tr>\n",
       "      <th>42982034</th>\n",
       "      <td>Week 5 of 2019</td>\n",
       "      <td>Warehouse Retailers</td>\n",
       "      <td>2</td>\n",
       "      <td>251.4</td>\n",
       "      <td>0</td>\n",
       "      <td>0.0</td>\n",
       "      <td>store_fc6aa</td>\n",
       "      <td>product_2b363</td>\n",
       "      <td>route_67047</td>\n",
       "      <td>supplier_identifier_055f7</td>\n",
       "      <td>2</td>\n",
       "      <td>251.4</td>\n",
       "      <td>125.70</td>\n",
       "      <td>11.01162</td>\n",
       "      <td>9.01162</td>\n",
       "    </tr>\n",
       "    <tr>\n",
       "      <th>42982035</th>\n",
       "      <td>Week 5 of 2019</td>\n",
       "      <td>Warehouse Retailers</td>\n",
       "      <td>2</td>\n",
       "      <td>294.9</td>\n",
       "      <td>0</td>\n",
       "      <td>0.0</td>\n",
       "      <td>store_fc6aa</td>\n",
       "      <td>product_8de14</td>\n",
       "      <td>route_67047</td>\n",
       "      <td>supplier_identifier_055f7</td>\n",
       "      <td>2</td>\n",
       "      <td>294.9</td>\n",
       "      <td>147.45</td>\n",
       "      <td>11.01162</td>\n",
       "      <td>9.01162</td>\n",
       "    </tr>\n",
       "    <tr>\n",
       "      <th>42982036</th>\n",
       "      <td>Week 5 of 2019</td>\n",
       "      <td>Warehouse Retailers</td>\n",
       "      <td>8</td>\n",
       "      <td>1005.6</td>\n",
       "      <td>0</td>\n",
       "      <td>0.0</td>\n",
       "      <td>store_fc6aa</td>\n",
       "      <td>product_1c00e</td>\n",
       "      <td>route_67047</td>\n",
       "      <td>supplier_identifier_055f7</td>\n",
       "      <td>8</td>\n",
       "      <td>1005.6</td>\n",
       "      <td>125.70</td>\n",
       "      <td>11.01162</td>\n",
       "      <td>3.01162</td>\n",
       "    </tr>\n",
       "    <tr>\n",
       "      <th>42982037</th>\n",
       "      <td>Week 5 of 2019</td>\n",
       "      <td>Warehouse Retailers</td>\n",
       "      <td>2</td>\n",
       "      <td>229.2</td>\n",
       "      <td>0</td>\n",
       "      <td>0.0</td>\n",
       "      <td>store_fc6aa</td>\n",
       "      <td>product_55001</td>\n",
       "      <td>route_67047</td>\n",
       "      <td>supplier_identifier_055f7</td>\n",
       "      <td>2</td>\n",
       "      <td>229.2</td>\n",
       "      <td>114.60</td>\n",
       "      <td>11.01162</td>\n",
       "      <td>9.01162</td>\n",
       "    </tr>\n",
       "    <tr>\n",
       "      <th>42982038</th>\n",
       "      <td>Week 5 of 2019</td>\n",
       "      <td>Warehouse Retailers</td>\n",
       "      <td>14</td>\n",
       "      <td>1604.4</td>\n",
       "      <td>0</td>\n",
       "      <td>0.0</td>\n",
       "      <td>store_fc6aa</td>\n",
       "      <td>product_dfcaf</td>\n",
       "      <td>route_67047</td>\n",
       "      <td>supplier_identifier_055f7</td>\n",
       "      <td>14</td>\n",
       "      <td>1604.4</td>\n",
       "      <td>114.60</td>\n",
       "      <td>11.01162</td>\n",
       "      <td>-2.98838</td>\n",
       "    </tr>\n",
       "  </tbody>\n",
       "</table>\n",
       "</div>"
      ],
      "text/plain": [
       "         experiment_week         channel_type  num_units_sold_in_week  \\\n",
       "42982034  Week 5 of 2019  Warehouse Retailers                       2   \n",
       "42982035  Week 5 of 2019  Warehouse Retailers                       2   \n",
       "42982036  Week 5 of 2019  Warehouse Retailers                       8   \n",
       "42982037  Week 5 of 2019  Warehouse Retailers                       2   \n",
       "42982038  Week 5 of 2019  Warehouse Retailers                      14   \n",
       "\n",
       "          sales_revenue_in_week  num_units_returned  \\\n",
       "42982034                  251.4                   0   \n",
       "42982035                  294.9                   0   \n",
       "42982036                 1005.6                   0   \n",
       "42982037                  229.2                   0   \n",
       "42982038                 1604.4                   0   \n",
       "\n",
       "          returned_units_revenue_loss store_identifier product_identifier  \\\n",
       "42982034                          0.0      store_fc6aa      product_2b363   \n",
       "42982035                          0.0      store_fc6aa      product_8de14   \n",
       "42982036                          0.0      store_fc6aa      product_1c00e   \n",
       "42982037                          0.0      store_fc6aa      product_55001   \n",
       "42982038                          0.0      store_fc6aa      product_dfcaf   \n",
       "\n",
       "         category_of_route        supplier_identifier  Demand  Gross_Revenue  \\\n",
       "42982034       route_67047  supplier_identifier_055f7       2          251.4   \n",
       "42982035       route_67047  supplier_identifier_055f7       2          294.9   \n",
       "42982036       route_67047  supplier_identifier_055f7       8         1005.6   \n",
       "42982037       route_67047  supplier_identifier_055f7       2          229.2   \n",
       "42982038       route_67047  supplier_identifier_055f7      14         1604.4   \n",
       "\n",
       "          Unit_price  Predicted_Demand  Error_prediction  \n",
       "42982034      125.70          11.01162           9.01162  \n",
       "42982035      147.45          11.01162           9.01162  \n",
       "42982036      125.70          11.01162           3.01162  \n",
       "42982037      114.60          11.01162           9.01162  \n",
       "42982038      114.60          11.01162          -2.98838  "
      ]
     },
     "execution_count": 288,
     "metadata": {},
     "output_type": "execute_result"
    }
   ],
   "source": [
    "testdata[\"Error_prediction\"]=(predictedtest-testdata[\"Demand\"])\n",
    "testdata.head()"
   ]
  },
  {
   "cell_type": "code",
   "execution_count": 289,
   "metadata": {},
   "outputs": [
    {
     "name": "stderr",
     "output_type": "stream",
     "text": [
      "/Users/saketh/anaconda3/lib/python3.7/site-packages/ipykernel_launcher.py:1: SettingWithCopyWarning: \n",
      "A value is trying to be set on a copy of a slice from a DataFrame.\n",
      "Try using .loc[row_indexer,col_indexer] = value instead\n",
      "\n",
      "See the caveats in the documentation: http://pandas.pydata.org/pandas-docs/stable/indexing.html#indexing-view-versus-copy\n",
      "  \"\"\"Entry point for launching an IPython kernel.\n"
     ]
    },
    {
     "data": {
      "text/html": [
       "<div>\n",
       "<style scoped>\n",
       "    .dataframe tbody tr th:only-of-type {\n",
       "        vertical-align: middle;\n",
       "    }\n",
       "\n",
       "    .dataframe tbody tr th {\n",
       "        vertical-align: top;\n",
       "    }\n",
       "\n",
       "    .dataframe thead th {\n",
       "        text-align: right;\n",
       "    }\n",
       "</style>\n",
       "<table border=\"1\" class=\"dataframe\">\n",
       "  <thead>\n",
       "    <tr style=\"text-align: right;\">\n",
       "      <th></th>\n",
       "      <th>experiment_week</th>\n",
       "      <th>channel_type</th>\n",
       "      <th>num_units_sold_in_week</th>\n",
       "      <th>sales_revenue_in_week</th>\n",
       "      <th>num_units_returned</th>\n",
       "      <th>returned_units_revenue_loss</th>\n",
       "      <th>store_identifier</th>\n",
       "      <th>product_identifier</th>\n",
       "      <th>category_of_route</th>\n",
       "      <th>supplier_identifier</th>\n",
       "      <th>Demand</th>\n",
       "      <th>Gross_Revenue</th>\n",
       "      <th>Unit_price</th>\n",
       "      <th>Predicted_Demand</th>\n",
       "      <th>Error_prediction</th>\n",
       "      <th>Absolute_Error_Prediction</th>\n",
       "    </tr>\n",
       "  </thead>\n",
       "  <tbody>\n",
       "    <tr>\n",
       "      <th>42982034</th>\n",
       "      <td>Week 5 of 2019</td>\n",
       "      <td>Warehouse Retailers</td>\n",
       "      <td>2</td>\n",
       "      <td>251.4</td>\n",
       "      <td>0</td>\n",
       "      <td>0.0</td>\n",
       "      <td>store_fc6aa</td>\n",
       "      <td>product_2b363</td>\n",
       "      <td>route_67047</td>\n",
       "      <td>supplier_identifier_055f7</td>\n",
       "      <td>2</td>\n",
       "      <td>251.4</td>\n",
       "      <td>125.70</td>\n",
       "      <td>11.01162</td>\n",
       "      <td>9.01162</td>\n",
       "      <td>9.01162</td>\n",
       "    </tr>\n",
       "    <tr>\n",
       "      <th>42982035</th>\n",
       "      <td>Week 5 of 2019</td>\n",
       "      <td>Warehouse Retailers</td>\n",
       "      <td>2</td>\n",
       "      <td>294.9</td>\n",
       "      <td>0</td>\n",
       "      <td>0.0</td>\n",
       "      <td>store_fc6aa</td>\n",
       "      <td>product_8de14</td>\n",
       "      <td>route_67047</td>\n",
       "      <td>supplier_identifier_055f7</td>\n",
       "      <td>2</td>\n",
       "      <td>294.9</td>\n",
       "      <td>147.45</td>\n",
       "      <td>11.01162</td>\n",
       "      <td>9.01162</td>\n",
       "      <td>9.01162</td>\n",
       "    </tr>\n",
       "    <tr>\n",
       "      <th>42982036</th>\n",
       "      <td>Week 5 of 2019</td>\n",
       "      <td>Warehouse Retailers</td>\n",
       "      <td>8</td>\n",
       "      <td>1005.6</td>\n",
       "      <td>0</td>\n",
       "      <td>0.0</td>\n",
       "      <td>store_fc6aa</td>\n",
       "      <td>product_1c00e</td>\n",
       "      <td>route_67047</td>\n",
       "      <td>supplier_identifier_055f7</td>\n",
       "      <td>8</td>\n",
       "      <td>1005.6</td>\n",
       "      <td>125.70</td>\n",
       "      <td>11.01162</td>\n",
       "      <td>3.01162</td>\n",
       "      <td>3.01162</td>\n",
       "    </tr>\n",
       "    <tr>\n",
       "      <th>42982037</th>\n",
       "      <td>Week 5 of 2019</td>\n",
       "      <td>Warehouse Retailers</td>\n",
       "      <td>2</td>\n",
       "      <td>229.2</td>\n",
       "      <td>0</td>\n",
       "      <td>0.0</td>\n",
       "      <td>store_fc6aa</td>\n",
       "      <td>product_55001</td>\n",
       "      <td>route_67047</td>\n",
       "      <td>supplier_identifier_055f7</td>\n",
       "      <td>2</td>\n",
       "      <td>229.2</td>\n",
       "      <td>114.60</td>\n",
       "      <td>11.01162</td>\n",
       "      <td>9.01162</td>\n",
       "      <td>9.01162</td>\n",
       "    </tr>\n",
       "    <tr>\n",
       "      <th>42982038</th>\n",
       "      <td>Week 5 of 2019</td>\n",
       "      <td>Warehouse Retailers</td>\n",
       "      <td>14</td>\n",
       "      <td>1604.4</td>\n",
       "      <td>0</td>\n",
       "      <td>0.0</td>\n",
       "      <td>store_fc6aa</td>\n",
       "      <td>product_dfcaf</td>\n",
       "      <td>route_67047</td>\n",
       "      <td>supplier_identifier_055f7</td>\n",
       "      <td>14</td>\n",
       "      <td>1604.4</td>\n",
       "      <td>114.60</td>\n",
       "      <td>11.01162</td>\n",
       "      <td>-2.98838</td>\n",
       "      <td>2.98838</td>\n",
       "    </tr>\n",
       "  </tbody>\n",
       "</table>\n",
       "</div>"
      ],
      "text/plain": [
       "         experiment_week         channel_type  num_units_sold_in_week  \\\n",
       "42982034  Week 5 of 2019  Warehouse Retailers                       2   \n",
       "42982035  Week 5 of 2019  Warehouse Retailers                       2   \n",
       "42982036  Week 5 of 2019  Warehouse Retailers                       8   \n",
       "42982037  Week 5 of 2019  Warehouse Retailers                       2   \n",
       "42982038  Week 5 of 2019  Warehouse Retailers                      14   \n",
       "\n",
       "          sales_revenue_in_week  num_units_returned  \\\n",
       "42982034                  251.4                   0   \n",
       "42982035                  294.9                   0   \n",
       "42982036                 1005.6                   0   \n",
       "42982037                  229.2                   0   \n",
       "42982038                 1604.4                   0   \n",
       "\n",
       "          returned_units_revenue_loss store_identifier product_identifier  \\\n",
       "42982034                          0.0      store_fc6aa      product_2b363   \n",
       "42982035                          0.0      store_fc6aa      product_8de14   \n",
       "42982036                          0.0      store_fc6aa      product_1c00e   \n",
       "42982037                          0.0      store_fc6aa      product_55001   \n",
       "42982038                          0.0      store_fc6aa      product_dfcaf   \n",
       "\n",
       "         category_of_route        supplier_identifier  Demand  Gross_Revenue  \\\n",
       "42982034       route_67047  supplier_identifier_055f7       2          251.4   \n",
       "42982035       route_67047  supplier_identifier_055f7       2          294.9   \n",
       "42982036       route_67047  supplier_identifier_055f7       8         1005.6   \n",
       "42982037       route_67047  supplier_identifier_055f7       2          229.2   \n",
       "42982038       route_67047  supplier_identifier_055f7      14         1604.4   \n",
       "\n",
       "          Unit_price  Predicted_Demand  Error_prediction  \\\n",
       "42982034      125.70          11.01162           9.01162   \n",
       "42982035      147.45          11.01162           9.01162   \n",
       "42982036      125.70          11.01162           3.01162   \n",
       "42982037      114.60          11.01162           9.01162   \n",
       "42982038      114.60          11.01162          -2.98838   \n",
       "\n",
       "          Absolute_Error_Prediction  \n",
       "42982034                    9.01162  \n",
       "42982035                    9.01162  \n",
       "42982036                    3.01162  \n",
       "42982037                    9.01162  \n",
       "42982038                    2.98838  "
      ]
     },
     "execution_count": 289,
     "metadata": {},
     "output_type": "execute_result"
    }
   ],
   "source": [
    "testdata[\"Absolute_Error_Prediction\"]=np.abs(testdata[\"Demand\"]-predictedtest)\n",
    "testdata.head()"
   ]
  },
  {
   "cell_type": "code",
   "execution_count": 290,
   "metadata": {},
   "outputs": [
    {
     "name": "stderr",
     "output_type": "stream",
     "text": [
      "/Users/saketh/anaconda3/lib/python3.7/site-packages/ipykernel_launcher.py:1: SettingWithCopyWarning: \n",
      "A value is trying to be set on a copy of a slice from a DataFrame.\n",
      "Try using .loc[row_indexer,col_indexer] = value instead\n",
      "\n",
      "See the caveats in the documentation: http://pandas.pydata.org/pandas-docs/stable/indexing.html#indexing-view-versus-copy\n",
      "  \"\"\"Entry point for launching an IPython kernel.\n"
     ]
    },
    {
     "data": {
      "text/html": [
       "<div>\n",
       "<style scoped>\n",
       "    .dataframe tbody tr th:only-of-type {\n",
       "        vertical-align: middle;\n",
       "    }\n",
       "\n",
       "    .dataframe tbody tr th {\n",
       "        vertical-align: top;\n",
       "    }\n",
       "\n",
       "    .dataframe thead th {\n",
       "        text-align: right;\n",
       "    }\n",
       "</style>\n",
       "<table border=\"1\" class=\"dataframe\">\n",
       "  <thead>\n",
       "    <tr style=\"text-align: right;\">\n",
       "      <th></th>\n",
       "      <th>experiment_week</th>\n",
       "      <th>channel_type</th>\n",
       "      <th>num_units_sold_in_week</th>\n",
       "      <th>sales_revenue_in_week</th>\n",
       "      <th>num_units_returned</th>\n",
       "      <th>returned_units_revenue_loss</th>\n",
       "      <th>store_identifier</th>\n",
       "      <th>product_identifier</th>\n",
       "      <th>category_of_route</th>\n",
       "      <th>supplier_identifier</th>\n",
       "      <th>Demand</th>\n",
       "      <th>Gross_Revenue</th>\n",
       "      <th>Unit_price</th>\n",
       "      <th>Predicted_Demand</th>\n",
       "      <th>Error_prediction</th>\n",
       "      <th>Absolute_Error_Prediction</th>\n",
       "      <th>Revenue_Loss</th>\n",
       "    </tr>\n",
       "  </thead>\n",
       "  <tbody>\n",
       "    <tr>\n",
       "      <th>42982034</th>\n",
       "      <td>Week 5 of 2019</td>\n",
       "      <td>Warehouse Retailers</td>\n",
       "      <td>2</td>\n",
       "      <td>251.4</td>\n",
       "      <td>0</td>\n",
       "      <td>0.0</td>\n",
       "      <td>store_fc6aa</td>\n",
       "      <td>product_2b363</td>\n",
       "      <td>route_67047</td>\n",
       "      <td>supplier_identifier_055f7</td>\n",
       "      <td>2</td>\n",
       "      <td>251.4</td>\n",
       "      <td>125.70</td>\n",
       "      <td>11.01162</td>\n",
       "      <td>9.01162</td>\n",
       "      <td>9.01162</td>\n",
       "      <td>1132.760638</td>\n",
       "    </tr>\n",
       "    <tr>\n",
       "      <th>42982035</th>\n",
       "      <td>Week 5 of 2019</td>\n",
       "      <td>Warehouse Retailers</td>\n",
       "      <td>2</td>\n",
       "      <td>294.9</td>\n",
       "      <td>0</td>\n",
       "      <td>0.0</td>\n",
       "      <td>store_fc6aa</td>\n",
       "      <td>product_8de14</td>\n",
       "      <td>route_67047</td>\n",
       "      <td>supplier_identifier_055f7</td>\n",
       "      <td>2</td>\n",
       "      <td>294.9</td>\n",
       "      <td>147.45</td>\n",
       "      <td>11.01162</td>\n",
       "      <td>9.01162</td>\n",
       "      <td>9.01162</td>\n",
       "      <td>1328.763374</td>\n",
       "    </tr>\n",
       "    <tr>\n",
       "      <th>42982036</th>\n",
       "      <td>Week 5 of 2019</td>\n",
       "      <td>Warehouse Retailers</td>\n",
       "      <td>8</td>\n",
       "      <td>1005.6</td>\n",
       "      <td>0</td>\n",
       "      <td>0.0</td>\n",
       "      <td>store_fc6aa</td>\n",
       "      <td>product_1c00e</td>\n",
       "      <td>route_67047</td>\n",
       "      <td>supplier_identifier_055f7</td>\n",
       "      <td>8</td>\n",
       "      <td>1005.6</td>\n",
       "      <td>125.70</td>\n",
       "      <td>11.01162</td>\n",
       "      <td>3.01162</td>\n",
       "      <td>3.01162</td>\n",
       "      <td>378.560638</td>\n",
       "    </tr>\n",
       "    <tr>\n",
       "      <th>42982037</th>\n",
       "      <td>Week 5 of 2019</td>\n",
       "      <td>Warehouse Retailers</td>\n",
       "      <td>2</td>\n",
       "      <td>229.2</td>\n",
       "      <td>0</td>\n",
       "      <td>0.0</td>\n",
       "      <td>store_fc6aa</td>\n",
       "      <td>product_55001</td>\n",
       "      <td>route_67047</td>\n",
       "      <td>supplier_identifier_055f7</td>\n",
       "      <td>2</td>\n",
       "      <td>229.2</td>\n",
       "      <td>114.60</td>\n",
       "      <td>11.01162</td>\n",
       "      <td>9.01162</td>\n",
       "      <td>9.01162</td>\n",
       "      <td>1032.731656</td>\n",
       "    </tr>\n",
       "    <tr>\n",
       "      <th>42982038</th>\n",
       "      <td>Week 5 of 2019</td>\n",
       "      <td>Warehouse Retailers</td>\n",
       "      <td>14</td>\n",
       "      <td>1604.4</td>\n",
       "      <td>0</td>\n",
       "      <td>0.0</td>\n",
       "      <td>store_fc6aa</td>\n",
       "      <td>product_dfcaf</td>\n",
       "      <td>route_67047</td>\n",
       "      <td>supplier_identifier_055f7</td>\n",
       "      <td>14</td>\n",
       "      <td>1604.4</td>\n",
       "      <td>114.60</td>\n",
       "      <td>11.01162</td>\n",
       "      <td>-2.98838</td>\n",
       "      <td>2.98838</td>\n",
       "      <td>-342.468344</td>\n",
       "    </tr>\n",
       "  </tbody>\n",
       "</table>\n",
       "</div>"
      ],
      "text/plain": [
       "         experiment_week         channel_type  num_units_sold_in_week  \\\n",
       "42982034  Week 5 of 2019  Warehouse Retailers                       2   \n",
       "42982035  Week 5 of 2019  Warehouse Retailers                       2   \n",
       "42982036  Week 5 of 2019  Warehouse Retailers                       8   \n",
       "42982037  Week 5 of 2019  Warehouse Retailers                       2   \n",
       "42982038  Week 5 of 2019  Warehouse Retailers                      14   \n",
       "\n",
       "          sales_revenue_in_week  num_units_returned  \\\n",
       "42982034                  251.4                   0   \n",
       "42982035                  294.9                   0   \n",
       "42982036                 1005.6                   0   \n",
       "42982037                  229.2                   0   \n",
       "42982038                 1604.4                   0   \n",
       "\n",
       "          returned_units_revenue_loss store_identifier product_identifier  \\\n",
       "42982034                          0.0      store_fc6aa      product_2b363   \n",
       "42982035                          0.0      store_fc6aa      product_8de14   \n",
       "42982036                          0.0      store_fc6aa      product_1c00e   \n",
       "42982037                          0.0      store_fc6aa      product_55001   \n",
       "42982038                          0.0      store_fc6aa      product_dfcaf   \n",
       "\n",
       "         category_of_route        supplier_identifier  Demand  Gross_Revenue  \\\n",
       "42982034       route_67047  supplier_identifier_055f7       2          251.4   \n",
       "42982035       route_67047  supplier_identifier_055f7       2          294.9   \n",
       "42982036       route_67047  supplier_identifier_055f7       8         1005.6   \n",
       "42982037       route_67047  supplier_identifier_055f7       2          229.2   \n",
       "42982038       route_67047  supplier_identifier_055f7      14         1604.4   \n",
       "\n",
       "          Unit_price  Predicted_Demand  Error_prediction  \\\n",
       "42982034      125.70          11.01162           9.01162   \n",
       "42982035      147.45          11.01162           9.01162   \n",
       "42982036      125.70          11.01162           3.01162   \n",
       "42982037      114.60          11.01162           9.01162   \n",
       "42982038      114.60          11.01162          -2.98838   \n",
       "\n",
       "          Absolute_Error_Prediction  Revenue_Loss  \n",
       "42982034                    9.01162   1132.760638  \n",
       "42982035                    9.01162   1328.763374  \n",
       "42982036                    3.01162    378.560638  \n",
       "42982037                    9.01162   1032.731656  \n",
       "42982038                    2.98838   -342.468344  "
      ]
     },
     "execution_count": 290,
     "metadata": {},
     "output_type": "execute_result"
    }
   ],
   "source": [
    "testdata[\"Revenue_Loss\"]=testdata[\"Error_prediction\"]*testdata[\"Unit_price\"]\n",
    "testdata.head()"
   ]
  },
  {
   "cell_type": "code",
   "execution_count": 291,
   "metadata": {},
   "outputs": [
    {
     "name": "stderr",
     "output_type": "stream",
     "text": [
      "/Users/saketh/anaconda3/lib/python3.7/site-packages/ipykernel_launcher.py:1: SettingWithCopyWarning: \n",
      "A value is trying to be set on a copy of a slice from a DataFrame.\n",
      "Try using .loc[row_indexer,col_indexer] = value instead\n",
      "\n",
      "See the caveats in the documentation: http://pandas.pydata.org/pandas-docs/stable/indexing.html#indexing-view-versus-copy\n",
      "  \"\"\"Entry point for launching an IPython kernel.\n"
     ]
    }
   ],
   "source": [
    "testdata[\"Potential_Revenue_Loss\"]=testdata[\"Absolute_Error_Prediction\"]*testdata[\"Unit_price\"]"
   ]
  },
  {
   "cell_type": "markdown",
   "metadata": {},
   "source": [
    "## Here there is negetive Revenue Loss which means that the prediction made was less than the actual demand, although this does not cause any actual Operational Loss. This would have caused Potential Loss(The Sales that could have been captured)"
   ]
  },
  {
   "cell_type": "code",
   "execution_count": 292,
   "metadata": {},
   "outputs": [],
   "source": [
    "testdata.loc[testdata.Revenue_Loss<0,\"Revenue_Loss\"]=0"
   ]
  },
  {
   "cell_type": "code",
   "execution_count": 293,
   "metadata": {},
   "outputs": [
    {
     "data": {
      "text/html": [
       "<div>\n",
       "<style scoped>\n",
       "    .dataframe tbody tr th:only-of-type {\n",
       "        vertical-align: middle;\n",
       "    }\n",
       "\n",
       "    .dataframe tbody tr th {\n",
       "        vertical-align: top;\n",
       "    }\n",
       "\n",
       "    .dataframe thead th {\n",
       "        text-align: right;\n",
       "    }\n",
       "</style>\n",
       "<table border=\"1\" class=\"dataframe\">\n",
       "  <thead>\n",
       "    <tr style=\"text-align: right;\">\n",
       "      <th></th>\n",
       "      <th>num_units_sold_in_week</th>\n",
       "      <th>sales_revenue_in_week</th>\n",
       "      <th>num_units_returned</th>\n",
       "      <th>returned_units_revenue_loss</th>\n",
       "      <th>Demand</th>\n",
       "      <th>Gross_Revenue</th>\n",
       "      <th>Unit_price</th>\n",
       "      <th>Predicted_Demand</th>\n",
       "      <th>Error_prediction</th>\n",
       "      <th>Absolute_Error_Prediction</th>\n",
       "      <th>Revenue_Loss</th>\n",
       "      <th>Potential_Revenue_Loss</th>\n",
       "    </tr>\n",
       "  </thead>\n",
       "  <tbody>\n",
       "    <tr>\n",
       "      <th>count</th>\n",
       "      <td>1.038285e+07</td>\n",
       "      <td>1.038285e+07</td>\n",
       "      <td>1.038285e+07</td>\n",
       "      <td>1.038285e+07</td>\n",
       "      <td>1.038285e+07</td>\n",
       "      <td>1.038285e+07</td>\n",
       "      <td>1.038285e+07</td>\n",
       "      <td>1.038285e+07</td>\n",
       "      <td>1.038285e+07</td>\n",
       "      <td>1.038285e+07</td>\n",
       "      <td>1.038285e+07</td>\n",
       "      <td>1.038285e+07</td>\n",
       "    </tr>\n",
       "    <tr>\n",
       "      <th>mean</th>\n",
       "      <td>7.468859e+00</td>\n",
       "      <td>1.042579e+03</td>\n",
       "      <td>1.365184e-01</td>\n",
       "      <td>1.318890e+00</td>\n",
       "      <td>7.332341e+00</td>\n",
       "      <td>1.041260e+03</td>\n",
       "      <td>1.510941e+02</td>\n",
       "      <td>7.198844e+00</td>\n",
       "      <td>-1.334966e-01</td>\n",
       "      <td>5.239718e+00</td>\n",
       "      <td>4.205535e+02</td>\n",
       "      <td>7.878955e+02</td>\n",
       "    </tr>\n",
       "    <tr>\n",
       "      <th>std</th>\n",
       "      <td>2.195329e+01</td>\n",
       "      <td>5.063838e+03</td>\n",
       "      <td>2.897295e+00</td>\n",
       "      <td>2.479935e+01</td>\n",
       "      <td>2.194799e+01</td>\n",
       "      <td>5.061882e+03</td>\n",
       "      <td>9.070333e+01</td>\n",
       "      <td>1.217118e+01</td>\n",
       "      <td>1.865340e+01</td>\n",
       "      <td>1.790286e+01</td>\n",
       "      <td>1.489591e+03</td>\n",
       "      <td>4.016567e+03</td>\n",
       "    </tr>\n",
       "    <tr>\n",
       "      <th>min</th>\n",
       "      <td>0.000000e+00</td>\n",
       "      <td>0.000000e+00</td>\n",
       "      <td>0.000000e+00</td>\n",
       "      <td>0.000000e+00</td>\n",
       "      <td>-2.800000e+03</td>\n",
       "      <td>-2.661120e+04</td>\n",
       "      <td>1.500000e-01</td>\n",
       "      <td>-3.933333e+01</td>\n",
       "      <td>-4.959553e+03</td>\n",
       "      <td>0.000000e+00</td>\n",
       "      <td>0.000000e+00</td>\n",
       "      <td>0.000000e+00</td>\n",
       "    </tr>\n",
       "    <tr>\n",
       "      <th>25%</th>\n",
       "      <td>2.000000e+00</td>\n",
       "      <td>2.514000e+02</td>\n",
       "      <td>0.000000e+00</td>\n",
       "      <td>0.000000e+00</td>\n",
       "      <td>2.000000e+00</td>\n",
       "      <td>2.514000e+02</td>\n",
       "      <td>1.014000e+02</td>\n",
       "      <td>3.297206e+00</td>\n",
       "      <td>-1.043928e+00</td>\n",
       "      <td>1.297206e+00</td>\n",
       "      <td>0.000000e+00</td>\n",
       "      <td>1.566204e+02</td>\n",
       "    </tr>\n",
       "    <tr>\n",
       "      <th>50%</th>\n",
       "      <td>3.000000e+00</td>\n",
       "      <td>4.500000e+02</td>\n",
       "      <td>0.000000e+00</td>\n",
       "      <td>0.000000e+00</td>\n",
       "      <td>3.000000e+00</td>\n",
       "      <td>4.500000e+02</td>\n",
       "      <td>1.257000e+02</td>\n",
       "      <td>4.759915e+00</td>\n",
       "      <td>1.297206e+00</td>\n",
       "      <td>2.498685e+00</td>\n",
       "      <td>1.686020e+02</td>\n",
       "      <td>3.374289e+02</td>\n",
       "    </tr>\n",
       "    <tr>\n",
       "      <th>75%</th>\n",
       "      <td>7.000000e+00</td>\n",
       "      <td>8.557500e+02</td>\n",
       "      <td>0.000000e+00</td>\n",
       "      <td>0.000000e+00</td>\n",
       "      <td>7.000000e+00</td>\n",
       "      <td>8.556000e+02</td>\n",
       "      <td>1.986000e+02</td>\n",
       "      <td>6.498685e+00</td>\n",
       "      <td>2.759915e+00</td>\n",
       "      <td>4.813142e+00</td>\n",
       "      <td>4.425524e+02</td>\n",
       "      <td>6.787580e+02</td>\n",
       "    </tr>\n",
       "    <tr>\n",
       "      <th>max</th>\n",
       "      <td>4.983000e+03</td>\n",
       "      <td>5.740416e+06</td>\n",
       "      <td>2.800000e+03</td>\n",
       "      <td>2.661120e+04</td>\n",
       "      <td>4.983000e+03</td>\n",
       "      <td>5.740416e+06</td>\n",
       "      <td>9.710400e+03</td>\n",
       "      <td>1.907000e+03</td>\n",
       "      <td>2.823447e+03</td>\n",
       "      <td>4.959553e+03</td>\n",
       "      <td>6.774326e+05</td>\n",
       "      <td>5.411538e+06</td>\n",
       "    </tr>\n",
       "  </tbody>\n",
       "</table>\n",
       "</div>"
      ],
      "text/plain": [
       "       num_units_sold_in_week  sales_revenue_in_week  num_units_returned  \\\n",
       "count            1.038285e+07           1.038285e+07        1.038285e+07   \n",
       "mean             7.468859e+00           1.042579e+03        1.365184e-01   \n",
       "std              2.195329e+01           5.063838e+03        2.897295e+00   \n",
       "min              0.000000e+00           0.000000e+00        0.000000e+00   \n",
       "25%              2.000000e+00           2.514000e+02        0.000000e+00   \n",
       "50%              3.000000e+00           4.500000e+02        0.000000e+00   \n",
       "75%              7.000000e+00           8.557500e+02        0.000000e+00   \n",
       "max              4.983000e+03           5.740416e+06        2.800000e+03   \n",
       "\n",
       "       returned_units_revenue_loss        Demand  Gross_Revenue    Unit_price  \\\n",
       "count                 1.038285e+07  1.038285e+07   1.038285e+07  1.038285e+07   \n",
       "mean                  1.318890e+00  7.332341e+00   1.041260e+03  1.510941e+02   \n",
       "std                   2.479935e+01  2.194799e+01   5.061882e+03  9.070333e+01   \n",
       "min                   0.000000e+00 -2.800000e+03  -2.661120e+04  1.500000e-01   \n",
       "25%                   0.000000e+00  2.000000e+00   2.514000e+02  1.014000e+02   \n",
       "50%                   0.000000e+00  3.000000e+00   4.500000e+02  1.257000e+02   \n",
       "75%                   0.000000e+00  7.000000e+00   8.556000e+02  1.986000e+02   \n",
       "max                   2.661120e+04  4.983000e+03   5.740416e+06  9.710400e+03   \n",
       "\n",
       "       Predicted_Demand  Error_prediction  Absolute_Error_Prediction  \\\n",
       "count      1.038285e+07      1.038285e+07               1.038285e+07   \n",
       "mean       7.198844e+00     -1.334966e-01               5.239718e+00   \n",
       "std        1.217118e+01      1.865340e+01               1.790286e+01   \n",
       "min       -3.933333e+01     -4.959553e+03               0.000000e+00   \n",
       "25%        3.297206e+00     -1.043928e+00               1.297206e+00   \n",
       "50%        4.759915e+00      1.297206e+00               2.498685e+00   \n",
       "75%        6.498685e+00      2.759915e+00               4.813142e+00   \n",
       "max        1.907000e+03      2.823447e+03               4.959553e+03   \n",
       "\n",
       "       Revenue_Loss  Potential_Revenue_Loss  \n",
       "count  1.038285e+07            1.038285e+07  \n",
       "mean   4.205535e+02            7.878955e+02  \n",
       "std    1.489591e+03            4.016567e+03  \n",
       "min    0.000000e+00            0.000000e+00  \n",
       "25%    0.000000e+00            1.566204e+02  \n",
       "50%    1.686020e+02            3.374289e+02  \n",
       "75%    4.425524e+02            6.787580e+02  \n",
       "max    6.774326e+05            5.411538e+06  "
      ]
     },
     "execution_count": 293,
     "metadata": {},
     "output_type": "execute_result"
    }
   ],
   "source": [
    "testdata.describe()"
   ]
  },
  {
   "cell_type": "code",
   "execution_count": 294,
   "metadata": {},
   "outputs": [
    {
     "data": {
      "text/plain": [
       "experiment_week                0\n",
       "channel_type                   0\n",
       "num_units_sold_in_week         0\n",
       "sales_revenue_in_week          0\n",
       "num_units_returned             0\n",
       "returned_units_revenue_loss    0\n",
       "store_identifier               0\n",
       "product_identifier             0\n",
       "category_of_route              0\n",
       "supplier_identifier            0\n",
       "Demand                         0\n",
       "Gross_Revenue                  0\n",
       "Unit_price                     0\n",
       "Predicted_Demand               0\n",
       "Error_prediction               0\n",
       "Absolute_Error_Prediction      0\n",
       "Revenue_Loss                   0\n",
       "Potential_Revenue_Loss         0\n",
       "dtype: int64"
      ]
     },
     "execution_count": 294,
     "metadata": {},
     "output_type": "execute_result"
    }
   ],
   "source": [
    "testdata.isnull().sum()"
   ]
  },
  {
   "cell_type": "code",
   "execution_count": 295,
   "metadata": {},
   "outputs": [
    {
     "data": {
      "text/plain": [
       "<matplotlib.axes._subplots.AxesSubplot at 0x11d975160>"
      ]
     },
     "execution_count": 295,
     "metadata": {},
     "output_type": "execute_result"
    },
    {
     "data": {
      "image/png": "[encoded data removed]",
      "text/plain": [
       "<Figure size 432x288 with 1 Axes>"
      ]
     },
     "metadata": {
      "needs_background": "light"
     },
     "output_type": "display_data"
    }
   ],
   "source": [
    "sns.distplot(testdata.Revenue_Loss)"
   ]
  },
  {
   "cell_type": "code",
   "execution_count": 296,
   "metadata": {},
   "outputs": [
    {
     "data": {
      "text/plain": [
       "<matplotlib.axes._subplots.AxesSubplot at 0x11e261048>"
      ]
     },
     "execution_count": 296,
     "metadata": {},
     "output_type": "execute_result"
    },
    {
     "data": {
      "image/png": "[encoded data removed]",
      "text/plain": [
       "<Figure size 432x288 with 1 Axes>"
      ]
     },
     "metadata": {
      "needs_background": "light"
     },
     "output_type": "display_data"
    }
   ],
   "source": [
    "sns.distplot(testdata.Potential_Revenue_Loss)"
   ]
  },
  {
   "cell_type": "code",
   "execution_count": 297,
   "metadata": {},
   "outputs": [
    {
     "data": {
      "text/plain": [
       "4366543218.466204"
      ]
     },
     "execution_count": 297,
     "metadata": {},
     "output_type": "execute_result"
    }
   ],
   "source": [
    "#Total Revenue Loss/ Operational Loss for the company\n",
    "testdata.Revenue_Loss.sum()"
   ]
  },
  {
   "cell_type": "code",
   "execution_count": 298,
   "metadata": {},
   "outputs": [
    {
     "data": {
      "text/plain": [
       "8180599703.072537"
      ]
     },
     "execution_count": 298,
     "metadata": {},
     "output_type": "execute_result"
    }
   ],
   "source": [
    "#Total Potential Loss for the company, Demand trends that have not been captured\n",
    "testdata.Potential_Revenue_Loss.sum()"
   ]
  },
  {
   "cell_type": "markdown",
   "metadata": {},
   "source": [
    "## The above Model would cause about 436 Crores of Revenue Loss "
   ]
  },
  {
   "cell_type": "markdown",
   "metadata": {},
   "source": [
    "## Test Data"
   ]
  },
  {
   "cell_type": "code",
   "execution_count": 131,
   "metadata": {},
   "outputs": [
    {
     "data": {
      "text/html": [
       "<div>\n",
       "<style scoped>\n",
       "    .dataframe tbody tr th:only-of-type {\n",
       "        vertical-align: middle;\n",
       "    }\n",
       "\n",
       "    .dataframe tbody tr th {\n",
       "        vertical-align: top;\n",
       "    }\n",
       "\n",
       "    .dataframe thead th {\n",
       "        text-align: right;\n",
       "    }\n",
       "</style>\n",
       "<table border=\"1\" class=\"dataframe\">\n",
       "  <thead>\n",
       "    <tr style=\"text-align: right;\">\n",
       "      <th></th>\n",
       "      <th>id</th>\n",
       "      <th>experiment_week</th>\n",
       "      <th>channel_type</th>\n",
       "      <th>supplier_identifier</th>\n",
       "      <th>category_of_route</th>\n",
       "      <th>store_identifier</th>\n",
       "      <th>product_identifier</th>\n",
       "    </tr>\n",
       "  </thead>\n",
       "  <tbody>\n",
       "    <tr>\n",
       "      <th>0</th>\n",
       "      <td>1</td>\n",
       "      <td>Week 6 of 2019</td>\n",
       "      <td>Warehouse Retailers</td>\n",
       "      <td>supplier_identifier_055f7</td>\n",
       "      <td>route_67047</td>\n",
       "      <td>store_fc6aa</td>\n",
       "      <td>product_cbfad</td>\n",
       "    </tr>\n",
       "    <tr>\n",
       "      <th>1</th>\n",
       "      <td>2</td>\n",
       "      <td>Week 6 of 2019</td>\n",
       "      <td>Warehouse Retailers</td>\n",
       "      <td>supplier_identifier_055f7</td>\n",
       "      <td>route_67047</td>\n",
       "      <td>store_fc6aa</td>\n",
       "      <td>product_2b363</td>\n",
       "    </tr>\n",
       "    <tr>\n",
       "      <th>2</th>\n",
       "      <td>3</td>\n",
       "      <td>Week 6 of 2019</td>\n",
       "      <td>Warehouse Retailers</td>\n",
       "      <td>supplier_identifier_055f7</td>\n",
       "      <td>route_67047</td>\n",
       "      <td>store_fc6aa</td>\n",
       "      <td>product_f79b8</td>\n",
       "    </tr>\n",
       "    <tr>\n",
       "      <th>3</th>\n",
       "      <td>4</td>\n",
       "      <td>Week 6 of 2019</td>\n",
       "      <td>Warehouse Retailers</td>\n",
       "      <td>supplier_identifier_055f7</td>\n",
       "      <td>route_67047</td>\n",
       "      <td>store_fc6aa</td>\n",
       "      <td>product_8de14</td>\n",
       "    </tr>\n",
       "    <tr>\n",
       "      <th>4</th>\n",
       "      <td>5</td>\n",
       "      <td>Week 6 of 2019</td>\n",
       "      <td>Warehouse Retailers</td>\n",
       "      <td>supplier_identifier_055f7</td>\n",
       "      <td>route_67047</td>\n",
       "      <td>store_fc6aa</td>\n",
       "      <td>product_1c00e</td>\n",
       "    </tr>\n",
       "  </tbody>\n",
       "</table>\n",
       "</div>"
      ],
      "text/plain": [
       "   id experiment_week         channel_type        supplier_identifier  \\\n",
       "0   1  Week 6 of 2019  Warehouse Retailers  supplier_identifier_055f7   \n",
       "1   2  Week 6 of 2019  Warehouse Retailers  supplier_identifier_055f7   \n",
       "2   3  Week 6 of 2019  Warehouse Retailers  supplier_identifier_055f7   \n",
       "3   4  Week 6 of 2019  Warehouse Retailers  supplier_identifier_055f7   \n",
       "4   5  Week 6 of 2019  Warehouse Retailers  supplier_identifier_055f7   \n",
       "\n",
       "  category_of_route store_identifier product_identifier  \n",
       "0       route_67047      store_fc6aa      product_cbfad  \n",
       "1       route_67047      store_fc6aa      product_2b363  \n",
       "2       route_67047      store_fc6aa      product_f79b8  \n",
       "3       route_67047      store_fc6aa      product_8de14  \n",
       "4       route_67047      store_fc6aa      product_1c00e  "
      ]
     },
     "execution_count": 131,
     "metadata": {},
     "output_type": "execute_result"
    }
   ],
   "source": [
    "#Reading the Test Data\n",
    "testdata=pd.read_csv(\"test.csv\")\n",
    "testdata.head()\n"
   ]
  },
  {
   "cell_type": "code",
   "execution_count": 132,
   "metadata": {},
   "outputs": [
    {
     "data": {
      "text/html": [
       "<div>\n",
       "<style scoped>\n",
       "    .dataframe tbody tr th:only-of-type {\n",
       "        vertical-align: middle;\n",
       "    }\n",
       "\n",
       "    .dataframe tbody tr th {\n",
       "        vertical-align: top;\n",
       "    }\n",
       "\n",
       "    .dataframe thead th {\n",
       "        text-align: right;\n",
       "    }\n",
       "</style>\n",
       "<table border=\"1\" class=\"dataframe\">\n",
       "  <thead>\n",
       "    <tr style=\"text-align: right;\">\n",
       "      <th></th>\n",
       "      <th>id</th>\n",
       "      <th>experiment_week</th>\n",
       "      <th>channel_type</th>\n",
       "      <th>supplier_identifier</th>\n",
       "      <th>category_of_route</th>\n",
       "      <th>store_identifier</th>\n",
       "      <th>product_identifier</th>\n",
       "    </tr>\n",
       "  </thead>\n",
       "  <tbody>\n",
       "    <tr>\n",
       "      <th>0</th>\n",
       "      <td>1</td>\n",
       "      <td>Week 6 of 2019</td>\n",
       "      <td>Warehouse Retailers</td>\n",
       "      <td>supplier_identifier_055f7</td>\n",
       "      <td>route_67047</td>\n",
       "      <td>store_fc6aa</td>\n",
       "      <td>product_cbfad</td>\n",
       "    </tr>\n",
       "    <tr>\n",
       "      <th>1</th>\n",
       "      <td>2</td>\n",
       "      <td>Week 6 of 2019</td>\n",
       "      <td>Warehouse Retailers</td>\n",
       "      <td>supplier_identifier_055f7</td>\n",
       "      <td>route_67047</td>\n",
       "      <td>store_fc6aa</td>\n",
       "      <td>product_2b363</td>\n",
       "    </tr>\n",
       "    <tr>\n",
       "      <th>2</th>\n",
       "      <td>3</td>\n",
       "      <td>Week 6 of 2019</td>\n",
       "      <td>Warehouse Retailers</td>\n",
       "      <td>supplier_identifier_055f7</td>\n",
       "      <td>route_67047</td>\n",
       "      <td>store_fc6aa</td>\n",
       "      <td>product_f79b8</td>\n",
       "    </tr>\n",
       "    <tr>\n",
       "      <th>3</th>\n",
       "      <td>4</td>\n",
       "      <td>Week 6 of 2019</td>\n",
       "      <td>Warehouse Retailers</td>\n",
       "      <td>supplier_identifier_055f7</td>\n",
       "      <td>route_67047</td>\n",
       "      <td>store_fc6aa</td>\n",
       "      <td>product_8de14</td>\n",
       "    </tr>\n",
       "    <tr>\n",
       "      <th>4</th>\n",
       "      <td>5</td>\n",
       "      <td>Week 6 of 2019</td>\n",
       "      <td>Warehouse Retailers</td>\n",
       "      <td>supplier_identifier_055f7</td>\n",
       "      <td>route_67047</td>\n",
       "      <td>store_fc6aa</td>\n",
       "      <td>product_1c00e</td>\n",
       "    </tr>\n",
       "  </tbody>\n",
       "</table>\n",
       "</div>"
      ],
      "text/plain": [
       "   id experiment_week         channel_type        supplier_identifier  \\\n",
       "0   1  Week 6 of 2019  Warehouse Retailers  supplier_identifier_055f7   \n",
       "1   2  Week 6 of 2019  Warehouse Retailers  supplier_identifier_055f7   \n",
       "2   3  Week 6 of 2019  Warehouse Retailers  supplier_identifier_055f7   \n",
       "3   4  Week 6 of 2019  Warehouse Retailers  supplier_identifier_055f7   \n",
       "4   5  Week 6 of 2019  Warehouse Retailers  supplier_identifier_055f7   \n",
       "\n",
       "  category_of_route store_identifier product_identifier  \n",
       "0       route_67047      store_fc6aa      product_cbfad  \n",
       "1       route_67047      store_fc6aa      product_2b363  \n",
       "2       route_67047      store_fc6aa      product_f79b8  \n",
       "3       route_67047      store_fc6aa      product_8de14  \n",
       "4       route_67047      store_fc6aa      product_1c00e  "
      ]
     },
     "execution_count": 132,
     "metadata": {},
     "output_type": "execute_result"
    }
   ],
   "source": [
    "testdata.head()"
   ]
  },
  {
   "cell_type": "code",
   "execution_count": 133,
   "metadata": {},
   "outputs": [
    {
     "data": {
      "text/html": [
       "<div>\n",
       "<style scoped>\n",
       "    .dataframe tbody tr th:only-of-type {\n",
       "        vertical-align: middle;\n",
       "    }\n",
       "\n",
       "    .dataframe tbody tr th {\n",
       "        vertical-align: top;\n",
       "    }\n",
       "\n",
       "    .dataframe thead th {\n",
       "        text-align: right;\n",
       "    }\n",
       "</style>\n",
       "<table border=\"1\" class=\"dataframe\">\n",
       "  <thead>\n",
       "    <tr style=\"text-align: right;\">\n",
       "      <th></th>\n",
       "      <th>id</th>\n",
       "      <th>experiment_week</th>\n",
       "      <th>channel_type</th>\n",
       "      <th>supplier_identifier</th>\n",
       "      <th>category_of_route</th>\n",
       "      <th>store_identifier</th>\n",
       "      <th>product_identifier</th>\n",
       "      <th>suppiden_cluster</th>\n",
       "      <th>cateofrt_cluster</th>\n",
       "      <th>storiden_cluster</th>\n",
       "      <th>prodiden_cluster</th>\n",
       "    </tr>\n",
       "  </thead>\n",
       "  <tbody>\n",
       "    <tr>\n",
       "      <th>0</th>\n",
       "      <td>1</td>\n",
       "      <td>Week 6 of 2019</td>\n",
       "      <td>Warehouse Retailers</td>\n",
       "      <td>supplier_identifier_055f7</td>\n",
       "      <td>route_67047</td>\n",
       "      <td>store_fc6aa</td>\n",
       "      <td>product_cbfad</td>\n",
       "      <td>0</td>\n",
       "      <td>6.0</td>\n",
       "      <td>0.0</td>\n",
       "      <td>2.0</td>\n",
       "    </tr>\n",
       "    <tr>\n",
       "      <th>1</th>\n",
       "      <td>2</td>\n",
       "      <td>Week 6 of 2019</td>\n",
       "      <td>Warehouse Retailers</td>\n",
       "      <td>supplier_identifier_055f7</td>\n",
       "      <td>route_67047</td>\n",
       "      <td>store_fc6aa</td>\n",
       "      <td>product_2b363</td>\n",
       "      <td>0</td>\n",
       "      <td>6.0</td>\n",
       "      <td>0.0</td>\n",
       "      <td>2.0</td>\n",
       "    </tr>\n",
       "    <tr>\n",
       "      <th>2</th>\n",
       "      <td>3</td>\n",
       "      <td>Week 6 of 2019</td>\n",
       "      <td>Warehouse Retailers</td>\n",
       "      <td>supplier_identifier_055f7</td>\n",
       "      <td>route_67047</td>\n",
       "      <td>store_fc6aa</td>\n",
       "      <td>product_f79b8</td>\n",
       "      <td>0</td>\n",
       "      <td>6.0</td>\n",
       "      <td>0.0</td>\n",
       "      <td>3.0</td>\n",
       "    </tr>\n",
       "    <tr>\n",
       "      <th>3</th>\n",
       "      <td>4</td>\n",
       "      <td>Week 6 of 2019</td>\n",
       "      <td>Warehouse Retailers</td>\n",
       "      <td>supplier_identifier_055f7</td>\n",
       "      <td>route_67047</td>\n",
       "      <td>store_fc6aa</td>\n",
       "      <td>product_8de14</td>\n",
       "      <td>0</td>\n",
       "      <td>6.0</td>\n",
       "      <td>0.0</td>\n",
       "      <td>2.0</td>\n",
       "    </tr>\n",
       "    <tr>\n",
       "      <th>4</th>\n",
       "      <td>5</td>\n",
       "      <td>Week 6 of 2019</td>\n",
       "      <td>Warehouse Retailers</td>\n",
       "      <td>supplier_identifier_055f7</td>\n",
       "      <td>route_67047</td>\n",
       "      <td>store_fc6aa</td>\n",
       "      <td>product_1c00e</td>\n",
       "      <td>0</td>\n",
       "      <td>6.0</td>\n",
       "      <td>0.0</td>\n",
       "      <td>1.0</td>\n",
       "    </tr>\n",
       "  </tbody>\n",
       "</table>\n",
       "</div>"
      ],
      "text/plain": [
       "   id experiment_week         channel_type        supplier_identifier  \\\n",
       "0   1  Week 6 of 2019  Warehouse Retailers  supplier_identifier_055f7   \n",
       "1   2  Week 6 of 2019  Warehouse Retailers  supplier_identifier_055f7   \n",
       "2   3  Week 6 of 2019  Warehouse Retailers  supplier_identifier_055f7   \n",
       "3   4  Week 6 of 2019  Warehouse Retailers  supplier_identifier_055f7   \n",
       "4   5  Week 6 of 2019  Warehouse Retailers  supplier_identifier_055f7   \n",
       "\n",
       "  category_of_route store_identifier product_identifier  suppiden_cluster  \\\n",
       "0       route_67047      store_fc6aa      product_cbfad                 0   \n",
       "1       route_67047      store_fc6aa      product_2b363                 0   \n",
       "2       route_67047      store_fc6aa      product_f79b8                 0   \n",
       "3       route_67047      store_fc6aa      product_8de14                 0   \n",
       "4       route_67047      store_fc6aa      product_1c00e                 0   \n",
       "\n",
       "   cateofrt_cluster  storiden_cluster  prodiden_cluster  \n",
       "0               6.0               0.0               2.0  \n",
       "1               6.0               0.0               2.0  \n",
       "2               6.0               0.0               3.0  \n",
       "3               6.0               0.0               2.0  \n",
       "4               6.0               0.0               1.0  "
      ]
     },
     "execution_count": 133,
     "metadata": {},
     "output_type": "execute_result"
    }
   ],
   "source": [
    "#merging the Test data with already available Clusters Data \n",
    "testdata=pd.merge(testdata,suppidenstan,left_on=\"supplier_identifier\",right_on=\"supplier_identifier\",how=\"left\")\n",
    "testdata.drop([\"1\",\"2\"],axis=1,inplace=True)\n",
    "testdata=pd.merge(testdata,cateofrtstan,left_on=\"category_of_route\",right_on=\"category_of_route\",how=\"left\")\n",
    "testdata.drop([\"1\",\"2\"],axis=1,inplace=True)\n",
    "testdata=pd.merge(testdata,storidenstan,left_on=\"store_identifier\",right_on=\"store_identifier\",how=\"left\")\n",
    "testdata.drop([\"1\",\"2\"],axis=1,inplace=True)\n",
    "testdata=pd.merge(testdata,prodidenstan,left_on=\"product_identifier\",right_on=\"product_identifier\",how=\"left\")\n",
    "testdata.drop([\"1\",\"2\"],axis=1,inplace=True)\n",
    "testdata.head()"
   ]
  },
  {
   "cell_type": "code",
   "execution_count": 134,
   "metadata": {},
   "outputs": [
    {
     "data": {
      "text/plain": [
       "id                          0\n",
       "experiment_week             0\n",
       "channel_type                0\n",
       "supplier_identifier         0\n",
       "category_of_route           0\n",
       "store_identifier            0\n",
       "product_identifier          0\n",
       "suppiden_cluster            0\n",
       "cateofrt_cluster         5501\n",
       "storiden_cluster        84107\n",
       "prodiden_cluster       392421\n",
       "dtype: int64"
      ]
     },
     "execution_count": 134,
     "metadata": {},
     "output_type": "execute_result"
    }
   ],
   "source": [
    "#checking For Null Values\n",
    "testdata.isnull().sum()"
   ]
  },
  {
   "cell_type": "code",
   "execution_count": 135,
   "metadata": {},
   "outputs": [],
   "source": [
    "# Assigning One to Cluster Values which have null values which we will later drop\n",
    "testdata.loc[testdata.cateofrt_cluster.isnull(),\"cateofrt_cluster\"]=-1\n",
    "testdata.loc[testdata.storiden_cluster.isnull(),\"storiden_cluster\"]=-1\n",
    "testdata.loc[testdata.prodiden_cluster.isnull(),\"prodiden_cluster\"]=-1"
   ]
  },
  {
   "cell_type": "code",
   "execution_count": 136,
   "metadata": {},
   "outputs": [
    {
     "data": {
      "text/plain": [
       "id                     0\n",
       "experiment_week        0\n",
       "channel_type           0\n",
       "supplier_identifier    0\n",
       "category_of_route      0\n",
       "store_identifier       0\n",
       "product_identifier     0\n",
       "suppiden_cluster       0\n",
       "cateofrt_cluster       0\n",
       "storiden_cluster       0\n",
       "prodiden_cluster       0\n",
       "dtype: int64"
      ]
     },
     "execution_count": 136,
     "metadata": {},
     "output_type": "execute_result"
    }
   ],
   "source": [
    "testdata.isnull().sum()"
   ]
  },
  {
   "cell_type": "code",
   "execution_count": 137,
   "metadata": {},
   "outputs": [
    {
     "data": {
      "text/plain": [
       "channel_type        category\n",
       "suppiden_cluster    category\n",
       "cateofrt_cluster    category\n",
       "storiden_cluster    category\n",
       "prodiden_cluster    category\n",
       "dtype: object"
      ]
     },
     "execution_count": 137,
     "metadata": {},
     "output_type": "execute_result"
    }
   ],
   "source": [
    "# Dropping \"id\",\"experiment_week\",'supplier_identifier','category_of_route', 'store_identifier', 'product_identifier'\n",
    "\n",
    "\n",
    "\n",
    "X_test=testdata.drop([\"id\",\"experiment_week\",'supplier_identifier','category_of_route', 'store_identifier', 'product_identifier'], axis=1)\n",
    "\n",
    "#Type Conversions\n",
    "for i in X_test.columns:\n",
    "    X_test[i]=X_test[i].astype(\"category\")\n",
    "X_test.dtypes"
   ]
  },
  {
   "cell_type": "code",
   "execution_count": 138,
   "metadata": {},
   "outputs": [],
   "source": [
    "#Dummyfication\n",
    "X_test=pd.get_dummies(X_test)\n",
    "\n",
    "\n",
    "#Dropping the new columns \n",
    "X_test.drop([\"storiden_cluster_-1.0\",\"cateofrt_cluster_-1.0\",\"prodiden_cluster_-1.0\"],axis=1,inplace=True)"
   ]
  },
  {
   "cell_type": "code",
   "execution_count": null,
   "metadata": {},
   "outputs": [],
   "source": []
  },
  {
   "cell_type": "code",
   "execution_count": 139,
   "metadata": {},
   "outputs": [
    {
     "data": {
      "text/plain": [
       "array([ 36.        ,  36.        ,  38.62068966, ...,  80.        ,\n",
       "       103.625     ,  10.        ])"
      ]
     },
     "execution_count": 139,
     "metadata": {},
     "output_type": "execute_result"
    }
   ],
   "source": [
    "#Predicting From the Test Data\n",
    "predictedtest=CV_DT.predict(X_test)\n",
    "predictedtest"
   ]
  },
  {
   "cell_type": "code",
   "execution_count": 140,
   "metadata": {},
   "outputs": [
    {
     "data": {
      "text/plain": [
       "array([ 36.,  36.,  39., ...,  80., 104.,  10.])"
      ]
     },
     "execution_count": 140,
     "metadata": {},
     "output_type": "execute_result"
    }
   ],
   "source": [
    "#Rounding Off Predications to nearest value\n",
    "np.round(predictedtest)"
   ]
  },
  {
   "cell_type": "code",
   "execution_count": 143,
   "metadata": {},
   "outputs": [
    {
     "data": {
      "text/html": [
       "<div>\n",
       "<style scoped>\n",
       "    .dataframe tbody tr th:only-of-type {\n",
       "        vertical-align: middle;\n",
       "    }\n",
       "\n",
       "    .dataframe tbody tr th {\n",
       "        vertical-align: top;\n",
       "    }\n",
       "\n",
       "    .dataframe thead th {\n",
       "        text-align: right;\n",
       "    }\n",
       "</style>\n",
       "<table border=\"1\" class=\"dataframe\">\n",
       "  <thead>\n",
       "    <tr style=\"text-align: right;\">\n",
       "      <th></th>\n",
       "      <th>0</th>\n",
       "    </tr>\n",
       "  </thead>\n",
       "  <tbody>\n",
       "    <tr>\n",
       "      <th>0</th>\n",
       "      <td>36.0</td>\n",
       "    </tr>\n",
       "    <tr>\n",
       "      <th>1</th>\n",
       "      <td>36.0</td>\n",
       "    </tr>\n",
       "    <tr>\n",
       "      <th>2</th>\n",
       "      <td>39.0</td>\n",
       "    </tr>\n",
       "    <tr>\n",
       "      <th>3</th>\n",
       "      <td>36.0</td>\n",
       "    </tr>\n",
       "    <tr>\n",
       "      <th>4</th>\n",
       "      <td>7.0</td>\n",
       "    </tr>\n",
       "  </tbody>\n",
       "</table>\n",
       "</div>"
      ],
      "text/plain": [
       "      0\n",
       "0  36.0\n",
       "1  36.0\n",
       "2  39.0\n",
       "3  36.0\n",
       "4   7.0"
      ]
     },
     "execution_count": 143,
     "metadata": {},
     "output_type": "execute_result"
    }
   ],
   "source": [
    "\n",
    "final=pd.DataFrame(np.round(predictedtest))\n",
    "final.head()"
   ]
  },
  {
   "cell_type": "code",
   "execution_count": 144,
   "metadata": {},
   "outputs": [
    {
     "data": {
      "text/html": [
       "<div>\n",
       "<style scoped>\n",
       "    .dataframe tbody tr th:only-of-type {\n",
       "        vertical-align: middle;\n",
       "    }\n",
       "\n",
       "    .dataframe tbody tr th {\n",
       "        vertical-align: top;\n",
       "    }\n",
       "\n",
       "    .dataframe thead th {\n",
       "        text-align: right;\n",
       "    }\n",
       "</style>\n",
       "<table border=\"1\" class=\"dataframe\">\n",
       "  <thead>\n",
       "    <tr style=\"text-align: right;\">\n",
       "      <th></th>\n",
       "      <th>0</th>\n",
       "      <th>id</th>\n",
       "    </tr>\n",
       "  </thead>\n",
       "  <tbody>\n",
       "    <tr>\n",
       "      <th>0</th>\n",
       "      <td>36.0</td>\n",
       "      <td>1</td>\n",
       "    </tr>\n",
       "    <tr>\n",
       "      <th>1</th>\n",
       "      <td>36.0</td>\n",
       "      <td>2</td>\n",
       "    </tr>\n",
       "    <tr>\n",
       "      <th>2</th>\n",
       "      <td>39.0</td>\n",
       "      <td>3</td>\n",
       "    </tr>\n",
       "    <tr>\n",
       "      <th>3</th>\n",
       "      <td>36.0</td>\n",
       "      <td>4</td>\n",
       "    </tr>\n",
       "    <tr>\n",
       "      <th>4</th>\n",
       "      <td>7.0</td>\n",
       "      <td>5</td>\n",
       "    </tr>\n",
       "  </tbody>\n",
       "</table>\n",
       "</div>"
      ],
      "text/plain": [
       "      0  id\n",
       "0  36.0   1\n",
       "1  36.0   2\n",
       "2  39.0   3\n",
       "3  36.0   4\n",
       "4   7.0   5"
      ]
     },
     "execution_count": 144,
     "metadata": {},
     "output_type": "execute_result"
    }
   ],
   "source": [
    "final[\"id\"]=testdata.id\n",
    "final.head()"
   ]
  },
  {
   "cell_type": "code",
   "execution_count": 145,
   "metadata": {},
   "outputs": [
    {
     "data": {
      "text/html": [
       "<div>\n",
       "<style scoped>\n",
       "    .dataframe tbody tr th:only-of-type {\n",
       "        vertical-align: middle;\n",
       "    }\n",
       "\n",
       "    .dataframe tbody tr th {\n",
       "        vertical-align: top;\n",
       "    }\n",
       "\n",
       "    .dataframe thead th {\n",
       "        text-align: right;\n",
       "    }\n",
       "</style>\n",
       "<table border=\"1\" class=\"dataframe\">\n",
       "  <thead>\n",
       "    <tr style=\"text-align: right;\">\n",
       "      <th></th>\n",
       "      <th>id</th>\n",
       "      <th>0</th>\n",
       "    </tr>\n",
       "  </thead>\n",
       "  <tbody>\n",
       "    <tr>\n",
       "      <th>0</th>\n",
       "      <td>1</td>\n",
       "      <td>36.0</td>\n",
       "    </tr>\n",
       "    <tr>\n",
       "      <th>1</th>\n",
       "      <td>2</td>\n",
       "      <td>36.0</td>\n",
       "    </tr>\n",
       "    <tr>\n",
       "      <th>2</th>\n",
       "      <td>3</td>\n",
       "      <td>39.0</td>\n",
       "    </tr>\n",
       "    <tr>\n",
       "      <th>3</th>\n",
       "      <td>4</td>\n",
       "      <td>36.0</td>\n",
       "    </tr>\n",
       "    <tr>\n",
       "      <th>4</th>\n",
       "      <td>5</td>\n",
       "      <td>7.0</td>\n",
       "    </tr>\n",
       "  </tbody>\n",
       "</table>\n",
       "</div>"
      ],
      "text/plain": [
       "   id     0\n",
       "0   1  36.0\n",
       "1   2  36.0\n",
       "2   3  39.0\n",
       "3   4  36.0\n",
       "4   5   7.0"
      ]
     },
     "execution_count": 145,
     "metadata": {},
     "output_type": "execute_result"
    }
   ],
   "source": [
    "final=final[[\"id\",0]]\n",
    "final.head()"
   ]
  },
  {
   "cell_type": "code",
   "execution_count": 146,
   "metadata": {},
   "outputs": [
    {
     "data": {
      "text/html": [
       "<div>\n",
       "<style scoped>\n",
       "    .dataframe tbody tr th:only-of-type {\n",
       "        vertical-align: middle;\n",
       "    }\n",
       "\n",
       "    .dataframe tbody tr th {\n",
       "        vertical-align: top;\n",
       "    }\n",
       "\n",
       "    .dataframe thead th {\n",
       "        text-align: right;\n",
       "    }\n",
       "</style>\n",
       "<table border=\"1\" class=\"dataframe\">\n",
       "  <thead>\n",
       "    <tr style=\"text-align: right;\">\n",
       "      <th></th>\n",
       "      <th>id</th>\n",
       "      <th>demand_projection</th>\n",
       "    </tr>\n",
       "  </thead>\n",
       "  <tbody>\n",
       "    <tr>\n",
       "      <th>0</th>\n",
       "      <td>1</td>\n",
       "      <td>36.0</td>\n",
       "    </tr>\n",
       "    <tr>\n",
       "      <th>1</th>\n",
       "      <td>2</td>\n",
       "      <td>36.0</td>\n",
       "    </tr>\n",
       "    <tr>\n",
       "      <th>2</th>\n",
       "      <td>3</td>\n",
       "      <td>39.0</td>\n",
       "    </tr>\n",
       "    <tr>\n",
       "      <th>3</th>\n",
       "      <td>4</td>\n",
       "      <td>36.0</td>\n",
       "    </tr>\n",
       "    <tr>\n",
       "      <th>4</th>\n",
       "      <td>5</td>\n",
       "      <td>7.0</td>\n",
       "    </tr>\n",
       "  </tbody>\n",
       "</table>\n",
       "</div>"
      ],
      "text/plain": [
       "   id  demand_projection\n",
       "0   1               36.0\n",
       "1   2               36.0\n",
       "2   3               39.0\n",
       "3   4               36.0\n",
       "4   5                7.0"
      ]
     },
     "execution_count": 146,
     "metadata": {},
     "output_type": "execute_result"
    }
   ],
   "source": [
    "final.columns=[\"id\",\"demand_projection\"]\n",
    "final.head()"
   ]
  },
  {
   "cell_type": "code",
   "execution_count": 147,
   "metadata": {},
   "outputs": [
    {
     "data": {
      "text/plain": [
       "id                     int64\n",
       "demand_projection    float64\n",
       "dtype: object"
      ]
     },
     "execution_count": 147,
     "metadata": {},
     "output_type": "execute_result"
    }
   ],
   "source": [
    "final.dtypes"
   ]
  },
  {
   "cell_type": "code",
   "execution_count": 148,
   "metadata": {},
   "outputs": [],
   "source": [
    "final.demand_projection=final.demand_projection.astype(\"int64\")"
   ]
  },
  {
   "cell_type": "code",
   "execution_count": 149,
   "metadata": {},
   "outputs": [
    {
     "data": {
      "text/plain": [
       "3350"
      ]
     },
     "execution_count": 149,
     "metadata": {},
     "output_type": "execute_result"
    }
   ],
   "source": [
    "final.demand_projection.max()"
   ]
  },
  {
   "cell_type": "code",
   "execution_count": 150,
   "metadata": {},
   "outputs": [
    {
     "data": {
      "text/plain": [
       "(20815581, 2)"
      ]
     },
     "execution_count": 150,
     "metadata": {},
     "output_type": "execute_result"
    }
   ],
   "source": [
    "final.shape"
   ]
  },
  {
   "cell_type": "code",
   "execution_count": 151,
   "metadata": {},
   "outputs": [],
   "source": [
    "#Exporting the Final DataFrame to CSV for Upload\n",
    "final.to_csv(\"3223Saketh.csv\",index=False)"
   ]
  },
  {
   "cell_type": "markdown",
   "metadata": {},
   "source": [
    " ## Final RMSE: 18.5 "
   ]
  }
 ],
 "metadata": {
  "kernelspec": {
   "display_name": "Python 3",
   "language": "python",
   "name": "python3"
  },
  "language_info": {
   "codemirror_mode": {
    "name": "ipython",
    "version": 3
   },
   "file_extension": ".py",
   "mimetype": "text/x-python",
   "name": "python",
   "nbconvert_exporter": "python",
   "pygments_lexer": "ipython3",
   "version": "3.7.4"
  }
 },
 "nbformat": 4,
 "nbformat_minor": 2
}
